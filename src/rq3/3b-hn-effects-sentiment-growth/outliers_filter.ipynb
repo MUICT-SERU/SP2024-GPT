{
 "cells": [
  {
   "cell_type": "markdown",
   "id": "2b25c240",
   "metadata": {},
   "source": [
    "## Outliers removing"
   ]
  },
  {
   "cell_type": "code",
   "execution_count": 32,
   "id": "c72171fb",
   "metadata": {},
   "outputs": [],
   "source": [
    "import pandas as pd\n",
    "import numpy as np"
   ]
  },
  {
   "cell_type": "code",
   "execution_count": null,
   "id": "6ad972fa",
   "metadata": {},
   "outputs": [],
   "source": [
    "positive_df_path = '../dataset/Positive_stories.csv'\n",
    "neutral_df_path = '../dataset/Neutral_stories.csv'\n",
    "negative_df_path = '../dataset/Negative_stories.csv'"
   ]
  },
  {
   "cell_type": "markdown",
   "id": "e9d9a11d",
   "metadata": {},
   "source": [
    "## Remove the outliers within each group's dataset"
   ]
  },
  {
   "cell_type": "code",
   "execution_count": 34,
   "id": "61ce430e",
   "metadata": {},
   "outputs": [],
   "source": [
    "pos = pd.read_csv(positive_df_path)\n",
    "neu = pd.read_csv(neutral_df_path)\n",
    "neg = pd.read_csv(negative_df_path)"
   ]
  },
  {
   "cell_type": "code",
   "execution_count": 35,
   "id": "16588346",
   "metadata": {},
   "outputs": [],
   "source": [
    "#List of interesting metrics\n",
    "metric_list = ['stars','forks','commits','pull_requests','contributors']\n",
    "\n",
    "def remove_outliers(df,metric_of_interest):\n",
    "    col = metric_of_interest+'_at_submission'\n",
    "    Q1 = df[col].quantile(0.25)\n",
    "    Q3 = df[col].quantile(0.75)\n",
    "    IQR = Q3 - Q1\n",
    "    df.loc[(df[col] < (Q1 - 1.5 * IQR)) | (df[col] > (Q3 + 1.5 * IQR)), col] = -2\n",
    "\n",
    "    for i in range(1,6):\n",
    "        col = f\"{metric_of_interest}_month_{i}\"\n",
    "        Q1 = df[col].quantile(0.25)\n",
    "        Q3 = df[col].quantile(0.75)\n",
    "        IQR = Q3 - Q1\n",
    "        df.loc[(df[col] < (Q1 - 1.5 * IQR)) | (df[col] > (Q3 + 1.5 * IQR)), col] = -2\n",
    "\n",
    "def remove_all_outliers(df):\n",
    "    for metric in metric_list:\n",
    "        remove_outliers(df,metric)\n",
    "    return df[~(df == -2).any(axis=1)]\n",
    "\n",
    "pos = remove_all_outliers(pos)\n",
    "neu = remove_all_outliers(neu)\n",
    "neg = remove_all_outliers(neg)\n",
    "pos.to_csv(positive_df_path, index=False)\n",
    "neu.to_csv(neutral_df_path, index=False)\n",
    "neg.to_csv(negative_df_path, index=False)"
   ]
  }
 ],
 "metadata": {
  "kernelspec": {
   "display_name": "Python 3",
   "language": "python",
   "name": "python3"
  },
  "language_info": {
   "codemirror_mode": {
    "name": "ipython",
    "version": 3
   },
   "file_extension": ".py",
   "mimetype": "text/x-python",
   "name": "python",
   "nbconvert_exporter": "python",
   "pygments_lexer": "ipython3",
   "version": "3.11.9"
  }
 },
 "nbformat": 4,
 "nbformat_minor": 5
}
