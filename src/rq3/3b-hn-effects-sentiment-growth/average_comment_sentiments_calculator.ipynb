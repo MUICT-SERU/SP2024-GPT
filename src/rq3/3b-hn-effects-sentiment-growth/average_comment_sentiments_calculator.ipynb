{
 "cells": [
  {
   "cell_type": "code",
   "execution_count": 13,
   "metadata": {},
   "outputs": [],
   "source": [
    "import pandas as pd"
   ]
  },
  {
   "cell_type": "code",
   "execution_count": null,
   "metadata": {},
   "outputs": [],
   "source": [
    "story_df_path = '../dataset/hn_gh_ai_comment_sentiment.csv'\n",
    "comment_df_path = '../dataset/hn_gh_ai_story_sentiment.csv'\n",
    "output_file_path = '../dataset/sentiments_df.csv'"
   ]
  },
  {
   "cell_type": "markdown",
   "metadata": {},
   "source": [
    "## Find average sentiment of comments in each HN story"
   ]
  },
  {
   "cell_type": "code",
   "execution_count": 15,
   "metadata": {},
   "outputs": [],
   "source": [
    "def average_comments_sentiment(df_comments,df_stories):\n",
    "    return df_comments.groupby('story_id')['comment_sentiment'].mean()\n",
    "\n",
    "def find_overall_comment_sentiment(df_comments_path,df_stories_path,output_path,display_difference = False):\n",
    "    comments = pd.read_csv(df_comments_path)\n",
    "    stories = pd.read_csv(df_stories_path)\n",
    "    average = average_comments_sentiment(comments,stories)\n",
    "\n",
    "    if display_difference:\n",
    "        print('unique story ids in hn_gh_ai_story_sentiment.csv: ' + str(len(stories)))\n",
    "        print('unique story ids in hn_gh_ai_comment_sentiment.csv: ' + str(len(average)))\n",
    "\n",
    "    average_sentiments = []\n",
    "    for i in stories['discussion_id']:\n",
    "        if average.get(i) != None:\n",
    "            average_sentiments.append(average.get(i))\n",
    "        else:\n",
    "            average_sentiments.append(-2)\n",
    "\n",
    "    stories['average_comments_sentiment'] = average_sentiments\n",
    "    stories['overall_comments_sentiment'] = stories['average_comments_sentiment'].apply(lambda x: -2 if x < -1 else(-1 if x < -0.5 else( 1 if x > 0.5 else 0)))\n",
    "    stories.to_csv(output_path, index=False)"
   ]
  },
  {
   "cell_type": "code",
   "execution_count": 16,
   "metadata": {},
   "outputs": [],
   "source": [
    "find_overall_comment_sentiment(story_df_path,comment_df_path,output_file_path)"
   ]
  }
 ],
 "metadata": {
  "kernelspec": {
   "display_name": "Python 3",
   "language": "python",
   "name": "python3"
  },
  "language_info": {
   "codemirror_mode": {
    "name": "ipython",
    "version": 3
   },
   "file_extension": ".py",
   "mimetype": "text/x-python",
   "name": "python",
   "nbconvert_exporter": "python",
   "pygments_lexer": "ipython3",
   "version": "3.11.9"
  }
 },
 "nbformat": 4,
 "nbformat_minor": 2
}
