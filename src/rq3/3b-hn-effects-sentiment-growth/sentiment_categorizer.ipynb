{
 "cells": [
  {
   "cell_type": "code",
   "execution_count": 37,
   "metadata": {},
   "outputs": [],
   "source": [
    "import pandas as pd"
   ]
  },
  {
   "cell_type": "code",
   "execution_count": null,
   "metadata": {},
   "outputs": [],
   "source": [
    "merged_df_path = 'join_result.csv'\n",
    "positive_output_path = '../dataset/Positive_stories.csv'\n",
    "neutral_output_path = '../dataset/Neutral_stories.csv'\n",
    "negative_output_path = '../dataset/Negative_stories.csv'"
   ]
  },
  {
   "cell_type": "markdown",
   "metadata": {},
   "source": [
    "## Categorize project group based on their HN sentiment"
   ]
  },
  {
   "cell_type": "code",
   "execution_count": 39,
   "metadata": {},
   "outputs": [],
   "source": [
    "#Categorize sentiment groups and save them into separate files\n",
    "\n",
    "def categorizer(df, save_to_file = True):\n",
    "    neg = df[df['overall_comments_sentiment'] == -1]\n",
    "    neu = df[df['overall_comments_sentiment'] == 0]\n",
    "    pos = df[df['overall_comments_sentiment'] == 1]\n",
    "    print('Categorize result:')\n",
    "    print(f\"Negative: {len(neg)}\")\n",
    "    print(f\"Neutral: {len(neu)}\")\n",
    "    print(f\"Positive: {len(pos)}\")\n",
    "    print(f\"Total: {len(df)}\")\n",
    "\n",
    "    if save_to_file:\n",
    "        pos.to_csv(positive_output_path, index=False)\n",
    "        neu.to_csv(neutral_output_path, index=False)\n",
    "        neg.to_csv(negative_output_path, index=False)\n",
    "\n",
    "#Process (1,0,-1) sentiment into (Positive,Neutral,Negative) sentiment for clearer classification\n",
    "def process_sentiment(df,senti_column,output_column,output=''):\n",
    "    df[output_column] = df[senti_column].apply(\n",
    "        lambda x: 'Positve' if x == 1 else ('Neutral' if x == 0 else 'Negative')\n",
    "    )\n",
    "    \n",
    "    if output != '':\n",
    "        df.to_csv(output, index=False)"
   ]
  },
  {
   "cell_type": "code",
   "execution_count": 40,
   "metadata": {},
   "outputs": [
    {
     "name": "stdout",
     "output_type": "stream",
     "text": [
      "Categorize result:\n",
      "Negative: 23\n",
      "Neutral: 605\n",
      "Positive: 306\n",
      "Total: 934\n"
     ]
    }
   ],
   "source": [
    "join_df = pd.read_csv(merged_df_path)\n",
    "\n",
    "process_sentiment(join_df,'overall_comments_sentiment','sentiment',merged_df_path)\n",
    "categorizer(join_df)"
   ]
  }
 ],
 "metadata": {
  "kernelspec": {
   "display_name": "Python 3",
   "language": "python",
   "name": "python3"
  },
  "language_info": {
   "codemirror_mode": {
    "name": "ipython",
    "version": 3
   },
   "file_extension": ".py",
   "mimetype": "text/x-python",
   "name": "python",
   "nbconvert_exporter": "python",
   "pygments_lexer": "ipython3",
   "version": "3.11.9"
  }
 },
 "nbformat": 4,
 "nbformat_minor": 2
}
