{
 "cells": [
  {
   "cell_type": "code",
   "execution_count": 13,
   "metadata": {},
   "outputs": [],
   "source": [
    "import pandas as pd\n",
    "import numpy as np"
   ]
  },
  {
   "cell_type": "code",
   "execution_count": null,
   "metadata": {},
   "outputs": [],
   "source": [
    "merged_df_path = '../dataset/join_result.csv'"
   ]
  },
  {
   "cell_type": "markdown",
   "metadata": {},
   "source": [
    "## Perform various calculations on the merged dataset"
   ]
  },
  {
   "cell_type": "code",
   "execution_count": 15,
   "metadata": {},
   "outputs": [],
   "source": [
    "#List of interesting metrics\n",
    "metric_list = ['stars','forks','commits','pull_requests','contributors']\n",
    "\n",
    "#Accumulate metric value between each month\n",
    "def accumulate_metrics(df,metric_of_interest, amount_of_months, output=''):\n",
    "    for j in df['url']:\n",
    "        cumulative_value = df.loc[df['url'] == j,metric_of_interest + '_at_submission']\n",
    "        for i in range(1, amount_of_months+1):\n",
    "            cumulative_value += df[metric_of_interest + '_month_' +str(i)]\n",
    "            df.loc[df['url'] == j,metric_of_interest + '_month_' +str(i)] = cumulative_value\n",
    "    \n",
    "    if output != '':\n",
    "        df.to_csv(output, index=False)\n",
    "\n",
    "#Accumulate all metric value between each month except contributors\n",
    "def accumulate_all_metrics(df, amount_of_months, output_path):\n",
    "    for metric in metric_list:\n",
    "        if metric == 'contributors':\n",
    "            continue\n",
    "        accumulate_metrics(df,metric,amount_of_months,output_path)\n",
    "\n",
    "\n",
    "#Calculate distance of a metric between 2 time periods\n",
    "def calculate_dist(df, value1, value2):\n",
    "    return df[value2] - df[value1]\n",
    "\n",
    "#Create a column for distance of metric\n",
    "def create_dist(df, value1, value2, result_name):\n",
    "    df[result_name] = calculate_dist(df, value1, value2)\n",
    "\n",
    "#Calculate percent change of a metric between 2 time periods\n",
    "def calculate_percentage(df,value1,value2):\n",
    "    return ((df[value2]/df[value1]) * 100) - 100 \n",
    "\n",
    "#Create a column for percent change of metric\n",
    "def create_percentage(df,value1,value2, result_name):\n",
    "    percent_result = calculate_percentage(df,value1,value2)\n",
    "    #Replace inf value with 0\n",
    "    percent_result.replace([np.inf, -np.inf], np.nan, inplace=True)\n",
    "    percent_result.fillna(0, inplace=True)\n",
    "    df[result_name] = percent_result.apply(\n",
    "        lambda x: 0 if x == np.nan else x\n",
    "    )\n",
    "\n",
    "#Run all function above for all metrics between each months\n",
    "def create_dist_percent(df,amount_of_month,output=''):\n",
    "    for metric in metric_list:\n",
    "        create_dist(df, metric+'_at_submission', metric+'_month_1', 'dist_'+metric+'(submission-month_1)')\n",
    "        create_percentage(df, metric+'_at_submission', metric+'_month_1', 'percent_'+metric+'(submission-month_1)')\n",
    "    \n",
    "        for i in range(1,amount_of_month):\n",
    "            create_dist(df, metric+'_month_' + str(i), metric+'_month_' + str(i+1), 'dist_'+metric+'(month_' + str(i) + '-month_'+str(i+1)+')')\n",
    "            create_percentage(df, metric+'_month_' + str(i), metric+'_month_' + str(i+1), 'percent_'+metric+'(month_' + str(i) + '-month_'+str(i+1)+')')\n",
    "\n",
    "    if output != '':\n",
    "        df.to_csv(output, index=False)\n"
   ]
  },
  {
   "cell_type": "code",
   "execution_count": 16,
   "metadata": {},
   "outputs": [],
   "source": [
    "join_df = pd.read_csv(merged_df_path)\n",
    "\n",
    "accumulate_all_metrics(join_df,5,merged_df_path)\n",
    "create_dist_percent(join_df,5,merged_df_path)"
   ]
  }
 ],
 "metadata": {
  "kernelspec": {
   "display_name": "Python 3",
   "language": "python",
   "name": "python3"
  },
  "language_info": {
   "codemirror_mode": {
    "name": "ipython",
    "version": 3
   },
   "file_extension": ".py",
   "mimetype": "text/x-python",
   "name": "python",
   "nbconvert_exporter": "python",
   "pygments_lexer": "ipython3",
   "version": "3.11.9"
  }
 },
 "nbformat": 4,
 "nbformat_minor": 2
}
