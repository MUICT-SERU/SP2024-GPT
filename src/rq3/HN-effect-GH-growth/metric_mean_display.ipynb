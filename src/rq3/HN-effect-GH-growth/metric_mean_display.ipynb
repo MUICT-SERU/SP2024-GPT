{
 "cells": [
  {
   "cell_type": "code",
   "execution_count": null,
   "metadata": {},
   "outputs": [],
   "source": [
    "import pandas as pd\n",
    "import numpy as np\n",
    "from scipy import stats"
   ]
  },
  {
   "cell_type": "code",
   "execution_count": null,
   "metadata": {},
   "outputs": [],
   "source": [
    "def calculate_metric_mean(df,metric_of_interest):\n",
    "    result = []\n",
    "    result.append(df[metric_of_interest+'_at_submission'].mean())\n",
    "    for i in range(1,6):\n",
    "        result.append(df[metric_of_interest+'_month_'+str(i)].mean())\n",
    "    return result\n",
    "\n",
    "def display_metric_mean(df,metric_of_interest):\n",
    "    print('Mean of ' + metric_of_interest + ' each month:')\n",
    "    #print('  Submission: %.3f' % df[metric_of_interest + '_at_submission'].mean())\n",
    "    for i in range(1,6):\n",
    "        print('  Month ' + str(i) + ': %.3f' % df[metric_of_interest+'_month_'+str(i)].mean())\n",
    "\n",
    "def display_all_metric_mean(df):\n",
    "    display_metric_mean(df,'commits')\n",
    "    display_metric_mean(df,'contributors')\n",
    "    display_metric_mean(df,'stars')\n",
    "    display_metric_mean(df,'forks')\n",
    "    display_metric_mean(df,'pull_requests')"
   ]
  },
  {
   "cell_type": "code",
   "execution_count": null,
   "metadata": {},
   "outputs": [],
   "source": [
    "pos = pd.read_csv('Positive_stories.csv')\n",
    "neu = pd.read_csv('Neutral_stories.csv')\n",
    "neg = pd.read_csv('Negative_stories.csv')\n",
    "\n",
    "print('Positive Group')\n",
    "display_all_metric_mean(pos)\n",
    "print('\\nNeutral Group')\n",
    "display_all_metric_mean(neu)\n",
    "print('\\nNegative Group')\n",
    "display_all_metric_mean(neg)"
   ]
  }
 ],
 "metadata": {
  "kernelspec": {
   "display_name": "Python 3",
   "language": "python",
   "name": "python3"
  },
  "language_info": {
   "name": "python",
   "version": "3.11.9"
  }
 },
 "nbformat": 4,
 "nbformat_minor": 2
}
