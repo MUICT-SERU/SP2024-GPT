{
 "cells": [
  {
   "cell_type": "markdown",
   "id": "2b25c240",
   "metadata": {},
   "source": [
    "## Outlines removing"
   ]
  },
  {
   "cell_type": "code",
   "execution_count": null,
   "id": "c72171fb",
   "metadata": {},
   "outputs": [],
   "source": [
    "import pandas as pd\n",
    "import numpy as np"
   ]
  },
  {
   "cell_type": "code",
   "execution_count": null,
   "id": "61ce430e",
   "metadata": {},
   "outputs": [],
   "source": [
    "pos = pd.read_csv('Positive_stories.csv')\n",
    "neu = pd.read_csv('Neutral_stories.csv')\n",
    "neg = pd.read_csv('Negative_stories.csv')"
   ]
  },
  {
   "cell_type": "code",
   "execution_count": null,
   "id": "16588346",
   "metadata": {},
   "outputs": [],
   "source": [
    "def remove_outliners(df,metric_of_interest):\n",
    "    col = metric_of_interest+'_at_submission'\n",
    "    Q1 = df[col].quantile(0.25)\n",
    "    Q3 = df[col].quantile(0.75)\n",
    "    IQR = Q3 - Q1\n",
    "    df.loc[(df[col] < (Q1 - 1.5 * IQR)) | (df[col] > (Q3 + 1.5 * IQR)), col] = -2\n",
    "\n",
    "    for i in range(1,6):\n",
    "        col = f\"{metric_of_interest}_month_{i}\"\n",
    "        Q1 = df[col].quantile(0.25)\n",
    "        Q3 = df[col].quantile(0.75)\n",
    "        IQR = Q3 - Q1\n",
    "        df.loc[(df[col] < (Q1 - 1.5 * IQR)) | (df[col] > (Q3 + 1.5 * IQR)), col] = -2\n",
    "\n",
    "def remove_all_outliners(df):\n",
    "    remove_outliners(df,'commits')\n",
    "    remove_outliners(df,'contributors')\n",
    "    remove_outliners(df,'stars')\n",
    "    remove_outliners(df,'forks')\n",
    "    remove_outliners(df,'pull_requests')\n",
    "    return df[~(df == -2).any(axis=1)]\n",
    "\n",
    "pos = remove_all_outliners(pos)\n",
    "neu = remove_all_outliners(neu)\n",
    "neg = remove_all_outliners(neg)"
   ]
  }
 ],
 "metadata": {
  "kernelspec": {
   "display_name": "Python 3",
   "language": "python",
   "name": "python3"
  },
  "language_info": {
   "name": "python",
   "version": "3.11.9"
  }
 },
 "nbformat": 4,
 "nbformat_minor": 5
}
