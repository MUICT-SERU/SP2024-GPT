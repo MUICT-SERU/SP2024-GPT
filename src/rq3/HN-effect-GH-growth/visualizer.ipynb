{
 "cells": [
  {
   "cell_type": "code",
   "execution_count": null,
   "metadata": {},
   "outputs": [],
   "source": [
    "import pandas as pd\n",
    "import numpy as np\n",
    "import matplotlib.pyplot as plt\n",
    "import seaborn as sns"
   ]
  },
  {
   "cell_type": "code",
   "execution_count": null,
   "metadata": {},
   "outputs": [],
   "source": [
    "def sns_box_plot(df, metric_of_interest, save = False):\n",
    "    #Melt data into suitable format for plot\n",
    "    mdf = pd.melt(df,id_vars=['url'], value_name='distance',value_vars=[metric_of_interest+'_month_1', metric_of_interest+'_month_2', metric_of_interest+'_month_3', metric_of_interest+'_month_4', metric_of_interest+'_month_5'])\n",
    "    mdf['variable'] = mdf['variable'].apply(\n",
    "        lambda x: 'm 1' if x == metric_of_interest+'_month_1' else ('m 2' if x == metric_of_interest+'_month_2' else ('m 3' if x==metric_of_interest+'_month_3' else ('m 4' if x == metric_of_interest+'_month_4' else 'm 5')))\n",
    "    )\n",
    "    senti_df = df[['url','sentiment']]\n",
    "    mdf = mdf.join(senti_df.set_index('url'), on='url')\n",
    "\n",
    "    #Plot data\n",
    "    ax = sns.boxplot(x=mdf['variable'], y=mdf['distance'], hue=mdf['sentiment'], native_scale=True, palette=[ 'skyblue', 'lightgreen', 'tomato'], showfliers=False, showmeans=True)\n",
    "    ax = sns.pointplot(x=mdf['variable'], y=mdf['distance'], hue=mdf['sentiment'],dodge=.55 , errorbar=None,palette=['skyblue', 'lightgreen',  'tomato'], ax=ax)\n",
    "    ax.set_xlabel(None)\n",
    "    ax.set_ylabel(None)\n",
    "    ax.legend([], [], frameon=False)\n",
    "    plt.title(None)\n",
    "    if save:\n",
    "        plt.savefig(metric_of_interest+'.pdf')\n",
    "    plt.show()\n",
    "\n",
    "# Plot all metrics\n",
    "def display_plot_all(df, save = False):\n",
    "    sns_box_plot(df,'commits', save=save)\n",
    "    sns_box_plot(df,'pull_requests', save=save)\n",
    "    sns_box_plot(df,'stars',save=save)\n",
    "    sns_box_plot(df,'forks',save=save)\n",
    "    sns_box_plot(df,'contributors',save=save)"
   ]
  },
  {
   "cell_type": "code",
   "execution_count": null,
   "metadata": {},
   "outputs": [],
   "source": [
    "join_df = pd.read_csv('join_result-v4.csv')\n",
    "\n",
    "display_plot_all(save=True)"
   ]
  }
 ],
 "metadata": {
  "kernelspec": {
   "display_name": "Python 3",
   "language": "python",
   "name": "python3"
  },
  "language_info": {
   "name": "python",
   "version": "3.11.9"
  }
 },
 "nbformat": 4,
 "nbformat_minor": 2
}
