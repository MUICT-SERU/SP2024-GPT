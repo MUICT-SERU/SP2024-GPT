{
 "cells": [
  {
   "cell_type": "code",
   "execution_count": null,
   "metadata": {},
   "outputs": [],
   "source": [
    "import pandas as pd"
   ]
  },
  {
   "cell_type": "code",
   "execution_count": null,
   "metadata": {},
   "outputs": [],
   "source": [
    "#Categorize sentiment groups and save them into separate files\n",
    "\n",
    "def categorizer(df, save_to_file = True):\n",
    "    neg = df[df['overall_comments_sentiment'] == -1]\n",
    "    neu = df[df['overall_comments_sentiment'] == 0]\n",
    "    pos = df[df['overall_comments_sentiment'] == 1]\n",
    "    print('Categorize result:')\n",
    "    print(f\"Negative: {len(neg)}\")\n",
    "    print(f\"Neutral: {len(neu)}\")\n",
    "    print(f\"Positive: {len(pos)}\")\n",
    "    print(f\"Total: {len(df)}\")\n",
    "\n",
    "    if save_to_file:\n",
    "        pos.to_csv('Positive_stories.csv', index=False)\n",
    "        neu.to_csv('Neutral_stories.csv', index=False)\n",
    "        neg.to_csv('Negative_stories.csv', index=False)\n",
    "\n",
    "#Process (1,0,-1) sentiment into (Positive,Neutral,Negative) sentiment for clearer classification\n",
    "def process_sentiment(df,senti_column,output_column):\n",
    "    df[output_column] = df[senti_column].apply(\n",
    "        lambda x: 'Positve' if x == 1 else ('Neutral' if x == 0 else 'Negative')\n",
    "    )"
   ]
  },
  {
   "cell_type": "code",
   "execution_count": null,
   "metadata": {},
   "outputs": [],
   "source": [
    "join_df = pd.read_csv('join_result-v4.csv')\n",
    "\n",
    "process_sentiment(join_df,'overall_comments_sentiment','sentiment')\n",
    "categorizer(join_df)"
   ]
  }
 ],
 "metadata": {
  "kernelspec": {
   "display_name": "Python 3",
   "language": "python",
   "name": "python3"
  },
  "language_info": {
   "name": "python",
   "version": "3.11.9"
  }
 },
 "nbformat": 4,
 "nbformat_minor": 2
}
