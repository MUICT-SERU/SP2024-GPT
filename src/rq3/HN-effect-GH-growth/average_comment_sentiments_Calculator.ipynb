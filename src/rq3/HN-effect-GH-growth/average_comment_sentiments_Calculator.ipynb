{
 "cells": [
  {
   "cell_type": "code",
   "execution_count": null,
   "metadata": {},
   "outputs": [],
   "source": [
    "import pandas as pd"
   ]
  },
  {
   "cell_type": "markdown",
   "metadata": {},
   "source": [
    "Find average sentiment of comments in each HN story"
   ]
  },
  {
   "cell_type": "code",
   "execution_count": null,
   "metadata": {},
   "outputs": [],
   "source": [
    "def average_comments_sentiment(df_comments,df_stories):\n",
    "    return df_comments.groupby('story_id')['comment_sentiment'].mean()\n",
    "\n",
    "comments = pd.read_csv('hn_gh_ai_comment_sentiment.csv')\n",
    "stories = pd.read_csv('hn_gh_ai_story_sentiment.csv')\n",
    "average = average_comments_sentiment(comments,stories)\n",
    "\n",
    "print('unique story ids in hn_gh_ai_story_sentiment.csv: ' + str(len(stories)))\n",
    "print('unique story ids in hn_gh_ai_comment_sentiment.csv: ' + str(len(average)))\n",
    "\n",
    "\n",
    "average_sentiments = []\n",
    "for i in stories['discussion_id']:\n",
    "    if average.get(i) != None:\n",
    "        average_sentiments.append(average.get(i))\n",
    "    else:\n",
    "        average_sentiments.append(-2)\n",
    "\n",
    "stories['average_comments_sentiment'] = average_sentiments\n",
    "stories['overall_comments_sentiment'] = stories['average_comments_sentiment'].apply(lambda x: -2 if x < -1 else(-1 if x < -0.5 else( 1 if x > 0.5 else 0)))\n",
    "stories.to_csv('sentiments_v3.csv', index=False)"
   ]
  }
 ],
 "metadata": {
  "kernelspec": {
   "display_name": "Python 3",
   "language": "python",
   "name": "python3"
  },
  "language_info": {
   "name": "python",
   "version": "3.11.9"
  }
 },
 "nbformat": 4,
 "nbformat_minor": 2
}
