{
 "cells": [
  {
   "cell_type": "code",
   "execution_count": null,
   "metadata": {},
   "outputs": [],
   "source": [
    "import pandas as pd\n",
    "import numpy as np"
   ]
  },
  {
   "cell_type": "code",
   "execution_count": null,
   "metadata": {},
   "outputs": [],
   "source": [
    "#Accumulate metric value between each month\n",
    "def accumulate_metrics(df,metric_of_interest, amount_of_months):\n",
    "    for j in df['url']:\n",
    "        cumulative_value = df.loc[df['url'] == j,metric_of_interest + '_at_submission']\n",
    "        for i in range(1, amount_of_months+1):\n",
    "            cumulative_value += df[metric_of_interest + '_month_' +str(i)]\n",
    "            df.loc[df['url'] == j,metric_of_interest + '_month_' +str(i)] = cumulative_value\n",
    "    df.to_csv('join_result-v4.csv', index=False)\n",
    "\n",
    "#Accumulate all metric value between each month\n",
    "def accumulate_all_metrics(df, amount_of_months):\n",
    "    accumulate_metrics(df,'stars',amount_of_months)\n",
    "    accumulate_metrics(df,'forks',amount_of_months)\n",
    "    accumulate_metrics(df,'commits',amount_of_months)\n",
    "    accumulate_metrics(df,'pull_requests',amount_of_months)\n",
    "    accumulate_metrics(df,'contributors',amount_of_months)\n",
    "\n",
    "#Calculate distance of a metric between 2 time periods\n",
    "def calculate_dist(df, value1, value2):\n",
    "    return df[value2] - df[value1]\n",
    "\n",
    "#Create a column for distance of metric\n",
    "def create_dist(df, value1, value2, result_name):\n",
    "    df[result_name] = calculate_dist(df, value1, value2)\n",
    "\n",
    "#Calculate percent change of a metric between 2 time periods\n",
    "def calculate_percentage(df,value1,value2):\n",
    "    return ((df[value2]/df[value1]) * 100) - 100 \n",
    "\n",
    "#Create a column for percent change of metric\n",
    "def create_percentage(df,value1,value2, result_name):\n",
    "    percent_result = calculate_percentage(df,value1,value2)\n",
    "    #Replace inf value with 0\n",
    "    percent_result.replace([np.inf, -np.inf], np.nan, inplace=True)\n",
    "    percent_result.fillna(0, inplace=True)\n",
    "    df[result_name] = percent_result.apply(\n",
    "        lambda x: 0 if x == np.nan else x\n",
    "    )\n",
    "\n",
    "#Run all function above for all metrics between each months\n",
    "def create_dist_percent(df,amount_of_month):\n",
    "    create_dist(df, 'commits_at_submission', 'commits_month_1', 'dist_commits(submission-month_'+str(i+1)+')')\n",
    "    create_percentage(df, 'commits_at_submission', 'commits_month_1', 'dist_commits(submission-month_'+str(i+1)+')')\n",
    "    for i in range(1,amount_of_month):\n",
    "        create_dist(df, 'commits_month_' + str(i), 'commits_month_' + str(i+1), 'dist_commits(month_' + str(i) + '-month_'+str(i+1)+')')\n",
    "        create_dist(df, 'pull_requests_month_' + str(i), 'pull_requests_month_' + str(i+1), 'dist_pull_requests(month_' + str(i) + '-month_'+str(i+1)+')')\n",
    "        create_dist(df, 'stars_month_' + str(i), 'stars_month_' + str(i+1), 'dist_stars(month_' + str(i) + '-month_'+str(i+1)+')')\n",
    "        create_dist(df, 'forks_month_' + str(i), 'forks_month_' + str(i+1), 'dist_forks(month_' + str(i) + '-month_'+str(i+1)+')')\n",
    "        create_dist(df, 'contributors_month_' + str(i), 'contributors_month_' + str(i+1), 'dist_contributors(month_' + str(i) + '-month_'+str(i+1)+')')\n",
    "        create_percentage(df, 'commits_month_' + str(i), 'commits_month_' + str(i+1), 'dist_commits(month_' + str(i) + '-month_'+str(i+1)+')')\n",
    "        create_percentage(df, 'pull_requests_month_' + str(i), 'pull_requests_month_' + str(i+1), 'dist_pull_requests(month_' + str(i) + '-month_'+str(i+1)+')')\n",
    "        create_percentage(df, 'stars_month_' + str(i), 'stars_month_' + str(i+1), 'dist_stars(month_' + str(i) + '-month_'+str(i+1)+')')\n",
    "        create_percentage(df, 'forks_month_' + str(i), 'forks_month_' + str(i+1), 'dist_forks(month_' + str(i) + '-month_'+str(i+1)+')')\n",
    "        create_percentage(df, 'contributors_month_' + str(i), 'contributors_month_' + str(i+1), 'dist_contributors(month_' + str(i) + '-month_'+str(i+1)+')')\n"
   ]
  },
  {
   "cell_type": "code",
   "execution_count": null,
   "metadata": {},
   "outputs": [],
   "source": [
    "join_df = pd.read_csv('join_result-v4.csv')\n",
    "\n",
    "create_dist_percent(join_df,5)\n",
    "accumulate_all_metrics(join_df,5)"
   ]
  }
 ],
 "metadata": {
  "kernelspec": {
   "display_name": "Python 3",
   "language": "python",
   "name": "python3"
  },
  "language_info": {
   "name": "python",
   "version": "3.11.9"
  }
 },
 "nbformat": 4,
 "nbformat_minor": 2
}
