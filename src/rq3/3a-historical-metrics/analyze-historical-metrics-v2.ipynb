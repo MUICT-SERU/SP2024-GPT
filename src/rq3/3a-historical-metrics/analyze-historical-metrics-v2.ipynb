{
 "cells": [
  {
   "cell_type": "code",
   "execution_count": 22,
   "metadata": {},
   "outputs": [
    {
     "name": "stdout",
     "output_type": "stream",
     "text": [
      "Number of repositories: 1032\n",
      "19   2023-12-01\n",
      "20   2024-01-01\n",
      "21   2024-02-01\n",
      "22   2024-03-01\n",
      "23   2024-04-01\n",
      "Name: month, dtype: datetime64[ns]\n"
     ]
    },
    {
     "name": "stderr",
     "output_type": "stream",
     "text": [
      "Generating plots: 100%|██████████| 5/5 [00:06<00:00,  1.21s/it]\n"
     ]
    }
   ],
   "source": [
    "import pandas as pd\n",
    "import numpy as np\n",
    "import matplotlib.pyplot as plt\n",
    "import matplotlib.dates as mdates\n",
    "import seaborn as sns\n",
    "from tqdm import tqdm\n",
    "\n",
    "# Load CSV data\n",
    "df = pd.read_csv(\"hn-stories-gh-ai-metrics.csv\", parse_dates=[\"month\"])\n",
    "df.sort_values(by=[\"repo_full_name\", \"month\"], inplace=True)\n",
    "\n",
    "# List of metrics to analyze\n",
    "# metrics = [\"stars\", ]\n",
    "metrics = [\"stars\", \"forks\", \"commits\", \"PRs\", \"contributors\"]\n",
    "# metrics = ['cumulative_stars', 'cumulative_forks']\n",
    "\n",
    "# Drop rows with any 0 values in the metrics\n",
    "df = df[(df[metrics] != 0).all(axis=1)]\n",
    "\n",
    "# Drop rows with all 0 in the metrics\n",
    "# df = df[(df[metrics] != 0).any(axis=1)]\n",
    "\n",
    "# Drop rows with outlier values in the metrics\n",
    "# df = df[df[metrics].apply(lambda x: np.abs(x - x.mean()) / x.std() < 3).all(axis=1)]\n",
    "\n",
    "# Drop rows with outlier values in the metrics using IQR\n",
    "Q1 = df[metrics].quantile(0.25)\n",
    "Q3 = df[metrics].quantile(0.75)\n",
    "IQR = Q3 - Q1\n",
    "df = df[~((df[metrics] < (Q1 - 1.5 * IQR)) | (df[metrics] > (Q3 + 1.5 * IQR))).any(axis=1)]\n",
    "\n",
    "# Print size of the remaining dataset\n",
    "print(f\"Number of repositories: {df['repo_full_name'].nunique()}\")\n",
    "\n",
    "# Convert month to datetime format\n",
    "df[\"month\"] = pd.to_datetime(df[\"month\"], format=\"%Y-%m\", errors=\"coerce\")\n",
    "print(df[\"month\"].head())\n",
    "\n",
    "# Ensure month is sorted\n",
    "df = df.sort_values(by=\"month\")\n",
    "\n",
    "# Plot settings\n",
    "plt.rcParams.update({'font.size': 23})\n",
    "figsize = (8, 7)\n",
    "sns.set_context(\"notebook\", font_scale=2.5) # For boxplot\n",
    "\n",
    "def plot_metrics(df_plot, metric, kind):\n",
    "    plt.figure(figsize=figsize)\n",
    "\n",
    "    if kind == \"scatter\":\n",
    "        sns.scatterplot(data=df_plot, x=\"month\", y=metric, hue=\"repo_full_name\", palette=\"tab20\", edgecolor=None, alpha=0.5, legend=False)\n",
    "    elif kind == \"box\":\n",
    "        sns.boxplot(data=df_plot, x=\"month\", y=metric, showfliers=False)\n",
    "\n",
    "    plt.xticks(rotation=45)\n",
    "    plt.gca().xaxis.set_major_locator(plt.MaxNLocator(6))\n",
    "    # plt.xticks(rotation=45)\n",
    "    # plt.gca().xaxis.set_major_locator(mdates.YearLocator())  # Major ticks every year\n",
    "    # plt.gca().xaxis.set_minor_locator(mdates.MonthLocator(interval=2))  # Minor ticks every 2 months\n",
    "    # plt.gca().xaxis.set_major_formatter(mdates.DateFormatter(\"%Y %m\"))  # Format as \"YYYY MM\"\n",
    "\n",
    "\n",
    "    # Remove whitespace in metric text\n",
    "    metric = metric.replace(\"_\", \" \").title()\n",
    "\n",
    "    plt.ylabel(f\"Changes in {metric}\")\n",
    "    plt.xlabel('')\n",
    "    plt.grid(True)\n",
    "    plt.savefig(f\"rq3_{metric}_{kind}.pdf\", bbox_inches='tight')\n",
    "    plt.close()\n",
    "\n",
    "# Generate plots\n",
    "for metric in tqdm(metrics, desc=\"Generating plots\"):\n",
    "    plot_metrics(df, metric, \"scatter\")  # Raw metric scatter\n",
    "    plot_metrics(df, metric, \"box\")  # Raw metric boxplot\n"
   ]
  },
  {
   "cell_type": "code",
   "execution_count": null,
   "metadata": {},
   "outputs": [],
   "source": []
  }
 ],
 "metadata": {
  "kernelspec": {
   "display_name": "naist-2025",
   "language": "python",
   "name": "python3"
  },
  "language_info": {
   "codemirror_mode": {
    "name": "ipython",
    "version": 3
   },
   "file_extension": ".py",
   "mimetype": "text/x-python",
   "name": "python",
   "nbconvert_exporter": "python",
   "pygments_lexer": "ipython3",
   "version": "3.11.11"
  }
 },
 "nbformat": 4,
 "nbformat_minor": 2
}
