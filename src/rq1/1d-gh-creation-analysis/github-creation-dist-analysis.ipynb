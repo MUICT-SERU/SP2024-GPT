{
 "cells": [
  {
   "cell_type": "markdown",
   "metadata": {
    "id": "_BgsfxzLJNPL"
   },
   "source": [
    "# setup"
   ]
  },
  {
   "cell_type": "code",
   "execution_count": 1,
   "metadata": {
    "executionInfo": {
     "elapsed": 5956,
     "status": "ok",
     "timestamp": 1741138181564,
     "user": {
      "displayName": "Prachnachai Meakpaiboonwattana",
      "userId": "17764950184050269979"
     },
     "user_tz": -420
    },
    "id": "HwN-ckEaItFW"
   },
   "outputs": [],
   "source": [
    "# Hackernews GitHub Project Timeline Analysis\n",
    "import pandas as pd\n",
    "import numpy as np\n",
    "import matplotlib.pyplot as plt\n",
    "import seaborn as sns\n",
    "import requests\n",
    "from datetime import datetime\n",
    "import time\n",
    "from dateutil.parser import parse\n",
    "from tqdm.notebook import tqdm\n",
    "import re\n",
    "from matplotlib.dates import DateFormatter\n",
    "import matplotlib.dates as mdates\n",
    "from urllib.parse import urlparse\n",
    "import os\n",
    "\n",
    "# Set plot style\n",
    "plt.style.use('ggplot')\n",
    "sns.set(style=\"whitegrid\")\n"
   ]
  },
  {
   "cell_type": "code",
   "execution_count": 2,
   "metadata": {
    "executionInfo": {
     "elapsed": 59,
     "status": "ok",
     "timestamp": 1741138194432,
     "user": {
      "displayName": "Prachnachai Meakpaiboonwattana",
      "userId": "17764950184050269979"
     },
     "user_tz": -420
    },
    "id": "VIQn0XpXI29C"
   },
   "outputs": [],
   "source": [
    "# 1. Load the Hackernews data\n",
    "def load_hn_data(filepath):\n",
    "    \"\"\"Load Hackernews story data from CSV.\"\"\"\n",
    "    df = pd.read_csv(filepath)\n",
    "\n",
    "    # Convert Unix timestamp to datetime\n",
    "    df['submission_date'] = pd.to_datetime(df['date'], unit='s')\n",
    "\n",
    "    # Extract GitHub username and repo name from URL\n",
    "    def extract_github_info(url):\n",
    "        try:\n",
    "            if not isinstance(url, str) or 'github.com' not in url:\n",
    "                return None, None\n",
    "\n",
    "            parsed = urlparse(url)\n",
    "            if parsed.netloc != 'github.com':\n",
    "                return None, None\n",
    "\n",
    "            path_parts = [p for p in parsed.path.split('/') if p]\n",
    "            if len(path_parts) >= 2:\n",
    "                return path_parts[0], path_parts[1]\n",
    "            return None, None\n",
    "        except:\n",
    "            return None, None\n",
    "\n",
    "    # Apply extraction to create new columns\n",
    "    df[['github_username', 'github_repo']] = df.apply(\n",
    "        lambda row: pd.Series(extract_github_info(row['url'])), axis=1\n",
    "    )\n",
    "\n",
    "    # Filter only GitHub repositories\n",
    "    github_df = df[df['github_username'].notna() & df['github_repo'].notna()].copy()\n",
    "\n",
    "    # Create full repo name column (username/repo)\n",
    "    github_df['full_repo_name'] = github_df['github_username'] + '/' + github_df['github_repo']\n",
    "\n",
    "    return github_df\n"
   ]
  },
  {
   "cell_type": "code",
   "execution_count": 3,
   "metadata": {
    "executionInfo": {
     "elapsed": 11,
     "status": "ok",
     "timestamp": 1741138196034,
     "user": {
      "displayName": "Prachnachai Meakpaiboonwattana",
      "userId": "17764950184050269979"
     },
     "user_tz": -420
    },
    "id": "xVB0XPvqI4yw"
   },
   "outputs": [],
   "source": [
    "# 2. Fetch GitHub repository metadata\n",
    "def fetch_github_repo_metadata(repo_list, token=None):\n",
    "    \"\"\"\n",
    "    Fetch metadata for GitHub repositories, focusing on creation dates.\n",
    "\n",
    "    Args:\n",
    "        repo_list: List of repositories in format 'username/reponame'\n",
    "        token: GitHub API token (optional but recommended to avoid rate limits)\n",
    "\n",
    "    Returns:\n",
    "        DataFrame with repository metadata\n",
    "    \"\"\"\n",
    "    headers = {}\n",
    "    if token:\n",
    "        headers['Authorization'] = f'token {token}'\n",
    "    else:\n",
    "        print(\"Warning: No GitHub token provided. API rate limits may apply.\")\n",
    "\n",
    "    repo_data = []\n",
    "\n",
    "    for repo in tqdm(repo_list, desc=\"Fetching GitHub metadata\"):\n",
    "        try:\n",
    "            url = f'https://api.github.com/repos/{repo}'\n",
    "            response = requests.get(url, headers=headers)\n",
    "\n",
    "            if response.status_code == 200:\n",
    "                data = response.json()\n",
    "                repo_info = {\n",
    "                    'full_repo_name': repo,\n",
    "                    'created_at': data.get('created_at'),\n",
    "                    'updated_at': data.get('updated_at'),\n",
    "                    'stars': data.get('stargazers_count', 0),\n",
    "                    'forks': data.get('forks_count', 0),\n",
    "                    'language': data.get('language'),\n",
    "                    'description': data.get('description')\n",
    "                }\n",
    "                repo_data.append(repo_info)\n",
    "            else:\n",
    "                print(f\"Failed to fetch data for {repo}: {response.status_code}\")\n",
    "\n",
    "            # Respect GitHub's rate limit\n",
    "            time.sleep(1)\n",
    "\n",
    "        except Exception as e:\n",
    "            print(f\"Error fetching data for {repo}: {str(e)}\")\n",
    "\n",
    "    # Create DataFrame from collected data\n",
    "    metadata_df = pd.DataFrame(repo_data)\n",
    "\n",
    "    # Convert string dates to datetime\n",
    "    if not metadata_df.empty:\n",
    "        metadata_df['repo_created_at'] = pd.to_datetime(metadata_df['created_at'])\n",
    "        metadata_df['repo_updated_at'] = pd.to_datetime(metadata_df['updated_at'])\n",
    "\n",
    "    return metadata_df\n"
   ]
  },
  {
   "cell_type": "code",
   "execution_count": 4,
   "metadata": {
    "executionInfo": {
     "elapsed": 15,
     "status": "ok",
     "timestamp": 1741138197968,
     "user": {
      "displayName": "Prachnachai Meakpaiboonwattana",
      "userId": "17764950184050269979"
     },
     "user_tz": -420
    },
    "id": "b0Hr0vEnI7Oh"
   },
   "outputs": [],
   "source": [
    "# 3. Merge HN data with GitHub metadata\n",
    "def merge_datasets(hn_df, github_df):\n",
    "    \"\"\"Merge Hackernews data with GitHub repo metadata.\"\"\"\n",
    "    # Merge on the full repo name\n",
    "    merged_df = hn_df.merge(github_df, on='full_repo_name', how='left')\n",
    "\n",
    "    # Ensure both datetime fields have the same timezone handling\n",
    "    # They should both be UTC by now, but this is a safeguard\n",
    "    if 'submission_date' in merged_df.columns and 'repo_created_at' in merged_df.columns:\n",
    "        # Make sure both are timezone aware with UTC\n",
    "        if merged_df['submission_date'].dt.tz is None:\n",
    "            merged_df['submission_date'] = merged_df['submission_date'].dt.tz_localize('UTC')\n",
    "        if merged_df['repo_created_at'].dt.tz is None:\n",
    "            merged_df['repo_created_at'] = merged_df['repo_created_at'].dt.tz_localize('UTC')\n",
    "\n",
    "    # Calculate time difference between repo creation and HN submission\n",
    "    merged_df['days_difference'] = (merged_df['submission_date'] - merged_df['repo_created_at']).dt.total_seconds() / (60 * 60 * 24)\n",
    "\n",
    "    # Flag for submission timing relative to repo creation\n",
    "    merged_df['submitted_before_creation'] = merged_df['days_difference'] < 0\n",
    "\n",
    "    # Create time buckets\n",
    "    conditions = [\n",
    "        (merged_df['days_difference'] < 0),\n",
    "        (merged_df['days_difference'] == 0),\n",
    "        (merged_df['days_difference'] > 0) & (merged_df['days_difference'] <= 7),\n",
    "        (merged_df['days_difference'] > 7) & (merged_df['days_difference'] <= 30),\n",
    "        (merged_df['days_difference'] > 30) & (merged_df['days_difference'] <= 90),\n",
    "        (merged_df['days_difference'] > 90) & (merged_df['days_difference'] <= 365),\n",
    "        (merged_df['days_difference'] > 365)\n",
    "    ]\n",
    "\n",
    "    choices = [\n",
    "        'Before Creation',\n",
    "        'Same Day',\n",
    "        'First Week',\n",
    "        'First Month',\n",
    "        '1-3 Months',\n",
    "        '3-12 Months',\n",
    "        'Over a Year'\n",
    "    ]\n",
    "\n",
    "    merged_df['time_bucket'] = np.select(conditions, choices, default='Unknown')\n",
    "\n",
    "    return merged_df"
   ]
  },
  {
   "cell_type": "code",
   "execution_count": 15,
   "metadata": {
    "executionInfo": {
     "elapsed": 16,
     "status": "ok",
     "timestamp": 1741138718584,
     "user": {
      "displayName": "Prachnachai Meakpaiboonwattana",
      "userId": "17764950184050269979"
     },
     "user_tz": -420
    },
    "id": "7WGPZNn-I9CK"
   },
   "outputs": [],
   "source": [
    "plt.rcParams.update({'font.size': 25, 'xtick.labelsize': 25, 'ytick.labelsize': 20})\n",
    "fontsize = 25\n",
    "\n",
    "# 4. Visualizations\n",
    "def create_visualizations(merged_df):\n",
    "    \"\"\"Create various visualizations to analyze the data.\"\"\"\n",
    "    # Filter out rows with missing creation dates\n",
    "    df = merged_df.dropna(subset=['repo_created_at']).copy()\n",
    "\n",
    "    if len(df) == 0:\n",
    "        print(\"No valid data available for visualization after filtering.\")\n",
    "        return\n",
    "\n",
    "    # 1. Histogram of time differences\n",
    "    plt.figure(figsize=(14, 8))\n",
    "\n",
    "    # Focus on a reasonable range (-30 to 365 days)\n",
    "    filtered_df = df[(df['days_difference'] >= -300) & (df['days_difference'] <= 965)]\n",
    "\n",
    "    sns.histplot(filtered_df['days_difference'], bins=50, kde=True)\n",
    "    # plt.title('Time Difference Between GitHub Repo Creation and HN Submission', fontsize=fontsize)\n",
    "    plt.xticks(rotation=45, ticks=10,  fontsize=fontsize)\n",
    "    plt.xlabel('#Days', fontsize=fontsize)\n",
    "    plt.ylabel('Frequency', fontsize=fontsize)\n",
    "    plt.axvline(x=0, color='red', linestyle='--', label='Creation Date')\n",
    "    plt.legend()\n",
    "    plt.tight_layout()\n",
    "    plt.savefig('histogram_time_difference.pdf')\n",
    "    plt.show()\n",
    "\n",
    "    # 2. Scatter plot timeline\n",
    "    plt.figure(figsize=(14, 8))\n",
    "\n",
    "    # Filter extreme outliers for better visualization\n",
    "    scatter_df = df[(df['days_difference'] >= -300) & (df['days_difference'] <= 965)]\n",
    "\n",
    "    plt.scatter(scatter_df['repo_created_at'], scatter_df['days_difference'], alpha=0.7)\n",
    "    # plt.title('Time to HN Submission vs. GitHub Repo Creation Date', fontsize=fontsize)\n",
    "    plt.xticks(rotation=45, ticks=10, fontsize=fontsize)\n",
    "    plt.xlabel('GitHub Repository Creation Date', fontsize=fontsize)\n",
    "    plt.ylabel('Days Until HN Submission', fontsize=fontsize)\n",
    "    plt.axhline(y=0, color='red', linestyle='--', label='Same Day')\n",
    "    plt.legend()\n",
    "\n",
    "    # Format x-axis to show years\n",
    "    plt.gca().xaxis.set_major_formatter(mdates.DateFormatter('%Y'))\n",
    "    plt.gca().xaxis.set_major_locator(mdates.YearLocator())\n",
    "\n",
    "    plt.tight_layout()\n",
    "    plt.savefig('scatter_timeline.pdf')\n",
    "    plt.show()\n",
    "    return"
   ]
  },
  {
   "cell_type": "markdown",
   "metadata": {},
   "source": [
    "# running"
   ]
  },
  {
   "cell_type": "markdown",
   "metadata": {},
   "source": [
    "## setup"
   ]
  },
  {
   "cell_type": "code",
   "execution_count": 6,
   "metadata": {
    "colab": {
     "base_uri": "https://localhost:8080/"
    },
    "executionInfo": {
     "elapsed": 764,
     "status": "ok",
     "timestamp": 1741138726027,
     "user": {
      "displayName": "Prachnachai Meakpaiboonwattana",
      "userId": "17764950184050269979"
     },
     "user_tz": -420
    },
    "id": "nXGyIgS0I_DI",
    "outputId": "622b45c1-b1fb-42ee-ff3b-fc5968ed5403"
   },
   "outputs": [
    {
     "name": "stdout",
     "output_type": "stream",
     "text": [
      "Loading Hackernews data...\n",
      "Found 292 GitHub repositories in HN submissions\n"
     ]
    }
   ],
   "source": [
    "# 1. Load HN data\n",
    "print(\"Loading Hackernews data...\")\n",
    "HN_STORIES_GH_CSV = './rq1_stories_github_valid_projs_only_292.csv'\n",
    "hn_data = load_hn_data(HN_STORIES_GH_CSV)\n",
    "print(f\"Found {len(hn_data)} GitHub repositories in HN submissions\")"
   ]
  },
  {
   "cell_type": "code",
   "execution_count": 7,
   "metadata": {},
   "outputs": [],
   "source": [
    "# Configuration\n",
    "GITHUB_TOKEN = os.environ.get(\"GITHUB_TOKEN\")  # Set your GitHub token as an environment variable\n",
    "if not GITHUB_TOKEN:\n",
    "    raise ValueError(\"Please set GITHUB_TOKEN environment variable\")"
   ]
  },
  {
   "cell_type": "code",
   "execution_count": 8,
   "metadata": {
    "colab": {
     "base_uri": "https://localhost:8080/"
    },
    "executionInfo": {
     "elapsed": 837,
     "status": "ok",
     "timestamp": 1741138234550,
     "user": {
      "displayName": "Prachnachai Meakpaiboonwattana",
      "userId": "17764950184050269979"
     },
     "user_tz": -420
    },
    "id": "gatD3fYeMANa",
    "outputId": "b0a182f3-a310-4a01-d7e2-fc36989e858c"
   },
   "outputs": [
    {
     "name": "stdout",
     "output_type": "stream",
     "text": [
      "\n",
      "Fetching GitHub repository metadata...\n",
      "Loaded metadata for 290 repositories from cache\n"
     ]
    }
   ],
   "source": [
    "# 2. Fetch GitHub metadata\n",
    "print(\"\\nFetching GitHub repository metadata...\")\n",
    "repo_list = hn_data['full_repo_name'].unique().tolist()\n",
    "\n",
    "# Check if cached data exists\n",
    "HN_GH_METADATA_CSV = './rq3_github_metadata.csv'\n",
    "\n",
    "# Load existing csv\n",
    "if os.path.exists(HN_GH_METADATA_CSV):\n",
    "    github_data = pd.read_csv(HN_GH_METADATA_CSV)\n",
    "    github_data['repo_created_at'] = pd.to_datetime(github_data['repo_created_at'])\n",
    "    github_data['repo_updated_at'] = pd.to_datetime(github_data['repo_updated_at'])\n",
    "    print(f\"Loaded metadata for {len(github_data)} repositories from cache\")\n",
    "\n",
    "# Retrieve repository metadata\n",
    "else:\n",
    "    github_data = fetch_github_repo_metadata(repo_list, GITHUB_TOKEN)\n",
    "    github_data.to_csv(HN_GH_METADATA_CSV, index=False)"
   ]
  },
  {
   "cell_type": "code",
   "execution_count": 9,
   "metadata": {
    "colab": {
     "base_uri": "https://localhost:8080/"
    },
    "executionInfo": {
     "elapsed": 5,
     "status": "ok",
     "timestamp": 1741138239570,
     "user": {
      "displayName": "Prachnachai Meakpaiboonwattana",
      "userId": "17764950184050269979"
     },
     "user_tz": -420
    },
    "id": "L6QKwtaaMkwy",
    "outputId": "607a61ed-9445-4197-cdc7-62a5fbf8d051"
   },
   "outputs": [
    {
     "name": "stdout",
     "output_type": "stream",
     "text": [
      "\n",
      "Merging datasets...\n"
     ]
    }
   ],
   "source": [
    "# 3. Merge datasets\n",
    "print(\"\\nMerging datasets...\")\n",
    "merged_data = merge_datasets(hn_data, github_data)"
   ]
  },
  {
   "cell_type": "markdown",
   "metadata": {},
   "source": [
    "## basic stats"
   ]
  },
  {
   "cell_type": "code",
   "execution_count": 12,
   "metadata": {
    "colab": {
     "base_uri": "https://localhost:8080/",
     "height": 1000
    },
    "executionInfo": {
     "elapsed": 3215,
     "status": "ok",
     "timestamp": 1741138734346,
     "user": {
      "displayName": "Prachnachai Meakpaiboonwattana",
      "userId": "17764950184050269979"
     },
     "user_tz": -420
    },
    "id": "obzuanBQoc1S",
    "outputId": "e7276147-88d6-49bd-bc09-6e418c51331e"
   },
   "outputs": [
    {
     "name": "stdout",
     "output_type": "stream",
     "text": [
      "\n",
      "Basic statistics:\n",
      "Total repositories: 292\n",
      "Repositories with valid creation dates: 289\n",
      "Average days between creation and submission: 111.04\n",
      "Median days between creation and submission: 19.00\n",
      "\n",
      "Distribution of submissions by time bucket:\n",
      "time_bucket\n",
      "First Week         102\n",
      "First Month         63\n",
      "1-3 Months          55\n",
      "3-12 Months         48\n",
      "Over a Year         20\n",
      "Before Creation      1\n",
      "Name: count, dtype: int64\n"
     ]
    }
   ],
   "source": [
    "# Basic statistics\n",
    "valid_data = merged_data.dropna(subset=['repo_created_at'])\n",
    "print(\"\\nBasic statistics:\")\n",
    "print(f\"Total repositories: {len(merged_data)}\")\n",
    "print(f\"Repositories with valid creation dates: {len(valid_data)}\")\n",
    "\n",
    "print(f\"Average days between creation and submission: {valid_data['days_difference'].mean():.2f}\")\n",
    "print(f\"Median days between creation and submission: {valid_data['days_difference'].median():.2f}\")\n",
    "\n",
    "# Distribution of time buckets\n",
    "print(\"\\nDistribution of submissions by time bucket:\")\n",
    "print(valid_data['time_bucket'].value_counts(dropna=False))"
   ]
  },
  {
   "cell_type": "markdown",
   "metadata": {},
   "source": [
    "## visualization of github creation and HN submission distribution"
   ]
  },
  {
   "cell_type": "code",
   "execution_count": 16,
   "metadata": {},
   "outputs": [
    {
     "ename": "ValueError",
     "evalue": "'locs' must be 1D with shape (N,), but your input has shape ()",
     "output_type": "error",
     "traceback": [
      "\u001b[31m---------------------------------------------------------------------------\u001b[39m",
      "\u001b[31mValueError\u001b[39m                                Traceback (most recent call last)",
      "\u001b[36mCell\u001b[39m\u001b[36m \u001b[39m\u001b[32mIn[16]\u001b[39m\u001b[32m, line 1\u001b[39m\n\u001b[32m----> \u001b[39m\u001b[32m1\u001b[39m \u001b[43mcreate_visualizations\u001b[49m\u001b[43m(\u001b[49m\u001b[43mmerged_data\u001b[49m\u001b[43m)\u001b[49m\n",
      "\u001b[36mCell\u001b[39m\u001b[36m \u001b[39m\u001b[32mIn[15]\u001b[39m\u001b[32m, line 22\u001b[39m, in \u001b[36mcreate_visualizations\u001b[39m\u001b[34m(merged_df)\u001b[39m\n\u001b[32m     20\u001b[39m sns.histplot(filtered_df[\u001b[33m'\u001b[39m\u001b[33mdays_difference\u001b[39m\u001b[33m'\u001b[39m], bins=\u001b[32m50\u001b[39m, kde=\u001b[38;5;28;01mTrue\u001b[39;00m)\n\u001b[32m     21\u001b[39m \u001b[38;5;66;03m# plt.title('Time Difference Between GitHub Repo Creation and HN Submission', fontsize=fontsize)\u001b[39;00m\n\u001b[32m---> \u001b[39m\u001b[32m22\u001b[39m \u001b[43mplt\u001b[49m\u001b[43m.\u001b[49m\u001b[43mxticks\u001b[49m\u001b[43m(\u001b[49m\u001b[43mrotation\u001b[49m\u001b[43m=\u001b[49m\u001b[32;43m45\u001b[39;49m\u001b[43m,\u001b[49m\u001b[43m \u001b[49m\u001b[43mticks\u001b[49m\u001b[43m=\u001b[49m\u001b[32;43m10\u001b[39;49m\u001b[43m,\u001b[49m\u001b[43m  \u001b[49m\u001b[43mfontsize\u001b[49m\u001b[43m=\u001b[49m\u001b[43mfontsize\u001b[49m\u001b[43m)\u001b[49m\n\u001b[32m     23\u001b[39m plt.xlabel(\u001b[33m'\u001b[39m\u001b[33m#Days\u001b[39m\u001b[33m'\u001b[39m, fontsize=fontsize)\n\u001b[32m     24\u001b[39m plt.ylabel(\u001b[33m'\u001b[39m\u001b[33mFrequency\u001b[39m\u001b[33m'\u001b[39m, fontsize=fontsize)\n",
      "\u001b[36mFile \u001b[39m\u001b[32mc:\\Users\\prach\\miniconda3\\envs\\naist-2025\\Lib\\site-packages\\matplotlib\\pyplot.py:2231\u001b[39m, in \u001b[36mxticks\u001b[39m\u001b[34m(ticks, labels, minor, **kwargs)\u001b[39m\n\u001b[32m   2228\u001b[39m         \u001b[38;5;28;01mraise\u001b[39;00m \u001b[38;5;167;01mTypeError\u001b[39;00m(\u001b[33m\"\u001b[39m\u001b[33mxticks(): Parameter \u001b[39m\u001b[33m'\u001b[39m\u001b[33mlabels\u001b[39m\u001b[33m'\u001b[39m\u001b[33m can\u001b[39m\u001b[33m'\u001b[39m\u001b[33mt be set \u001b[39m\u001b[33m\"\u001b[39m\n\u001b[32m   2229\u001b[39m                         \u001b[33m\"\u001b[39m\u001b[33mwithout setting \u001b[39m\u001b[33m'\u001b[39m\u001b[33mticks\u001b[39m\u001b[33m'\u001b[39m\u001b[33m\"\u001b[39m)\n\u001b[32m   2230\u001b[39m \u001b[38;5;28;01melse\u001b[39;00m:\n\u001b[32m-> \u001b[39m\u001b[32m2231\u001b[39m     locs = \u001b[43max\u001b[49m\u001b[43m.\u001b[49m\u001b[43mset_xticks\u001b[49m\u001b[43m(\u001b[49m\u001b[43mticks\u001b[49m\u001b[43m,\u001b[49m\u001b[43m \u001b[49m\u001b[43mminor\u001b[49m\u001b[43m=\u001b[49m\u001b[43mminor\u001b[49m\u001b[43m)\u001b[49m\n\u001b[32m   2233\u001b[39m labels_out: \u001b[38;5;28mlist\u001b[39m[Text] = []\n\u001b[32m   2234\u001b[39m \u001b[38;5;28;01mif\u001b[39;00m labels \u001b[38;5;129;01mis\u001b[39;00m \u001b[38;5;28;01mNone\u001b[39;00m:\n",
      "\u001b[36mFile \u001b[39m\u001b[32mc:\\Users\\prach\\miniconda3\\envs\\naist-2025\\Lib\\site-packages\\matplotlib\\axes\\_base.py:74\u001b[39m, in \u001b[36m_axis_method_wrapper.__set_name__.<locals>.wrapper\u001b[39m\u001b[34m(self, *args, **kwargs)\u001b[39m\n\u001b[32m     73\u001b[39m \u001b[38;5;28;01mdef\u001b[39;00m\u001b[38;5;250m \u001b[39m\u001b[34mwrapper\u001b[39m(\u001b[38;5;28mself\u001b[39m, *args, **kwargs):\n\u001b[32m---> \u001b[39m\u001b[32m74\u001b[39m     \u001b[38;5;28;01mreturn\u001b[39;00m \u001b[43mget_method\u001b[49m\u001b[43m(\u001b[49m\u001b[38;5;28;43mself\u001b[39;49m\u001b[43m)\u001b[49m\u001b[43m(\u001b[49m\u001b[43m*\u001b[49m\u001b[43margs\u001b[49m\u001b[43m,\u001b[49m\u001b[43m \u001b[49m\u001b[43m*\u001b[49m\u001b[43m*\u001b[49m\u001b[43mkwargs\u001b[49m\u001b[43m)\u001b[49m\n",
      "\u001b[36mFile \u001b[39m\u001b[32mc:\\Users\\prach\\miniconda3\\envs\\naist-2025\\Lib\\site-packages\\matplotlib\\axis.py:2218\u001b[39m, in \u001b[36mAxis.set_ticks\u001b[39m\u001b[34m(self, ticks, labels, minor, **kwargs)\u001b[39m\n\u001b[32m   2213\u001b[39m     first_key = \u001b[38;5;28mnext\u001b[39m(\u001b[38;5;28miter\u001b[39m(kwargs))\n\u001b[32m   2214\u001b[39m     \u001b[38;5;28;01mraise\u001b[39;00m \u001b[38;5;167;01mValueError\u001b[39;00m(\n\u001b[32m   2215\u001b[39m         \u001b[33mf\u001b[39m\u001b[33m\"\u001b[39m\u001b[33mIncorrect use of keyword argument \u001b[39m\u001b[38;5;132;01m{\u001b[39;00mfirst_key\u001b[38;5;132;01m!r}\u001b[39;00m\u001b[33m. Keyword arguments \u001b[39m\u001b[33m\"\u001b[39m\n\u001b[32m   2216\u001b[39m         \u001b[33m\"\u001b[39m\u001b[33mother than \u001b[39m\u001b[33m'\u001b[39m\u001b[33mminor\u001b[39m\u001b[33m'\u001b[39m\u001b[33m modify the text labels and can only be used if \u001b[39m\u001b[33m\"\u001b[39m\n\u001b[32m   2217\u001b[39m         \u001b[33m\"\u001b[39m\u001b[33m'\u001b[39m\u001b[33mlabels\u001b[39m\u001b[33m'\u001b[39m\u001b[33m are passed as well.\u001b[39m\u001b[33m\"\u001b[39m)\n\u001b[32m-> \u001b[39m\u001b[32m2218\u001b[39m result = \u001b[38;5;28;43mself\u001b[39;49m\u001b[43m.\u001b[49m\u001b[43m_set_tick_locations\u001b[49m\u001b[43m(\u001b[49m\u001b[43mticks\u001b[49m\u001b[43m,\u001b[49m\u001b[43m \u001b[49m\u001b[43mminor\u001b[49m\u001b[43m=\u001b[49m\u001b[43mminor\u001b[49m\u001b[43m)\u001b[49m\n\u001b[32m   2219\u001b[39m \u001b[38;5;28;01mif\u001b[39;00m labels \u001b[38;5;129;01mis\u001b[39;00m \u001b[38;5;129;01mnot\u001b[39;00m \u001b[38;5;28;01mNone\u001b[39;00m:\n\u001b[32m   2220\u001b[39m     \u001b[38;5;28mself\u001b[39m.set_ticklabels(labels, minor=minor, **kwargs)\n",
      "\u001b[36mFile \u001b[39m\u001b[32mc:\\Users\\prach\\miniconda3\\envs\\naist-2025\\Lib\\site-packages\\matplotlib\\axis.py:2159\u001b[39m, in \u001b[36mAxis._set_tick_locations\u001b[39m\u001b[34m(self, ticks, minor)\u001b[39m\n\u001b[32m   2154\u001b[39m \u001b[38;5;28;01mdef\u001b[39;00m\u001b[38;5;250m \u001b[39m\u001b[34m_set_tick_locations\u001b[39m(\u001b[38;5;28mself\u001b[39m, ticks, *, minor=\u001b[38;5;28;01mFalse\u001b[39;00m):\n\u001b[32m   2155\u001b[39m     \u001b[38;5;66;03m# see docstring of set_ticks\u001b[39;00m\n\u001b[32m   2156\u001b[39m \n\u001b[32m   2157\u001b[39m     \u001b[38;5;66;03m# XXX if the user changes units, the information will be lost here\u001b[39;00m\n\u001b[32m   2158\u001b[39m     ticks = \u001b[38;5;28mself\u001b[39m.convert_units(ticks)\n\u001b[32m-> \u001b[39m\u001b[32m2159\u001b[39m     locator = \u001b[43mmticker\u001b[49m\u001b[43m.\u001b[49m\u001b[43mFixedLocator\u001b[49m\u001b[43m(\u001b[49m\u001b[43mticks\u001b[49m\u001b[43m)\u001b[49m  \u001b[38;5;66;03m# validate ticks early.\u001b[39;00m\n\u001b[32m   2160\u001b[39m     \u001b[38;5;28;01mif\u001b[39;00m \u001b[38;5;28mlen\u001b[39m(ticks):\n\u001b[32m   2161\u001b[39m         \u001b[38;5;28;01mfor\u001b[39;00m axis \u001b[38;5;129;01min\u001b[39;00m \u001b[38;5;28mself\u001b[39m._get_shared_axis():\n\u001b[32m   2162\u001b[39m             \u001b[38;5;66;03m# set_view_interval maintains any preexisting inversion.\u001b[39;00m\n",
      "\u001b[36mFile \u001b[39m\u001b[32mc:\\Users\\prach\\miniconda3\\envs\\naist-2025\\Lib\\site-packages\\matplotlib\\ticker.py:1781\u001b[39m, in \u001b[36mFixedLocator.__init__\u001b[39m\u001b[34m(self, locs, nbins)\u001b[39m\n\u001b[32m   1779\u001b[39m \u001b[38;5;28;01mdef\u001b[39;00m\u001b[38;5;250m \u001b[39m\u001b[34m__init__\u001b[39m(\u001b[38;5;28mself\u001b[39m, locs, nbins=\u001b[38;5;28;01mNone\u001b[39;00m):\n\u001b[32m   1780\u001b[39m     \u001b[38;5;28mself\u001b[39m.locs = np.asarray(locs)\n\u001b[32m-> \u001b[39m\u001b[32m1781\u001b[39m     \u001b[43m_api\u001b[49m\u001b[43m.\u001b[49m\u001b[43mcheck_shape\u001b[49m\u001b[43m(\u001b[49m\u001b[43m(\u001b[49m\u001b[38;5;28;43;01mNone\u001b[39;49;00m\u001b[43m,\u001b[49m\u001b[43m)\u001b[49m\u001b[43m,\u001b[49m\u001b[43m \u001b[49m\u001b[43mlocs\u001b[49m\u001b[43m=\u001b[49m\u001b[38;5;28;43mself\u001b[39;49m\u001b[43m.\u001b[49m\u001b[43mlocs\u001b[49m\u001b[43m)\u001b[49m\n\u001b[32m   1782\u001b[39m     \u001b[38;5;28mself\u001b[39m.nbins = \u001b[38;5;28mmax\u001b[39m(nbins, \u001b[32m2\u001b[39m) \u001b[38;5;28;01mif\u001b[39;00m nbins \u001b[38;5;129;01mis\u001b[39;00m \u001b[38;5;129;01mnot\u001b[39;00m \u001b[38;5;28;01mNone\u001b[39;00m \u001b[38;5;28;01melse\u001b[39;00m \u001b[38;5;28;01mNone\u001b[39;00m\n",
      "\u001b[36mFile \u001b[39m\u001b[32mc:\\Users\\prach\\miniconda3\\envs\\naist-2025\\Lib\\site-packages\\matplotlib\\_api\\__init__.py:162\u001b[39m, in \u001b[36mcheck_shape\u001b[39m\u001b[34m(shape, **kwargs)\u001b[39m\n\u001b[32m    159\u001b[39m \u001b[38;5;28;01mif\u001b[39;00m \u001b[38;5;28mlen\u001b[39m(shape) == \u001b[32m1\u001b[39m:\n\u001b[32m    160\u001b[39m     text_shape += \u001b[33m\"\u001b[39m\u001b[33m,\u001b[39m\u001b[33m\"\u001b[39m\n\u001b[32m--> \u001b[39m\u001b[32m162\u001b[39m \u001b[38;5;28;01mraise\u001b[39;00m \u001b[38;5;167;01mValueError\u001b[39;00m(\n\u001b[32m    163\u001b[39m     \u001b[33mf\u001b[39m\u001b[33m\"\u001b[39m\u001b[38;5;132;01m{\u001b[39;00mk\u001b[38;5;132;01m!r}\u001b[39;00m\u001b[33m must be \u001b[39m\u001b[38;5;132;01m{\u001b[39;00m\u001b[38;5;28mlen\u001b[39m(shape)\u001b[38;5;132;01m}\u001b[39;00m\u001b[33mD with shape (\u001b[39m\u001b[38;5;132;01m{\u001b[39;00mtext_shape\u001b[38;5;132;01m}\u001b[39;00m\u001b[33m), \u001b[39m\u001b[33m\"\u001b[39m\n\u001b[32m    164\u001b[39m     \u001b[33mf\u001b[39m\u001b[33m\"\u001b[39m\u001b[33mbut your input has shape \u001b[39m\u001b[38;5;132;01m{\u001b[39;00mv.shape\u001b[38;5;132;01m}\u001b[39;00m\u001b[33m\"\u001b[39m\n\u001b[32m    165\u001b[39m )\n",
      "\u001b[31mValueError\u001b[39m: 'locs' must be 1D with shape (N,), but your input has shape ()"
     ]
    },
    {
     "data": {
      "image/png": "[encoded data removed]",
      "text/plain": [
       "<Figure size 1400x800 with 1 Axes>"
      ]
     },
     "metadata": {},
     "output_type": "display_data"
    }
   ],
   "source": [
    "create_visualizations(merged_data)"
   ]
  },
  {
   "cell_type": "code",
   "execution_count": null,
   "metadata": {
    "colab": {
     "base_uri": "https://localhost:8080/",
     "height": 394
    },
    "executionInfo": {
     "elapsed": 70,
     "status": "error",
     "timestamp": 1740998976873,
     "user": {
      "displayName": "Prachnachai Meakpaiboonwattana",
      "userId": "17764950184050269979"
     },
     "user_tz": -420
    },
    "id": "TA27m9rrn7FB",
    "outputId": "65340ab7-1653-44a7-bf88-0f46e3e0f126"
   },
   "outputs": [],
   "source": [
    "# Save the final dataset\n",
    "HN_GH_METADATA_STORY_MERGED_CSV = '/content/drive/MyDrive/datasets/muict-naist-senior/rq3/rq3_creation_submission/rq3_github_hn_merged.csv'\n",
    "merged_data.to_csv(HN_GH_METADATA_STORY_MERGED_CSV, index=False)\n",
    "print(f'\\nAnalysis complete! Results saved to {HN_GH_METADATA_STORY_MERGED_CSV}')"
   ]
  }
 ],
 "metadata": {
  "colab": {
   "authorship_tag": "ABX9TyN8kk8YxZX5b5u0dt9lAl23",
   "mount_file_id": "1D3xkypVPEiyNuUFJrEHSippJmGoMO2A8",
   "provenance": []
  },
  "kernelspec": {
   "display_name": "naist-2025",
   "language": "python",
   "name": "python3"
  },
  "language_info": {
   "codemirror_mode": {
    "name": "ipython",
    "version": 3
   },
   "file_extension": ".py",
   "mimetype": "text/x-python",
   "name": "python",
   "nbconvert_exporter": "python",
   "pygments_lexer": "ipython3",
   "version": "3.11.11"
  }
 },
 "nbformat": 4,
 "nbformat_minor": 0
}
