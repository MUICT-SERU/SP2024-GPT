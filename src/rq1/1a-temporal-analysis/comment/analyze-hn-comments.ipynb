{
 "cells": [
  {
   "cell_type": "markdown",
   "metadata": {
    "id": "l1Zwp9Pr7ZdF"
   },
   "source": [
    "# counting"
   ]
  },
  {
   "cell_type": "code",
   "execution_count": null,
   "metadata": {
    "id": "c4KU_O-E7ZdH"
   },
   "outputs": [],
   "source": [
    "def count_comments(data):\n",
    "    # Iterate over the 'stories' list within the data dictionary\n",
    "    return len(data['stories']), sum(len(story['kids_text']) for story in data['stories'])"
   ]
  },
  {
   "cell_type": "markdown",
   "metadata": {
    "id": "JBUOlaUz7ZdF"
   },
   "source": [
    "## github projects only"
   ]
  },
  {
   "cell_type": "code",
   "execution_count": null,
   "metadata": {
    "colab": {
     "base_uri": "https://localhost:8080/"
    },
    "executionInfo": {
     "elapsed": 2315,
     "status": "ok",
     "timestamp": 1738603723490,
     "user": {
      "displayName": "Prachnachai Meakpaiboonwattana",
      "userId": "17764950184050269979"
     },
     "user_tz": -540
    },
    "id": "kpdaA4Nl7ZdH",
    "outputId": "f011bde2-3f90-42d0-dc7d-7e9119e975ca"
   },
   "outputs": [
    {
     "name": "stdout",
     "output_type": "stream",
     "text": [
      "Total number of stories: 4645\n",
      "Total number of comments: 78541\n"
     ]
    }
   ],
   "source": [
    "import json\n",
    "\n",
    "HN_COMMENTS_JSON = ''\n",
    "with open(HN_COMMENTS_JSON) as f:\n",
    "    data = json.load(f)\n",
    "\n",
    "num_stories, num_comments = count_comments(data)\n",
    "print(f\"Total number of stories: {num_stories}\")\n",
    "print(f\"Total number of comments: {num_comments}\")"
   ]
  },
  {
   "cell_type": "markdown",
   "metadata": {
    "id": "KNirhKV_7ZdI"
   },
   "source": [
    "## all discussions"
   ]
  },
  {
   "cell_type": "code",
   "execution_count": null,
   "metadata": {
    "colab": {
     "base_uri": "https://localhost:8080/"
    },
    "executionInfo": {
     "elapsed": 1119,
     "status": "ok",
     "timestamp": 1738603735271,
     "user": {
      "displayName": "Prachnachai Meakpaiboonwattana",
      "userId": "17764950184050269979"
     },
     "user_tz": -540
    },
    "id": "gQVIsLug7ZdI",
    "outputId": "2cf91f20-8f1e-4223-b4c4-5b2cd11336ec"
   },
   "outputs": [
    {
     "name": "stdout",
     "output_type": "stream",
     "text": [
      "Total number of stories: 4645\n",
      "Total number of comments: 78541\n"
     ]
    }
   ],
   "source": [
    "HN_COMMENTS_GH_JSON = ''\n",
    "with open(HN_COMMENTS_GH_JSON) as f:\n",
    "    data = json.load(f)\n",
    "\n",
    "num_stories, num_comments = count_comments(data)\n",
    "print(f\"Total number of stories: {num_stories}\")\n",
    "print(f\"Total number of comments: {num_comments}\")"
   ]
  },
  {
   "cell_type": "markdown",
   "metadata": {
    "id": "4IbUz4F77ZdM"
   },
   "source": [
    "# show comments statistics"
   ]
  },
  {
   "cell_type": "code",
   "execution_count": null,
   "metadata": {
    "id": "FXa4Z5n97ZdM"
   },
   "outputs": [],
   "source": [
    "import pandas as pd\n",
    "\n",
    "def get_comment_statistics(csv_file):\n",
    "    # Load the CSV file\n",
    "    df = pd.read_csv(csv_file)\n",
    "\n",
    "    # Group by 'discussion_id' and count the number of comments in each story\n",
    "    comment_counts = df.groupby('discussion_id').size().reset_index(name='num_comments')\n",
    "\n",
    "    # Calculate overall statistics\n",
    "    total_stories = comment_counts['discussion_id'].nunique()\n",
    "    total_comments = comment_counts['num_comments'].sum()\n",
    "    max_comments = comment_counts['num_comments'].max()\n",
    "    min_comments = comment_counts['num_comments'].min()\n",
    "    avg_comments = comment_counts['num_comments'].mean()\n",
    "\n",
    "    # Print the statistics\n",
    "    print(f\"Total number of stories: {total_stories}\")\n",
    "    print(f\"Total number of comments: {total_comments}\")\n",
    "    print(f\"Average number of comments per story: {avg_comments:.2f}\")\n",
    "    print(f\"Max number of comments in a story: {max_comments}\")\n",
    "    print(f\"Min number of comments in a story: {min_comments}\")\n",
    "\n",
    "    # Return the DataFrame containing the number of comments per story\n",
    "    return comment_counts\n"
   ]
  },
  {
   "cell_type": "code",
   "execution_count": null,
   "metadata": {
    "id": "xGexL_rk7ZdN",
    "outputId": "49fa8a0a-3ea8-4065-ee0b-037ffcde37c8"
   },
   "outputs": [
    {
     "name": "stdout",
     "output_type": "stream",
     "text": [
      "Total number of stories: 348\n",
      "Total number of comments: 4707\n",
      "Average number of comments per story: 13.53\n",
      "Max number of comments in a story: 98\n",
      "Min number of comments in a story: 1\n",
      "     discussion_id  num_comments\n",
      "0         31355348             7\n",
      "1         31405976             6\n",
      "2         31846593            41\n",
      "3         32458048            10\n",
      "4         32628761            21\n",
      "..             ...           ...\n",
      "343       40226976             9\n",
      "344       40237305             4\n",
      "345       40252569            42\n",
      "346       40285986             3\n",
      "347       40291780             4\n",
      "\n",
      "[348 rows x 2 columns]\n"
     ]
    }
   ],
   "source": [
    "# Example usage:\n",
    "HN_COMMENTS_GH_CSV = ''\n",
    "comment_stats = get_comment_statistics(HN_COMMENTS_GH_CSV)\n",
    "print(comment_stats)"
   ]
  },
  {
   "cell_type": "markdown",
   "metadata": {
    "id": "BgtVIgyO7ZdO"
   },
   "source": [
    "# plotting comment trend histogram"
   ]
  },
  {
   "cell_type": "markdown",
   "metadata": {
    "id": "WqDu_LFk7ZdO"
   },
   "source": [
    "## setup method"
   ]
  },
  {
   "cell_type": "code",
   "execution_count": 8,
   "metadata": {
    "executionInfo": {
     "elapsed": 31,
     "status": "ok",
     "timestamp": 1741090415158,
     "user": {
      "displayName": "Prachnachai Meakpaiboonwattana",
      "userId": "17764950184050269979"
     },
     "user_tz": -420
    },
    "id": "94tpbZDx7ZdP"
   },
   "outputs": [],
   "source": [
    "import pandas as pd\n",
    "import matplotlib.pyplot as plt\n",
    "import numpy as np\n",
    "from datetime import datetime\n",
    "\n",
    "plt.rcParams.update({'font.size': 18})\n",
    "\n",
    "def plot_comments_histogram(title, csv_file_path, bin_size_days=7):\n",
    "    \"\"\"\n",
    "    Plot a histogram of AI discussion comments over time from a CSV file.\n",
    "\n",
    "    Args:\n",
    "    title (str): graph title\n",
    "    csv_file_path (str): The path to the CSV file.\n",
    "    bin_size_days (int): The size of each bin in days.\n",
    "    \"\"\"\n",
    "    # Read the CSV file\n",
    "    df = pd.read_csv(csv_file_path)\n",
    "\n",
    "    # Convert comment_date to datetime\n",
    "    df['comment_date'] = pd.to_datetime(df['comment_date'])\n",
    "\n",
    "    # Create the histogram\n",
    "    fig, ax = plt.subplots(figsize=(15, 7))\n",
    "\n",
    "    # Calculate bin edges from May 2022 to May 2024\n",
    "    start_date = pd.Timestamp('2022-05-08').timestamp()\n",
    "    end_date = pd.Timestamp('2024-05-09').timestamp()\n",
    "\n",
    "    # Based on the start_id and end_id defined above\n",
    "    total_days = (end_date - start_date) / (24*60*60)\n",
    "    bins = int(total_days / bin_size_days)\n",
    "\n",
    "    n, bins, patches = ax.hist(df['comment_date'], bins=bins, edgecolor='black')\n",
    "\n",
    "    # Format x-axis ticks as dates\n",
    "    plt.gca().xaxis.set_major_formatter(plt.matplotlib.dates.DateFormatter('%Y-%m-%d'))\n",
    "\n",
    "    # Set the number of ticks on the x-axis\n",
    "    num_ticks = 12\n",
    "    ax.xaxis.set_major_locator(plt.matplotlib.dates.AutoDateLocator(maxticks=num_ticks))\n",
    "\n",
    "    # plt.title(f'{title} (Bin Size: {bin_size_days} days)')\n",
    "    plt.xlabel('Date')\n",
    "    plt.ylabel('Number of Comments')\n",
    "    plt.xticks(rotation=45)\n",
    "\n",
    "    # Add vertical line for ChatGPT release\n",
    "    chatgpt_release = pd.Timestamp('2022-11-30')\n",
    "    plt.axvline(x=chatgpt_release, color='r', linestyle='--', label='ChatGPT Release')\n",
    "    plt.legend()\n",
    "    plt.grid(visible=True, alpha=0.7)\n",
    "\n",
    "    plt.tight_layout()\n",
    "    plt.show()\n"
   ]
  },
  {
   "cell_type": "markdown",
   "metadata": {
    "id": "NGib3Q4n7ZdP"
   },
   "source": [
    "## github projects only"
   ]
  },
  {
   "cell_type": "code",
   "execution_count": 9,
   "metadata": {
    "colab": {
     "base_uri": "https://localhost:8080/",
     "height": 589
    },
    "executionInfo": {
     "elapsed": 630,
     "status": "ok",
     "timestamp": 1741090416706,
     "user": {
      "displayName": "Prachnachai Meakpaiboonwattana",
      "userId": "17764950184050269979"
     },
     "user_tz": -420
    },
    "id": "gP73lGSe7ZdP",
    "outputId": "274152f8-cced-4c02-937a-f8d69098ce51"
   },
   "outputs": [
    {
     "data": {
      "image/png": "[encoded data removed]",
      "text/plain": [
       "<Figure size 1500x700 with 1 Axes>"
      ]
     },
     "metadata": {},
     "output_type": "display_data"
    }
   ],
   "source": [
    "HN_COMMENTS_GH_CSV = '/content/drive/MyDrive/datasets/muict-naist-senior/rq1/rq1_freq_analysis/rq1_comments_github_clean.csv'\n",
    "HN_COMMENTS_CSV = ''\n",
    "plot_comments_histogram(\n",
    "    # \"HN Discussion comment trend histogram (GitHub projects only)\",\n",
    "    \"\",\n",
    "    HN_COMMENTS_GH_CSV,\n",
    "    bin_size_days=7)\n",
    "# plot_comments_histogram(\"HN Discussion comment trend histogram (full)\", HN_COMMENTS_CSV, bin_size_days=7)\n",
    "# plot_comments_histogram(\"HN Discussion comment trend histogram (github projects only)\", HN_COMMENTS_GH_CSV, bin_size_days=30)"
   ]
  },
  {
   "cell_type": "markdown",
   "metadata": {
    "id": "rtZHoT0z7ZdP"
   },
   "source": [
    "# calculating trend statistics"
   ]
  },
  {
   "cell_type": "code",
   "execution_count": null,
   "metadata": {
    "id": "a_DgMFJP7ZdQ"
   },
   "outputs": [],
   "source": []
  }
 ],
 "metadata": {
  "colab": {
   "provenance": []
  },
  "kernelspec": {
   "display_name": "naist-2025",
   "language": "python",
   "name": "python3"
  },
  "language_info": {
   "codemirror_mode": {
    "name": "ipython",
    "version": 3
   },
   "file_extension": ".py",
   "mimetype": "text/x-python",
   "name": "python",
   "nbconvert_exporter": "python",
   "pygments_lexer": "ipython3",
   "version": "3.11.11"
  },
  "widgets": {
   "application/vnd.jupyter.widget-state+json": {
    "091864ef0d774e948eb9c5c38fec7312": {
     "model_module": "@jupyter-widgets/base",
     "model_module_version": "1.2.0",
     "model_name": "LayoutModel",
     "state": {
      "_model_module": "@jupyter-widgets/base",
      "_model_module_version": "1.2.0",
      "_model_name": "LayoutModel",
      "_view_count": null,
      "_view_module": "@jupyter-widgets/base",
      "_view_module_version": "1.2.0",
      "_view_name": "LayoutView",
      "align_content": null,
      "align_items": null,
      "align_self": null,
      "border": null,
      "bottom": null,
      "display": null,
      "flex": null,
      "flex_flow": null,
      "grid_area": null,
      "grid_auto_columns": null,
      "grid_auto_flow": null,
      "grid_auto_rows": null,
      "grid_column": null,
      "grid_gap": null,
      "grid_row": null,
      "grid_template_areas": null,
      "grid_template_columns": null,
      "grid_template_rows": null,
      "height": null,
      "justify_content": null,
      "justify_items": null,
      "left": null,
      "margin": null,
      "max_height": null,
      "max_width": null,
      "min_height": null,
      "min_width": null,
      "object_fit": null,
      "object_position": null,
      "order": null,
      "overflow": null,
      "overflow_x": null,
      "overflow_y": null,
      "padding": null,
      "right": null,
      "top": null,
      "visibility": null,
      "width": null
     }
    },
    "26727644192846149bb7ecb77991eb62": {
     "model_module": "@jupyter-widgets/controls",
     "model_module_version": "1.5.0",
     "model_name": "HTMLModel",
     "state": {
      "_dom_classes": [],
      "_model_module": "@jupyter-widgets/controls",
      "_model_module_version": "1.5.0",
      "_model_name": "HTMLModel",
      "_view_count": null,
      "_view_module": "@jupyter-widgets/controls",
      "_view_module_version": "1.5.0",
      "_view_name": "HTMLView",
      "description": "",
      "description_tooltip": null,
      "layout": "IPY_MODEL_091864ef0d774e948eb9c5c38fec7312",
      "placeholder": "​",
      "style": "IPY_MODEL_812dc904f9e944afae9e0969c77c3f12",
      "value": "Fetching comments from stories: 100%"
     }
    },
    "5d6d4312fa3a402b8870edf7dd8441e6": {
     "model_module": "@jupyter-widgets/controls",
     "model_module_version": "1.5.0",
     "model_name": "FloatProgressModel",
     "state": {
      "_dom_classes": [],
      "_model_module": "@jupyter-widgets/controls",
      "_model_module_version": "1.5.0",
      "_model_name": "FloatProgressModel",
      "_view_count": null,
      "_view_module": "@jupyter-widgets/controls",
      "_view_module_version": "1.5.0",
      "_view_name": "ProgressView",
      "bar_style": "success",
      "description": "",
      "description_tooltip": null,
      "layout": "IPY_MODEL_e6a0a333c04e4caa9da67358afacc7d0",
      "max": 4645,
      "min": 0,
      "orientation": "horizontal",
      "style": "IPY_MODEL_5e0d96d728c64e34bfbc641e75222778",
      "value": 4645
     }
    },
    "5e0d96d728c64e34bfbc641e75222778": {
     "model_module": "@jupyter-widgets/controls",
     "model_module_version": "1.5.0",
     "model_name": "ProgressStyleModel",
     "state": {
      "_model_module": "@jupyter-widgets/controls",
      "_model_module_version": "1.5.0",
      "_model_name": "ProgressStyleModel",
      "_view_count": null,
      "_view_module": "@jupyter-widgets/base",
      "_view_module_version": "1.2.0",
      "_view_name": "StyleView",
      "bar_color": null,
      "description_width": ""
     }
    },
    "61c25ebec163464eb063205a6e8e82fd": {
     "model_module": "@jupyter-widgets/controls",
     "model_module_version": "1.5.0",
     "model_name": "DescriptionStyleModel",
     "state": {
      "_model_module": "@jupyter-widgets/controls",
      "_model_module_version": "1.5.0",
      "_model_name": "DescriptionStyleModel",
      "_view_count": null,
      "_view_module": "@jupyter-widgets/base",
      "_view_module_version": "1.2.0",
      "_view_name": "StyleView",
      "description_width": ""
     }
    },
    "6d8210d1959143c7aed23923676af9a8": {
     "model_module": "@jupyter-widgets/controls",
     "model_module_version": "1.5.0",
     "model_name": "HBoxModel",
     "state": {
      "_dom_classes": [],
      "_model_module": "@jupyter-widgets/controls",
      "_model_module_version": "1.5.0",
      "_model_name": "HBoxModel",
      "_view_count": null,
      "_view_module": "@jupyter-widgets/controls",
      "_view_module_version": "1.5.0",
      "_view_name": "HBoxView",
      "box_style": "",
      "children": [
       "IPY_MODEL_26727644192846149bb7ecb77991eb62",
       "IPY_MODEL_5d6d4312fa3a402b8870edf7dd8441e6",
       "IPY_MODEL_81b7b73495d84afdb3669505fa63c8ef"
      ],
      "layout": "IPY_MODEL_f6c71260cbd74859a81092d1cbd1c463"
     }
    },
    "812dc904f9e944afae9e0969c77c3f12": {
     "model_module": "@jupyter-widgets/controls",
     "model_module_version": "1.5.0",
     "model_name": "DescriptionStyleModel",
     "state": {
      "_model_module": "@jupyter-widgets/controls",
      "_model_module_version": "1.5.0",
      "_model_name": "DescriptionStyleModel",
      "_view_count": null,
      "_view_module": "@jupyter-widgets/base",
      "_view_module_version": "1.2.0",
      "_view_name": "StyleView",
      "description_width": ""
     }
    },
    "81b7b73495d84afdb3669505fa63c8ef": {
     "model_module": "@jupyter-widgets/controls",
     "model_module_version": "1.5.0",
     "model_name": "HTMLModel",
     "state": {
      "_dom_classes": [],
      "_model_module": "@jupyter-widgets/controls",
      "_model_module_version": "1.5.0",
      "_model_name": "HTMLModel",
      "_view_count": null,
      "_view_module": "@jupyter-widgets/controls",
      "_view_module_version": "1.5.0",
      "_view_name": "HTMLView",
      "description": "",
      "description_tooltip": null,
      "layout": "IPY_MODEL_ae60f918021d480e82a1b671b0634f14",
      "placeholder": "​",
      "style": "IPY_MODEL_61c25ebec163464eb063205a6e8e82fd",
      "value": " 4645/4645 [00:00&lt;00:00, 250479.45it/s]"
     }
    },
    "ae60f918021d480e82a1b671b0634f14": {
     "model_module": "@jupyter-widgets/base",
     "model_module_version": "1.2.0",
     "model_name": "LayoutModel",
     "state": {
      "_model_module": "@jupyter-widgets/base",
      "_model_module_version": "1.2.0",
      "_model_name": "LayoutModel",
      "_view_count": null,
      "_view_module": "@jupyter-widgets/base",
      "_view_module_version": "1.2.0",
      "_view_name": "LayoutView",
      "align_content": null,
      "align_items": null,
      "align_self": null,
      "border": null,
      "bottom": null,
      "display": null,
      "flex": null,
      "flex_flow": null,
      "grid_area": null,
      "grid_auto_columns": null,
      "grid_auto_flow": null,
      "grid_auto_rows": null,
      "grid_column": null,
      "grid_gap": null,
      "grid_row": null,
      "grid_template_areas": null,
      "grid_template_columns": null,
      "grid_template_rows": null,
      "height": null,
      "justify_content": null,
      "justify_items": null,
      "left": null,
      "margin": null,
      "max_height": null,
      "max_width": null,
      "min_height": null,
      "min_width": null,
      "object_fit": null,
      "object_position": null,
      "order": null,
      "overflow": null,
      "overflow_x": null,
      "overflow_y": null,
      "padding": null,
      "right": null,
      "top": null,
      "visibility": null,
      "width": null
     }
    },
    "e6a0a333c04e4caa9da67358afacc7d0": {
     "model_module": "@jupyter-widgets/base",
     "model_module_version": "1.2.0",
     "model_name": "LayoutModel",
     "state": {
      "_model_module": "@jupyter-widgets/base",
      "_model_module_version": "1.2.0",
      "_model_name": "LayoutModel",
      "_view_count": null,
      "_view_module": "@jupyter-widgets/base",
      "_view_module_version": "1.2.0",
      "_view_name": "LayoutView",
      "align_content": null,
      "align_items": null,
      "align_self": null,
      "border": null,
      "bottom": null,
      "display": null,
      "flex": null,
      "flex_flow": null,
      "grid_area": null,
      "grid_auto_columns": null,
      "grid_auto_flow": null,
      "grid_auto_rows": null,
      "grid_column": null,
      "grid_gap": null,
      "grid_row": null,
      "grid_template_areas": null,
      "grid_template_columns": null,
      "grid_template_rows": null,
      "height": null,
      "justify_content": null,
      "justify_items": null,
      "left": null,
      "margin": null,
      "max_height": null,
      "max_width": null,
      "min_height": null,
      "min_width": null,
      "object_fit": null,
      "object_position": null,
      "order": null,
      "overflow": null,
      "overflow_x": null,
      "overflow_y": null,
      "padding": null,
      "right": null,
      "top": null,
      "visibility": null,
      "width": null
     }
    },
    "f6c71260cbd74859a81092d1cbd1c463": {
     "model_module": "@jupyter-widgets/base",
     "model_module_version": "1.2.0",
     "model_name": "LayoutModel",
     "state": {
      "_model_module": "@jupyter-widgets/base",
      "_model_module_version": "1.2.0",
      "_model_name": "LayoutModel",
      "_view_count": null,
      "_view_module": "@jupyter-widgets/base",
      "_view_module_version": "1.2.0",
      "_view_name": "LayoutView",
      "align_content": null,
      "align_items": null,
      "align_self": null,
      "border": null,
      "bottom": null,
      "display": null,
      "flex": null,
      "flex_flow": null,
      "grid_area": null,
      "grid_auto_columns": null,
      "grid_auto_flow": null,
      "grid_auto_rows": null,
      "grid_column": null,
      "grid_gap": null,
      "grid_row": null,
      "grid_template_areas": null,
      "grid_template_columns": null,
      "grid_template_rows": null,
      "height": null,
      "justify_content": null,
      "justify_items": null,
      "left": null,
      "margin": null,
      "max_height": null,
      "max_width": null,
      "min_height": null,
      "min_width": null,
      "object_fit": null,
      "object_position": null,
      "order": null,
      "overflow": null,
      "overflow_x": null,
      "overflow_y": null,
      "padding": null,
      "right": null,
      "top": null,
      "visibility": null,
      "width": null
     }
    }
   }
  }
 },
 "nbformat": 4,
 "nbformat_minor": 0
}
