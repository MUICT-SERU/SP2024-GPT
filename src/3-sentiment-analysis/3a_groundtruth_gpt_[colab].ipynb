{
  "cells": [
    {
      "cell_type": "markdown",
      "metadata": {
        "id": "3doOoR-dPgKV"
      },
      "source": [
        "# Sentiment analysis using OpenAI"
      ]
    },
    {
      "cell_type": "markdown",
      "metadata": {
        "id": "eZ0OSUD-PgKX"
      },
      "source": [
        "setup paths and common variables"
      ]
    },
    {
      "cell_type": "code",
      "execution_count": null,
      "metadata": {
        "colab": {
          "base_uri": "https://localhost:8080/"
        },
        "id": "24S3QA_GPgKY",
        "outputId": "6bcd6715-6a5e-47a1-a056-ea2a8b09b541"
      },
      "outputs": [
        {
          "output_type": "stream",
          "name": "stdout",
          "text": [
            "Requirement already satisfied: openai in /usr/local/lib/python3.10/dist-packages (1.51.2)\n",
            "Requirement already satisfied: pandas in /usr/local/lib/python3.10/dist-packages (2.2.2)\n",
            "Requirement already satisfied: tqdm in /usr/local/lib/python3.10/dist-packages (4.66.5)\n",
            "Requirement already satisfied: anyio<5,>=3.5.0 in /usr/local/lib/python3.10/dist-packages (from openai) (3.7.1)\n",
            "Requirement already satisfied: distro<2,>=1.7.0 in /usr/lib/python3/dist-packages (from openai) (1.7.0)\n",
            "Requirement already satisfied: httpx<1,>=0.23.0 in /usr/local/lib/python3.10/dist-packages (from openai) (0.27.2)\n",
            "Requirement already satisfied: jiter<1,>=0.4.0 in /usr/local/lib/python3.10/dist-packages (from openai) (0.6.1)\n",
            "Requirement already satisfied: pydantic<3,>=1.9.0 in /usr/local/lib/python3.10/dist-packages (from openai) (2.9.2)\n",
            "Requirement already satisfied: sniffio in /usr/local/lib/python3.10/dist-packages (from openai) (1.3.1)\n",
            "Requirement already satisfied: typing-extensions<5,>=4.11 in /usr/local/lib/python3.10/dist-packages (from openai) (4.12.2)\n",
            "Requirement already satisfied: numpy>=1.22.4 in /usr/local/lib/python3.10/dist-packages (from pandas) (1.26.4)\n",
            "Requirement already satisfied: python-dateutil>=2.8.2 in /usr/local/lib/python3.10/dist-packages (from pandas) (2.8.2)\n",
            "Requirement already satisfied: pytz>=2020.1 in /usr/local/lib/python3.10/dist-packages (from pandas) (2024.2)\n",
            "Requirement already satisfied: tzdata>=2022.7 in /usr/local/lib/python3.10/dist-packages (from pandas) (2024.2)\n",
            "Requirement already satisfied: idna>=2.8 in /usr/local/lib/python3.10/dist-packages (from anyio<5,>=3.5.0->openai) (3.10)\n",
            "Requirement already satisfied: exceptiongroup in /usr/local/lib/python3.10/dist-packages (from anyio<5,>=3.5.0->openai) (1.2.2)\n",
            "Requirement already satisfied: certifi in /usr/local/lib/python3.10/dist-packages (from httpx<1,>=0.23.0->openai) (2024.8.30)\n",
            "Requirement already satisfied: httpcore==1.* in /usr/local/lib/python3.10/dist-packages (from httpx<1,>=0.23.0->openai) (1.0.6)\n",
            "Requirement already satisfied: h11<0.15,>=0.13 in /usr/local/lib/python3.10/dist-packages (from httpcore==1.*->httpx<1,>=0.23.0->openai) (0.14.0)\n",
            "Requirement already satisfied: annotated-types>=0.6.0 in /usr/local/lib/python3.10/dist-packages (from pydantic<3,>=1.9.0->openai) (0.7.0)\n",
            "Requirement already satisfied: pydantic-core==2.23.4 in /usr/local/lib/python3.10/dist-packages (from pydantic<3,>=1.9.0->openai) (2.23.4)\n",
            "Requirement already satisfied: six>=1.5 in /usr/local/lib/python3.10/dist-packages (from python-dateutil>=2.8.2->pandas) (1.16.0)\n"
          ]
        }
      ],
      "source": [
        "!pip install openai pandas tqdm"
      ]
    },
    {
      "cell_type": "code",
      "execution_count": null,
      "metadata": {
        "id": "TT7kHjngPgKY"
      },
      "outputs": [],
      "source": [
        "import openai\n",
        "import csv\n",
        "import pandas as pd\n",
        "import time\n",
        "import random\n",
        "from tqdm.notebook import tqdm"
      ]
    },
    {
      "cell_type": "markdown",
      "metadata": {
        "id": "6HtQbdIvPgKZ"
      },
      "source": [
        "check whether API key exists (should be in your environment variable)"
      ]
    },
    {
      "cell_type": "code",
      "source": [
        "# Initialize the OpenAI client with your API key\n",
        "from google.colab import userdata\n",
        "api_key = userdata.get('OPENAI_API_KEY')\n",
        "client = openai.OpenAI(api_key=api_key)"
      ],
      "metadata": {
        "id": "6L-cudK9PyHS"
      },
      "execution_count": null,
      "outputs": []
    },
    {
      "cell_type": "markdown",
      "source": [
        "prompt template"
      ],
      "metadata": {
        "id": "9qZ_oH_xP0mK"
      }
    },
    {
      "cell_type": "code",
      "execution_count": null,
      "metadata": {
        "id": "4xkuOib3PgKa"
      },
      "outputs": [],
      "source": [
        "prompt_template = '''\n",
        "Analyze the sentiment of the Hacker News comment with the context of the AI-related story title found below under \"Input text:\" whether the comment is negative (-1), neutral (0), or positive (1) towards AI. First understand the meaning of the story title, then understand the meaning of the comment in the context of the story title, then analyze the sentiment of the comments in the context of the story title whether the comment is negative (-1), neutral (0), or positive (1) towards AI, and conclude the sentiment of the comment to only one best sentiment type.\n",
        "\n",
        "Sentiment can contain only a single number either:\n",
        "  -1 (for negative towards AI)\n",
        "  0 (for neutral towards AI)\n",
        "  1 (for positive towards AI)\n",
        "\n",
        "# Input text:\n",
        "Story title: \"\"\"\n",
        "{title}\n",
        "\"\"\"\n",
        "Comment: \"\"\"\n",
        "{comment}\n",
        "\"\"\"\n",
        "\n",
        "# Output format:\n",
        "Sentiment: your_sentiment\n",
        "Explanation: your_explanation_for_the_sentiment\n",
        "'''"
      ]
    },
    {
      "cell_type": "code",
      "execution_count": null,
      "metadata": {
        "id": "PF8psm2OPgKb"
      },
      "outputs": [],
      "source": [
        "def get_sentiment_and_explanation(title, comment):\n",
        "    prompt = prompt_template.format(title=title, comment=comment)\n",
        "\n",
        "    # Repeats for 3 times in case of errors\n",
        "    for _ in range(3):\n",
        "        try:\n",
        "            # Call the OpenAI API with the prompt\n",
        "            response = client.chat.completions.create(\n",
        "                model=\"gpt-4o-mini\",\n",
        "                messages=[\n",
        "                    {\"role\": \"system\", \"content\": \"You are an expert at analyzing comments.\"},\n",
        "                    {\"role\": \"user\", \"content\": prompt}\n",
        "                ],\n",
        "                max_tokens=150,\n",
        "                temperature=0.5\n",
        "            )\n",
        "            # Extract the text from the response\n",
        "            result = response.choices[0].message.content.strip()\n",
        "\n",
        "            # Extract sentiment and explanation from the response text\n",
        "            sentiment_line = next((line for line in result.split('\\n') if \"Sentiment:\" in line), None)\n",
        "            explanation_line = next((line for line in result.split('\\n') if \"Explanation:\" in line), None)\n",
        "\n",
        "            if sentiment_line and explanation_line:\n",
        "                sentiment = int(sentiment_line.split(\":\")[1].strip())\n",
        "                explanation = explanation_line.split(\":\")[1].strip()\n",
        "                return sentiment, explanation\n",
        "            else:\n",
        "                raise ValueError(\"Invalid response format\")\n",
        "\n",
        "        except Exception as e:\n",
        "            print(f\"API call failed: {e}. Pausing for 1-2 minutes...\")\n",
        "            time.sleep(random.randint(60, 120))\n",
        "\n",
        "\n",
        "# Function to process comments and save periodically, continuing from last processed row\n",
        "def process_comments(df, output_csv_file, save_interval=20):\n",
        "    # Load existing file if exists, continue from where it left off\n",
        "    try:\n",
        "        existing_df = pd.read_csv(output_csv_file)\n",
        "        df.update(existing_df)  # Merge with any previously saved data\n",
        "        print(\"Resuming from the last saved point...\")\n",
        "    except FileNotFoundError:\n",
        "        print(\"No existing output file found. Starting fresh...\")\n",
        "\n",
        "    # Create a tqdm progress bar\n",
        "    pbar = tqdm(total=len(df), desc=\"Processing comments\")\n",
        "\n",
        "    for i, row in df.iterrows():\n",
        "        # Skip rows that already have a sentiment and explanation value\n",
        "        if pd.notna(row.get('sentiment')) and pd.notna(row.get('explanation')):\n",
        "            pbar.update(1)\n",
        "            continue\n",
        "\n",
        "        # Perform sentiment analysis and get the explanation\n",
        "        sentiment, explanation = get_sentiment_and_explanation(row['title'], row['comment_text'])\n",
        "        df.at[i, 'sentiment'] = sentiment\n",
        "        df.at[i, 'explanation'] = explanation\n",
        "\n",
        "        # Update progress bar\n",
        "        pbar.update(1)\n",
        "\n",
        "        # Save progress to CSV after every `save_interval` rows\n",
        "        if (i + 1) % save_interval == 0:\n",
        "            df.to_csv(output_csv_file, index=False)\n",
        "            print(f\"\\nSaved progress at row {i + 1}\")\n",
        "\n",
        "    # Close progress bar\n",
        "    pbar.close()\n",
        "\n",
        "    # Final save at the end of processing\n",
        "    df.to_csv(output_csv_file, index=False)\n",
        "    print(f\"Final result saved to {output_csv_file}\")\n"
      ]
    },
    {
      "cell_type": "markdown",
      "metadata": {
        "id": "XWB4RBOlPgKc"
      },
      "source": [
        "Load the CSV file with the Hacker News data"
      ]
    },
    {
      "cell_type": "code",
      "execution_count": null,
      "metadata": {
        "colab": {
          "base_uri": "https://localhost:8080/",
          "height": 830,
          "referenced_widgets": [
            "da3a84c1ec8547959c971193c5faf25e",
            "63d2cff4725643119838117fdcefb054",
            "9023f5b179c84767afe6f566f9a23714",
            "39243d3981c044aeb655c22f2ced4706",
            "4d19d4a82f414446895616023b2b9cd0",
            "654fd26bd182478cac10e43f38cd4c02",
            "68e21a05cf4147cf832b357275c0bb72",
            "029e5dc69bee4765b917ee61ecd5f59f",
            "614aa276ff014d4aaebc04bcc46614f4",
            "43f074a2ef1140bbb7d9a1e7f9be1751",
            "cca1dbd1e5084c92bd76e4cc31580ad9"
          ]
        },
        "id": "vBr12dNvPgKd",
        "outputId": "365e6854-3f97-436c-d7c2-bdcec590be99"
      },
      "outputs": [
        {
          "output_type": "stream",
          "name": "stdout",
          "text": [
            "No existing output file found. Starting fresh...\n"
          ]
        },
        {
          "output_type": "display_data",
          "data": {
            "text/plain": [
              "Processing comments:   0%|          | 0/385 [00:00<?, ?it/s]"
            ],
            "application/vnd.jupyter.widget-view+json": {
              "version_major": 2,
              "version_minor": 0,
              "model_id": "da3a84c1ec8547959c971193c5faf25e"
            }
          },
          "metadata": {}
        },
        {
          "output_type": "stream",
          "name": "stdout",
          "text": [
            "\n",
            "Saved progress at row 20\n",
            "\n",
            "Saved progress at row 40\n",
            "\n",
            "Saved progress at row 60\n",
            "\n",
            "Saved progress at row 80\n",
            "\n",
            "Saved progress at row 100\n",
            "\n",
            "Saved progress at row 120\n",
            "\n",
            "Saved progress at row 140\n",
            "\n",
            "Saved progress at row 160\n",
            "\n",
            "Saved progress at row 180\n",
            "\n",
            "Saved progress at row 200\n",
            "\n",
            "Saved progress at row 220\n",
            "\n",
            "Saved progress at row 240\n",
            "\n",
            "Saved progress at row 260\n",
            "\n",
            "Saved progress at row 280\n",
            "\n",
            "Saved progress at row 300\n",
            "\n",
            "Saved progress at row 320\n",
            "\n",
            "Saved progress at row 340\n",
            "\n",
            "Saved progress at row 360\n",
            "\n",
            "Saved progress at row 380\n",
            "Final result saved to hackernews_comments_with_sentiment_OPENAI.csv\n",
            "Sentiment analysis completed and saved to hackernews_comments_with_sentiment_OPENAI.csv\n"
          ]
        }
      ],
      "source": [
        "csv_file = 'sentiment_385_sampled_cleanup.csv'  # Replace with the actual path to your CSV file\n",
        "df = pd.read_csv(csv_file)\n",
        "\n",
        "# If the 'sentiment' and 'explanation' columns don't exist, add them\n",
        "if 'sentiment' not in df.columns:\n",
        "    df['sentiment'] = None\n",
        "if 'explanation' not in df.columns:\n",
        "    df['explanation'] = None\n",
        "\n",
        "# Output file to save the results\n",
        "output_csv_file = 'hackernews_comments_with_sentiment_OPENAI.csv'\n",
        "\n",
        "# Process the comments and periodically save the results\n",
        "process_comments(df, output_csv_file)\n",
        "\n",
        "print(f'Sentiment analysis completed and saved to {output_csv_file}')"
      ]
    },
    {
      "cell_type": "code",
      "source": [],
      "metadata": {
        "id": "ggak1ydCXaGg"
      },
      "execution_count": null,
      "outputs": []
    }
  ],
  "metadata": {
    "language_info": {
      "name": "python"
    },
    "colab": {
      "provenance": []
    },
    "kernelspec": {
      "name": "python3",
      "display_name": "Python 3"
    },
    "widgets": {
      "application/vnd.jupyter.widget-state+json": {
        "da3a84c1ec8547959c971193c5faf25e": {
          "model_module": "@jupyter-widgets/controls",
          "model_name": "HBoxModel",
          "model_module_version": "1.5.0",
          "state": {
            "_dom_classes": [],
            "_model_module": "@jupyter-widgets/controls",
            "_model_module_version": "1.5.0",
            "_model_name": "HBoxModel",
            "_view_count": null,
            "_view_module": "@jupyter-widgets/controls",
            "_view_module_version": "1.5.0",
            "_view_name": "HBoxView",
            "box_style": "",
            "children": [
              "IPY_MODEL_63d2cff4725643119838117fdcefb054",
              "IPY_MODEL_9023f5b179c84767afe6f566f9a23714",
              "IPY_MODEL_39243d3981c044aeb655c22f2ced4706"
            ],
            "layout": "IPY_MODEL_4d19d4a82f414446895616023b2b9cd0"
          }
        },
        "63d2cff4725643119838117fdcefb054": {
          "model_module": "@jupyter-widgets/controls",
          "model_name": "HTMLModel",
          "model_module_version": "1.5.0",
          "state": {
            "_dom_classes": [],
            "_model_module": "@jupyter-widgets/controls",
            "_model_module_version": "1.5.0",
            "_model_name": "HTMLModel",
            "_view_count": null,
            "_view_module": "@jupyter-widgets/controls",
            "_view_module_version": "1.5.0",
            "_view_name": "HTMLView",
            "description": "",
            "description_tooltip": null,
            "layout": "IPY_MODEL_654fd26bd182478cac10e43f38cd4c02",
            "placeholder": "​",
            "style": "IPY_MODEL_68e21a05cf4147cf832b357275c0bb72",
            "value": "Processing comments: 100%"
          }
        },
        "9023f5b179c84767afe6f566f9a23714": {
          "model_module": "@jupyter-widgets/controls",
          "model_name": "FloatProgressModel",
          "model_module_version": "1.5.0",
          "state": {
            "_dom_classes": [],
            "_model_module": "@jupyter-widgets/controls",
            "_model_module_version": "1.5.0",
            "_model_name": "FloatProgressModel",
            "_view_count": null,
            "_view_module": "@jupyter-widgets/controls",
            "_view_module_version": "1.5.0",
            "_view_name": "ProgressView",
            "bar_style": "success",
            "description": "",
            "description_tooltip": null,
            "layout": "IPY_MODEL_029e5dc69bee4765b917ee61ecd5f59f",
            "max": 385,
            "min": 0,
            "orientation": "horizontal",
            "style": "IPY_MODEL_614aa276ff014d4aaebc04bcc46614f4",
            "value": 385
          }
        },
        "39243d3981c044aeb655c22f2ced4706": {
          "model_module": "@jupyter-widgets/controls",
          "model_name": "HTMLModel",
          "model_module_version": "1.5.0",
          "state": {
            "_dom_classes": [],
            "_model_module": "@jupyter-widgets/controls",
            "_model_module_version": "1.5.0",
            "_model_name": "HTMLModel",
            "_view_count": null,
            "_view_module": "@jupyter-widgets/controls",
            "_view_module_version": "1.5.0",
            "_view_name": "HTMLView",
            "description": "",
            "description_tooltip": null,
            "layout": "IPY_MODEL_43f074a2ef1140bbb7d9a1e7f9be1751",
            "placeholder": "​",
            "style": "IPY_MODEL_cca1dbd1e5084c92bd76e4cc31580ad9",
            "value": " 385/385 [18:56&lt;00:00,  2.07s/it]"
          }
        },
        "4d19d4a82f414446895616023b2b9cd0": {
          "model_module": "@jupyter-widgets/base",
          "model_name": "LayoutModel",
          "model_module_version": "1.2.0",
          "state": {
            "_model_module": "@jupyter-widgets/base",
            "_model_module_version": "1.2.0",
            "_model_name": "LayoutModel",
            "_view_count": null,
            "_view_module": "@jupyter-widgets/base",
            "_view_module_version": "1.2.0",
            "_view_name": "LayoutView",
            "align_content": null,
            "align_items": null,
            "align_self": null,
            "border": null,
            "bottom": null,
            "display": null,
            "flex": null,
            "flex_flow": null,
            "grid_area": null,
            "grid_auto_columns": null,
            "grid_auto_flow": null,
            "grid_auto_rows": null,
            "grid_column": null,
            "grid_gap": null,
            "grid_row": null,
            "grid_template_areas": null,
            "grid_template_columns": null,
            "grid_template_rows": null,
            "height": null,
            "justify_content": null,
            "justify_items": null,
            "left": null,
            "margin": null,
            "max_height": null,
            "max_width": null,
            "min_height": null,
            "min_width": null,
            "object_fit": null,
            "object_position": null,
            "order": null,
            "overflow": null,
            "overflow_x": null,
            "overflow_y": null,
            "padding": null,
            "right": null,
            "top": null,
            "visibility": null,
            "width": null
          }
        },
        "654fd26bd182478cac10e43f38cd4c02": {
          "model_module": "@jupyter-widgets/base",
          "model_name": "LayoutModel",
          "model_module_version": "1.2.0",
          "state": {
            "_model_module": "@jupyter-widgets/base",
            "_model_module_version": "1.2.0",
            "_model_name": "LayoutModel",
            "_view_count": null,
            "_view_module": "@jupyter-widgets/base",
            "_view_module_version": "1.2.0",
            "_view_name": "LayoutView",
            "align_content": null,
            "align_items": null,
            "align_self": null,
            "border": null,
            "bottom": null,
            "display": null,
            "flex": null,
            "flex_flow": null,
            "grid_area": null,
            "grid_auto_columns": null,
            "grid_auto_flow": null,
            "grid_auto_rows": null,
            "grid_column": null,
            "grid_gap": null,
            "grid_row": null,
            "grid_template_areas": null,
            "grid_template_columns": null,
            "grid_template_rows": null,
            "height": null,
            "justify_content": null,
            "justify_items": null,
            "left": null,
            "margin": null,
            "max_height": null,
            "max_width": null,
            "min_height": null,
            "min_width": null,
            "object_fit": null,
            "object_position": null,
            "order": null,
            "overflow": null,
            "overflow_x": null,
            "overflow_y": null,
            "padding": null,
            "right": null,
            "top": null,
            "visibility": null,
            "width": null
          }
        },
        "68e21a05cf4147cf832b357275c0bb72": {
          "model_module": "@jupyter-widgets/controls",
          "model_name": "DescriptionStyleModel",
          "model_module_version": "1.5.0",
          "state": {
            "_model_module": "@jupyter-widgets/controls",
            "_model_module_version": "1.5.0",
            "_model_name": "DescriptionStyleModel",
            "_view_count": null,
            "_view_module": "@jupyter-widgets/base",
            "_view_module_version": "1.2.0",
            "_view_name": "StyleView",
            "description_width": ""
          }
        },
        "029e5dc69bee4765b917ee61ecd5f59f": {
          "model_module": "@jupyter-widgets/base",
          "model_name": "LayoutModel",
          "model_module_version": "1.2.0",
          "state": {
            "_model_module": "@jupyter-widgets/base",
            "_model_module_version": "1.2.0",
            "_model_name": "LayoutModel",
            "_view_count": null,
            "_view_module": "@jupyter-widgets/base",
            "_view_module_version": "1.2.0",
            "_view_name": "LayoutView",
            "align_content": null,
            "align_items": null,
            "align_self": null,
            "border": null,
            "bottom": null,
            "display": null,
            "flex": null,
            "flex_flow": null,
            "grid_area": null,
            "grid_auto_columns": null,
            "grid_auto_flow": null,
            "grid_auto_rows": null,
            "grid_column": null,
            "grid_gap": null,
            "grid_row": null,
            "grid_template_areas": null,
            "grid_template_columns": null,
            "grid_template_rows": null,
            "height": null,
            "justify_content": null,
            "justify_items": null,
            "left": null,
            "margin": null,
            "max_height": null,
            "max_width": null,
            "min_height": null,
            "min_width": null,
            "object_fit": null,
            "object_position": null,
            "order": null,
            "overflow": null,
            "overflow_x": null,
            "overflow_y": null,
            "padding": null,
            "right": null,
            "top": null,
            "visibility": null,
            "width": null
          }
        },
        "614aa276ff014d4aaebc04bcc46614f4": {
          "model_module": "@jupyter-widgets/controls",
          "model_name": "ProgressStyleModel",
          "model_module_version": "1.5.0",
          "state": {
            "_model_module": "@jupyter-widgets/controls",
            "_model_module_version": "1.5.0",
            "_model_name": "ProgressStyleModel",
            "_view_count": null,
            "_view_module": "@jupyter-widgets/base",
            "_view_module_version": "1.2.0",
            "_view_name": "StyleView",
            "bar_color": null,
            "description_width": ""
          }
        },
        "43f074a2ef1140bbb7d9a1e7f9be1751": {
          "model_module": "@jupyter-widgets/base",
          "model_name": "LayoutModel",
          "model_module_version": "1.2.0",
          "state": {
            "_model_module": "@jupyter-widgets/base",
            "_model_module_version": "1.2.0",
            "_model_name": "LayoutModel",
            "_view_count": null,
            "_view_module": "@jupyter-widgets/base",
            "_view_module_version": "1.2.0",
            "_view_name": "LayoutView",
            "align_content": null,
            "align_items": null,
            "align_self": null,
            "border": null,
            "bottom": null,
            "display": null,
            "flex": null,
            "flex_flow": null,
            "grid_area": null,
            "grid_auto_columns": null,
            "grid_auto_flow": null,
            "grid_auto_rows": null,
            "grid_column": null,
            "grid_gap": null,
            "grid_row": null,
            "grid_template_areas": null,
            "grid_template_columns": null,
            "grid_template_rows": null,
            "height": null,
            "justify_content": null,
            "justify_items": null,
            "left": null,
            "margin": null,
            "max_height": null,
            "max_width": null,
            "min_height": null,
            "min_width": null,
            "object_fit": null,
            "object_position": null,
            "order": null,
            "overflow": null,
            "overflow_x": null,
            "overflow_y": null,
            "padding": null,
            "right": null,
            "top": null,
            "visibility": null,
            "width": null
          }
        },
        "cca1dbd1e5084c92bd76e4cc31580ad9": {
          "model_module": "@jupyter-widgets/controls",
          "model_name": "DescriptionStyleModel",
          "model_module_version": "1.5.0",
          "state": {
            "_model_module": "@jupyter-widgets/controls",
            "_model_module_version": "1.5.0",
            "_model_name": "DescriptionStyleModel",
            "_view_count": null,
            "_view_module": "@jupyter-widgets/base",
            "_view_module_version": "1.2.0",
            "_view_name": "StyleView",
            "description_width": ""
          }
        }
      }
    }
  },
  "nbformat": 4,
  "nbformat_minor": 0
}