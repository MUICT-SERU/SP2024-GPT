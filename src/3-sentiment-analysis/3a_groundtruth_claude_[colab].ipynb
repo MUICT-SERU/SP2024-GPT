{
 "cells": [
  {
   "cell_type": "markdown",
   "metadata": {},
   "source": [
    "# Sentiment analysis for ground truth sample using Claude Sonnet 3.5"
   ]
  },
  {
   "cell_type": "markdown",
   "metadata": {},
   "source": [
    "setup"
   ]
  },
  {
   "cell_type": "code",
   "execution_count": null,
   "metadata": {},
   "outputs": [],
   "source": [
    "!pip install anthropic pandas tqdm"
   ]
  },
  {
   "cell_type": "code",
   "execution_count": null,
   "metadata": {},
   "outputs": [],
   "source": [
    "import anthropic\n",
    "import pandas as pd\n",
    "import time\n",
    "import random\n",
    "from tqdm.notebook import tqdm"
   ]
  },
  {
   "cell_type": "markdown",
   "metadata": {},
   "source": [
    "Check whether API key exists (should be in your environment variable)"
   ]
  },
  {
   "cell_type": "code",
   "execution_count": null,
   "metadata": {},
   "outputs": [],
   "source": [
    "from google.colab import userdata\n",
    "api_key = userdata.get('ANTHROPIC_API_KEY')\n",
    "client = anthropic.Anthropic(api_key=api_key)"
   ]
  },
  {
   "cell_type": "markdown",
   "metadata": {},
   "source": [
    "Define the sentiment analysis prompt template"
   ]
  },
  {
   "cell_type": "code",
   "execution_count": null,
   "metadata": {},
   "outputs": [],
   "source": [
    "prompt_template = '''\n",
    "Analyze the sentiment of the Hacker News comment with the context of the AI-related story title found below under \"Input text:\" whether the comment is negative (-1), neutral (0), or positive (1) towards AI. First understand the meaning of the story title, then understand the meaning of the comment in the context of the story title, then analyze the sentiment of the comments in the context of the story title whether the comment is negative (-1), neutral (0), or positive (1) towards AI, and conclude the sentiment of the comment to only one best sentiment type.\n",
    "\n",
    "Sentiment can contain only a single number either:\n",
    "  -1 (for negative towards AI)\n",
    "  0 (for neutral towards AI)\n",
    "  1 (for positive towards AI)\n",
    "\n",
    "# Input text:\n",
    "Story title: \"\"\"\n",
    "{title}\n",
    "\"\"\"\n",
    "Comment: \"\"\"\n",
    "{comment}\n",
    "\"\"\"\n",
    "\n",
    "# Output format:\n",
    "Sentiment: your_sentiment\n",
    "Explanation: your_explanation_for_the_sentiment\n",
    "'''\n",
    "\n",
    "# Function to get sentiment using Claude's API\n",
    "def get_sentiment_and_explanation(title, comment):\n",
    "    prompt = prompt_template.format(title=title, comment=comment)\n",
    "\n",
    "    # Repeats for 3 times in case of errors\n",
    "    for _ in range(3):\n",
    "        try:\n",
    "            # Call the Claude API with the prompt\n",
    "            response = client.messages.create(\n",
    "                model=\"claude-3-sonnet-20240229\",\n",
    "                max_tokens=1000,\n",
    "                messages=[\n",
    "                    {\"role\": \"user\", \"content\": prompt}\n",
    "                ]\n",
    "            )\n",
    "            # Extract the text from the response\n",
    "            result = response.content[0].text.strip()\n",
    "\n",
    "            # Extract sentiment and explanation from the response text\n",
    "            sentiment_line = next((line for line in result.split('\\n') if \"Sentiment:\" in line), None)\n",
    "            explanation_line = next((line for line in result.split('\\n') if \"Explanation:\" in line), None)\n",
    "\n",
    "            if sentiment_line and explanation_line:\n",
    "                sentiment = int(sentiment_line.split(\":\")[1].strip())\n",
    "                explanation = explanation_line.split(\":\")[1].strip()\n",
    "                return sentiment, explanation\n",
    "            else:\n",
    "                raise ValueError(\"Invalid response format\")\n",
    "\n",
    "        except Exception as e:\n",
    "            print(f\"API call failed: {e}. Pausing for 1-2 minutes...\")\n",
    "            time.sleep(random.randint(60, 120))\n",
    "\n",
    "# Function to process comments and save periodically, continuing from last processed row\n",
    "def process_comments(df, output_csv_file, save_interval=20):\n",
    "    # Load existing file if exists, continue from where it left off\n",
    "    try:\n",
    "        existing_df = pd.read_csv(output_csv_file)\n",
    "        df.update(existing_df)  # Merge with any previously saved data\n",
    "        print(\"Resuming from the last saved point...\")\n",
    "    except FileNotFoundError:\n",
    "        print(\"No existing output file found. Starting fresh...\")\n",
    "\n",
    "    # Create a tqdm progress bar\n",
    "    pbar = tqdm(total=len(df), desc=\"Processing comments\")\n",
    "\n",
    "    for i, row in df.iterrows():\n",
    "        # Skip rows that already have a sentiment and explanation value\n",
    "        if pd.notna(row.get('sentiment')) and pd.notna(row.get('explanation')):\n",
    "            pbar.update(1)\n",
    "            continue\n",
    "\n",
    "        # Perform sentiment analysis and get the explanation\n",
    "        sentiment, explanation = get_sentiment_and_explanation(row['title'], row['comment_text'])\n",
    "        df.at[i, 'sentiment'] = sentiment\n",
    "        df.at[i, 'explanation'] = explanation\n",
    "\n",
    "        # Update progress bar\n",
    "        pbar.update(1)\n",
    "\n",
    "        # Save progress to CSV after every `save_interval` rows\n",
    "        if (i + 1) % save_interval == 0:\n",
    "            df.to_csv(output_csv_file, index=False)\n",
    "            print(f\"\\nSaved progress at row {i + 1}\")\n",
    "\n",
    "    # Close progress bar\n",
    "    pbar.close()\n",
    "\n",
    "    # Final save at the end of processing\n",
    "    df.to_csv(output_csv_file, index=False)\n",
    "    print(f\"Final result saved to {output_csv_file}\")\n"
   ]
  },
  {
   "cell_type": "code",
   "execution_count": null,
   "metadata": {},
   "outputs": [],
   "source": [
    "csv_file = 'sentiment_385_sampled_cleanup.csv'  # Replace with the actual path to your CSV file\n",
    "df = pd.read_csv(csv_file)\n",
    "\n",
    "# If the 'sentiment' and 'explanation' columns don't exist, add them\n",
    "if 'sentiment' not in df.columns:\n",
    "    df['sentiment'] = None\n",
    "if 'explanation' not in df.columns:\n",
    "    df['explanation'] = None\n",
    "\n",
    "# Output file to save the results\n",
    "output_csv_file = 'hackernews_comments_with_sentiment_CLAUDE.csv'\n",
    "\n",
    "# Process the comments and periodically save the results\n",
    "process_comments(df, output_csv_file)\n",
    "\n",
    "print(f'Sentiment analysis completed and saved to {output_csv_file}')"
   ]
  }
 ],
 "metadata": {
  "language_info": {
   "name": "python"
  }
 },
 "nbformat": 4,
 "nbformat_minor": 2
}
