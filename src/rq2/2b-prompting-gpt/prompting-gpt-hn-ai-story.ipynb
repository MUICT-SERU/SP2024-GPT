{
  "cells": [
    {
      "cell_type": "markdown",
      "metadata": {},
      "source": [
        "# Import Modules & Setup"
      ]
    },
    {
      "cell_type": "code",
      "execution_count": null,
      "metadata": {
        "colab": {
          "base_uri": "https://localhost:8080/"
        },
        "id": "24S3QA_GPgKY",
        "outputId": "082d596f-94e8-46d9-e87d-e8e9ecbc1b38"
      },
      "outputs": [],
      "source": [
        "!pip install openai pandas tqdm python-dotenv"
      ]
    },
    {
      "cell_type": "code",
      "execution_count": 12,
      "metadata": {
        "id": "TT7kHjngPgKY"
      },
      "outputs": [],
      "source": [
        "import openai\n",
        "import csv\n",
        "import pandas as pd\n",
        "import time\n",
        "import random\n",
        "from tqdm.notebook import tqdm\n",
        "import sys\n",
        "import os\n",
        "from dotenv import load_dotenv"
      ]
    },
    {
      "cell_type": "code",
      "execution_count": null,
      "metadata": {},
      "outputs": [],
      "source": [
        "output_csv_file = '..\\\\dataset\\\\sampled_hn_ai_story_gpt_sentiment.csv'"
      ]
    },
    {
      "cell_type": "markdown",
      "metadata": {
        "id": "6HtQbdIvPgKZ"
      },
      "source": [
        "### Initialize OpenAI API"
      ]
    },
    {
      "cell_type": "code",
      "execution_count": 23,
      "metadata": {
        "id": "6L-cudK9PyHS"
      },
      "outputs": [],
      "source": [
        "# Set your OPENAI_API_KEY as an environment variable and then load\n",
        "load_dotenv()\n",
        "\n",
        "# Initialize the OpenAI client with your API key\n",
        "api_key_openai = os.getenv(\"OPENAI_API_KEY\")\n",
        "client_openai = openai.OpenAI(api_key=api_key_openai)"
      ]
    },
    {
      "cell_type": "markdown",
      "metadata": {
        "id": "9qZ_oH_xP0mK"
      },
      "source": [
        "### Prompt template"
      ]
    },
    {
      "cell_type": "code",
      "execution_count": 24,
      "metadata": {
        "id": "4xkuOib3PgKa"
      },
      "outputs": [],
      "source": [
        "prompt_template = '''\n",
        "Please perform Sentiment Classification task. Given the story headline from Hacker News, \n",
        "assign a sentiment label expressed by the author towards \"Artificial Intelligence (AI)\" from ['negative': -1, 'neutral': 0, 'positive': 1]. \n",
        "Return label only and the reasoning in the following format.\n",
        "\n",
        "Headline: ML surveillance camera fails to detect criminals\n",
        "Label:-1\n",
        "Reason:The headline highlights an ML-powered tool's failure to perform its job well, potentially causing issues or public concern.\n",
        "Headline: Show HN: \"JAVIN\" an AI for solving math problem\n",
        "Label:0\n",
        "Reason:The headline simply announces the \"JAVIN\" project as a math problem solver without clear positive implications.\n",
        "Headline: AI solves International Math Olympiad problems at silver medal level\n",
        "Label:1\n",
        "Reason:The headline shows AI strong capability in solving difficult math problems achieving silver medal level.\n",
        "Headline: Why wasting time developing AI? I wish the whole world stop using AI for good\n",
        "Label:-1\n",
        "Reason:The headline indicates that developing AI is a waste of time and wishes that AI usage would stop for good.\n",
        "Headline: AI don't have right to ownership in the US\n",
        "Label:0\n",
        "Reason:The headline states facts about ownership or copyright law in the US. It does not clearly support or downgrade AI usage or development.\n",
        "Headline: Show HN: \"TEXIE,\" an AI self-driving car that makes your life easier.\n",
        "Label:1\n",
        "Reason:The headline advertises an AI self-driving project by claiming that it makes your life easier.\n",
        "\n",
        "Headline: {headline_input}\n",
        "Label:\n",
        "Reason:\n",
        "'''"
      ]
    },
    {
      "cell_type": "markdown",
      "metadata": {
        "id": "4fqw332Lcfey"
      },
      "source": [
        "# Sentiment from GPT"
      ]
    },
    {
      "cell_type": "code",
      "execution_count": null,
      "metadata": {
        "id": "PF8psm2OPgKb"
      },
      "outputs": [],
      "source": [
        "def get_sentiment_and_reason_openai(title):\n",
        "    prompt = prompt_template.format(headline_input=title)\n",
        "\n",
        "    for _ in range(3):\n",
        "        try:\n",
        "            response = client_openai.chat.completions.create(\n",
        "                model=\"gpt-4o-mini\",\n",
        "                messages=[\n",
        "                    {\"role\": \"system\", \"content\": \"You are an expert at analyzing text.\"},\n",
        "                    {\"role\": \"user\", \"content\": prompt}\n",
        "                ],\n",
        "                max_tokens=150,\n",
        "                temperature=0.2\n",
        "            )\n",
        "            result = response.choices[0].message.content.strip()\n",
        "            #print(result)\n",
        "\n",
        "            sentiment_line = next((line for line in result.split('\\n') if \"label:\" in line.lower()), None)\n",
        "            reason_line = next((line for line in result.split('\\n') if \"reason:\" in line.lower()), None)\n",
        "\n",
        "            if sentiment_line:\n",
        "                try:\n",
        "                    # Extract sentiment value and clean it\n",
        "                    sentiment_str = sentiment_line.split(\":\")[1].strip()\n",
        "                    # Handle negative numbers properly\n",
        "                    if sentiment_str in ['-1', '0', '1']:\n",
        "                        sentiment = int(sentiment_str)\n",
        "                    else:\n",
        "                        print(f\"Invalid sentiment for title: {title}\")\n",
        "                        print(f\"Raw sentiment line: {sentiment_line}\")\n",
        "                        print(f\"Raw reason line: {reason_line}\")\n",
        "                        raise ValueError(f\"Invalid sentiment value: {sentiment_line}\")\n",
        "\n",
        "                    reason = reason_line.split(\":\", 1)[1].strip()\n",
        "                    return sentiment, reason\n",
        "\n",
        "                except ValueError as e:\n",
        "                    print(f\"Warning: Could not parse sentiment: {e}\")\n",
        "                    return -999, \"Error parsing sentiment\"\n",
        "\n",
        "            else:\n",
        "                raise ValueError(\"Invalid response format\")\n",
        "\n",
        "        except Exception as e:\n",
        "            print(f\"API call failed: {e}. Retrying in 1-2 minutes...\")\n",
        "            time.sleep(random.randint(60, 120))\n",
        "\n",
        "    return -999, \"Failed after 3 retries\""
      ]
    },
    {
      "cell_type": "code",
      "execution_count": null,
      "metadata": {
        "id": "xUu_fBQkahAH"
      },
      "outputs": [],
      "source": [
        "\"\"\"Function to process story titles and save results\"\"\"\n",
        "\n",
        "def process_titles(df, output_csv_file, save_interval=20):\n",
        "    # Resume from existing file, if available\n",
        "    try:\n",
        "        existing_df = pd.read_csv(output_csv_file)\n",
        "        df.update(existing_df)  # Merge saved progress\n",
        "        print(\"Resuming from the last saved point...\")\n",
        "    except FileNotFoundError:\n",
        "        print(\"No existing output file found. Starting fresh...\")\n",
        "\n",
        "    pbar = tqdm(total=len(df), desc=\"Processing story titles\")\n",
        "\n",
        "    for i, row in df.iterrows():\n",
        "        # Skip rows already processed\n",
        "        if pd.notna(row.get('senti_prompt0_2shot_gpt')) and pd.notna(row.get('reason_prompt0_2shot_gpt')):\n",
        "            pbar.update(1)\n",
        "            continue\n",
        "\n",
        "        # Get sentiment and reason for the story title\n",
        "        sentiment, reason = get_sentiment_and_reason_openai(row['title'])\n",
        "        df.at[i, 'senti_prompt0_2shot_gpt'] = sentiment\n",
        "        df.at[i, 'reason_prompt0_2shot_gpt'] = reason\n",
        "        print(f\"sentiment: {sentiment}\")\n",
        "        print(f\"reason: {reason}\")\n",
        "        pbar.update(1)\n",
        "\n",
        "        # Save progress at intervals\n",
        "        if (i + 1) % save_interval == 0:\n",
        "            df.to_csv(output_csv_file, index=False)\n",
        "            print(f\"\\nSaved progress at row {i + 1}\")\n",
        "    \n",
        "    pbar.close()\n",
        "\n",
        "    # Final save\n",
        "    df.to_csv(output_csv_file, index=False)\n",
        "    print(f\"Final result saved to {output_csv_file}\")\n"
      ]
    },
    {
      "cell_type": "markdown",
      "metadata": {
        "id": "XWB4RBOlPgKc"
      },
      "source": [
        "### Load the CSV file with the HN AI story"
      ]
    },
    {
      "cell_type": "code",
      "execution_count": null,
      "metadata": {
        "colab": {
          "base_uri": "https://localhost:8080/",
          "height": 1000,
          "referenced_widgets": [
            "0c4e9b812bfe4c61a578d0108ef9428c",
            "fec25c6394874bd2905cb2fec9b9309f",
            "073d86912799422bbd588be15ab764bd",
            "0e98df9fde494cd4bf3641b01ffbd4db",
            "b3eae73cf61b47848f17e8f66bf61d49",
            "9a45c26f37df447eb098a0d2c5a14648",
            "c9d171b4b6494266b5b7175efeb743f4",
            "fd8677477d374b2188e5d767149c47cd",
            "97c6778844834c2392aef6dde5c2e583",
            "0ea2a357bcf84fdbb2ef6960d6f1f76b",
            "f868904c487c4676b94a909d59dc6579"
          ]
        },
        "id": "vBr12dNvPgKd",
        "outputId": "1c7c65e3-9225-473e-e102-f60854bd12f3"
      },
      "outputs": [],
      "source": [
        "df = pd.read_csv(output_csv_file)\n",
        "\n",
        "# Add columns if missing\n",
        "if 'senti_prompt0_2shot_gpt' not in df.columns:\n",
        "    df['senti_prompt0_2shot_gpt'] = None\n",
        "if 'reason_prompt0_2shot_gpt' not in df.columns:\n",
        "    df['reason_prompt0_2shot_gpt'] = None\n",
        "\n",
        "# Process titles\n",
        "process_titles(df, output_csv_file)\n",
        "\n",
        "print(f'Sentiment analysis completed and saved to {output_csv_file}')"
      ]
    },
    {
      "cell_type": "markdown",
      "metadata": {},
      "source": [
        "# Evaluation"
      ]
    },
    {
      "cell_type": "code",
      "execution_count": null,
      "metadata": {
        "id": "0kpcNhkQQl_J"
      },
      "outputs": [],
      "source": [
        "from sklearn.metrics import accuracy_score, f1_score, precision_score, recall_score, confusion_matrix"
      ]
    },
    {
      "cell_type": "code",
      "execution_count": null,
      "metadata": {
        "id": "nPlwXza0Q3QT"
      },
      "outputs": [],
      "source": [
        "df = pd.read_csv(output_csv_file)"
      ]
    },
    {
      "cell_type": "code",
      "execution_count": null,
      "metadata": {
        "colab": {
          "base_uri": "https://localhost:8080/"
        },
        "id": "jSMDenq6QMKH",
        "outputId": "784899cd-2bc8-41e7-991f-9c614ab39ae9"
      },
      "outputs": [
        {
          "name": "stdout",
          "output_type": "stream",
          "text": [
            "Accuracy: 0.7584415584415585\n",
            "micro f1: 0.7584415584415585\n",
            "macro f1: 0.7213319724500101\n",
            "weighted f1: 0.7618892361934655\n"
          ]
        }
      ],
      "source": [
        "print(f\"Accuracy: {accuracy_score(df['story_consensus'], df['senti_prompt0_2shot_gpt'])}\")\n",
        "print(f\"micro f1: {f1_score(df['story_consensus'], df['senti_prompt0_2shot_gpt'], average='micro')}\")\n",
        "print(f\"macro f1: {f1_score(df['story_consensus'], df['senti_prompt0_2shot_gpt'], average='macro')}\")\n",
        "print(f\"weighted f1: {f1_score(df['story_consensus'], df['senti_prompt0_2shot_gpt'], average='weighted')}\")"
      ]
    }
  ],
  "metadata": {
    "colab": {
      "provenance": []
    },
    "kernelspec": {
      "display_name": "Python 3",
      "name": "python3"
    },
    "language_info": {
      "codemirror_mode": {
        "name": "ipython",
        "version": 3
      },
      "file_extension": ".py",
      "mimetype": "text/x-python",
      "name": "python",
      "nbconvert_exporter": "python",
      "pygments_lexer": "ipython3",
      "version": "3.12.2"
    },
    "widgets": {
      "application/vnd.jupyter.widget-state+json": {
        "073d86912799422bbd588be15ab764bd": {
          "model_module": "@jupyter-widgets/controls",
          "model_module_version": "1.5.0",
          "model_name": "FloatProgressModel",
          "state": {
            "_dom_classes": [],
            "_model_module": "@jupyter-widgets/controls",
            "_model_module_version": "1.5.0",
            "_model_name": "FloatProgressModel",
            "_view_count": null,
            "_view_module": "@jupyter-widgets/controls",
            "_view_module_version": "1.5.0",
            "_view_name": "ProgressView",
            "bar_style": "success",
            "description": "",
            "description_tooltip": null,
            "layout": "IPY_MODEL_fd8677477d374b2188e5d767149c47cd",
            "max": 385,
            "min": 0,
            "orientation": "horizontal",
            "style": "IPY_MODEL_97c6778844834c2392aef6dde5c2e583",
            "value": 385
          }
        },
        "0c4e9b812bfe4c61a578d0108ef9428c": {
          "model_module": "@jupyter-widgets/controls",
          "model_module_version": "1.5.0",
          "model_name": "HBoxModel",
          "state": {
            "_dom_classes": [],
            "_model_module": "@jupyter-widgets/controls",
            "_model_module_version": "1.5.0",
            "_model_name": "HBoxModel",
            "_view_count": null,
            "_view_module": "@jupyter-widgets/controls",
            "_view_module_version": "1.5.0",
            "_view_name": "HBoxView",
            "box_style": "",
            "children": [
              "IPY_MODEL_fec25c6394874bd2905cb2fec9b9309f",
              "IPY_MODEL_073d86912799422bbd588be15ab764bd",
              "IPY_MODEL_0e98df9fde494cd4bf3641b01ffbd4db"
            ],
            "layout": "IPY_MODEL_b3eae73cf61b47848f17e8f66bf61d49"
          }
        },
        "0e98df9fde494cd4bf3641b01ffbd4db": {
          "model_module": "@jupyter-widgets/controls",
          "model_module_version": "1.5.0",
          "model_name": "HTMLModel",
          "state": {
            "_dom_classes": [],
            "_model_module": "@jupyter-widgets/controls",
            "_model_module_version": "1.5.0",
            "_model_name": "HTMLModel",
            "_view_count": null,
            "_view_module": "@jupyter-widgets/controls",
            "_view_module_version": "1.5.0",
            "_view_name": "HTMLView",
            "description": "",
            "description_tooltip": null,
            "layout": "IPY_MODEL_0ea2a357bcf84fdbb2ef6960d6f1f76b",
            "placeholder": "​",
            "style": "IPY_MODEL_f868904c487c4676b94a909d59dc6579",
            "value": " 385/385 [07:29&lt;00:00,  1.50s/it]"
          }
        },
        "0ea2a357bcf84fdbb2ef6960d6f1f76b": {
          "model_module": "@jupyter-widgets/base",
          "model_module_version": "1.2.0",
          "model_name": "LayoutModel",
          "state": {
            "_model_module": "@jupyter-widgets/base",
            "_model_module_version": "1.2.0",
            "_model_name": "LayoutModel",
            "_view_count": null,
            "_view_module": "@jupyter-widgets/base",
            "_view_module_version": "1.2.0",
            "_view_name": "LayoutView",
            "align_content": null,
            "align_items": null,
            "align_self": null,
            "border": null,
            "bottom": null,
            "display": null,
            "flex": null,
            "flex_flow": null,
            "grid_area": null,
            "grid_auto_columns": null,
            "grid_auto_flow": null,
            "grid_auto_rows": null,
            "grid_column": null,
            "grid_gap": null,
            "grid_row": null,
            "grid_template_areas": null,
            "grid_template_columns": null,
            "grid_template_rows": null,
            "height": null,
            "justify_content": null,
            "justify_items": null,
            "left": null,
            "margin": null,
            "max_height": null,
            "max_width": null,
            "min_height": null,
            "min_width": null,
            "object_fit": null,
            "object_position": null,
            "order": null,
            "overflow": null,
            "overflow_x": null,
            "overflow_y": null,
            "padding": null,
            "right": null,
            "top": null,
            "visibility": null,
            "width": null
          }
        },
        "97c6778844834c2392aef6dde5c2e583": {
          "model_module": "@jupyter-widgets/controls",
          "model_module_version": "1.5.0",
          "model_name": "ProgressStyleModel",
          "state": {
            "_model_module": "@jupyter-widgets/controls",
            "_model_module_version": "1.5.0",
            "_model_name": "ProgressStyleModel",
            "_view_count": null,
            "_view_module": "@jupyter-widgets/base",
            "_view_module_version": "1.2.0",
            "_view_name": "StyleView",
            "bar_color": null,
            "description_width": ""
          }
        },
        "9a45c26f37df447eb098a0d2c5a14648": {
          "model_module": "@jupyter-widgets/base",
          "model_module_version": "1.2.0",
          "model_name": "LayoutModel",
          "state": {
            "_model_module": "@jupyter-widgets/base",
            "_model_module_version": "1.2.0",
            "_model_name": "LayoutModel",
            "_view_count": null,
            "_view_module": "@jupyter-widgets/base",
            "_view_module_version": "1.2.0",
            "_view_name": "LayoutView",
            "align_content": null,
            "align_items": null,
            "align_self": null,
            "border": null,
            "bottom": null,
            "display": null,
            "flex": null,
            "flex_flow": null,
            "grid_area": null,
            "grid_auto_columns": null,
            "grid_auto_flow": null,
            "grid_auto_rows": null,
            "grid_column": null,
            "grid_gap": null,
            "grid_row": null,
            "grid_template_areas": null,
            "grid_template_columns": null,
            "grid_template_rows": null,
            "height": null,
            "justify_content": null,
            "justify_items": null,
            "left": null,
            "margin": null,
            "max_height": null,
            "max_width": null,
            "min_height": null,
            "min_width": null,
            "object_fit": null,
            "object_position": null,
            "order": null,
            "overflow": null,
            "overflow_x": null,
            "overflow_y": null,
            "padding": null,
            "right": null,
            "top": null,
            "visibility": null,
            "width": null
          }
        },
        "b3eae73cf61b47848f17e8f66bf61d49": {
          "model_module": "@jupyter-widgets/base",
          "model_module_version": "1.2.0",
          "model_name": "LayoutModel",
          "state": {
            "_model_module": "@jupyter-widgets/base",
            "_model_module_version": "1.2.0",
            "_model_name": "LayoutModel",
            "_view_count": null,
            "_view_module": "@jupyter-widgets/base",
            "_view_module_version": "1.2.0",
            "_view_name": "LayoutView",
            "align_content": null,
            "align_items": null,
            "align_self": null,
            "border": null,
            "bottom": null,
            "display": null,
            "flex": null,
            "flex_flow": null,
            "grid_area": null,
            "grid_auto_columns": null,
            "grid_auto_flow": null,
            "grid_auto_rows": null,
            "grid_column": null,
            "grid_gap": null,
            "grid_row": null,
            "grid_template_areas": null,
            "grid_template_columns": null,
            "grid_template_rows": null,
            "height": null,
            "justify_content": null,
            "justify_items": null,
            "left": null,
            "margin": null,
            "max_height": null,
            "max_width": null,
            "min_height": null,
            "min_width": null,
            "object_fit": null,
            "object_position": null,
            "order": null,
            "overflow": null,
            "overflow_x": null,
            "overflow_y": null,
            "padding": null,
            "right": null,
            "top": null,
            "visibility": null,
            "width": null
          }
        },
        "c9d171b4b6494266b5b7175efeb743f4": {
          "model_module": "@jupyter-widgets/controls",
          "model_module_version": "1.5.0",
          "model_name": "DescriptionStyleModel",
          "state": {
            "_model_module": "@jupyter-widgets/controls",
            "_model_module_version": "1.5.0",
            "_model_name": "DescriptionStyleModel",
            "_view_count": null,
            "_view_module": "@jupyter-widgets/base",
            "_view_module_version": "1.2.0",
            "_view_name": "StyleView",
            "description_width": ""
          }
        },
        "f868904c487c4676b94a909d59dc6579": {
          "model_module": "@jupyter-widgets/controls",
          "model_module_version": "1.5.0",
          "model_name": "DescriptionStyleModel",
          "state": {
            "_model_module": "@jupyter-widgets/controls",
            "_model_module_version": "1.5.0",
            "_model_name": "DescriptionStyleModel",
            "_view_count": null,
            "_view_module": "@jupyter-widgets/base",
            "_view_module_version": "1.2.0",
            "_view_name": "StyleView",
            "description_width": ""
          }
        },
        "fd8677477d374b2188e5d767149c47cd": {
          "model_module": "@jupyter-widgets/base",
          "model_module_version": "1.2.0",
          "model_name": "LayoutModel",
          "state": {
            "_model_module": "@jupyter-widgets/base",
            "_model_module_version": "1.2.0",
            "_model_name": "LayoutModel",
            "_view_count": null,
            "_view_module": "@jupyter-widgets/base",
            "_view_module_version": "1.2.0",
            "_view_name": "LayoutView",
            "align_content": null,
            "align_items": null,
            "align_self": null,
            "border": null,
            "bottom": null,
            "display": null,
            "flex": null,
            "flex_flow": null,
            "grid_area": null,
            "grid_auto_columns": null,
            "grid_auto_flow": null,
            "grid_auto_rows": null,
            "grid_column": null,
            "grid_gap": null,
            "grid_row": null,
            "grid_template_areas": null,
            "grid_template_columns": null,
            "grid_template_rows": null,
            "height": null,
            "justify_content": null,
            "justify_items": null,
            "left": null,
            "margin": null,
            "max_height": null,
            "max_width": null,
            "min_height": null,
            "min_width": null,
            "object_fit": null,
            "object_position": null,
            "order": null,
            "overflow": null,
            "overflow_x": null,
            "overflow_y": null,
            "padding": null,
            "right": null,
            "top": null,
            "visibility": null,
            "width": null
          }
        },
        "fec25c6394874bd2905cb2fec9b9309f": {
          "model_module": "@jupyter-widgets/controls",
          "model_module_version": "1.5.0",
          "model_name": "HTMLModel",
          "state": {
            "_dom_classes": [],
            "_model_module": "@jupyter-widgets/controls",
            "_model_module_version": "1.5.0",
            "_model_name": "HTMLModel",
            "_view_count": null,
            "_view_module": "@jupyter-widgets/controls",
            "_view_module_version": "1.5.0",
            "_view_name": "HTMLView",
            "description": "",
            "description_tooltip": null,
            "layout": "IPY_MODEL_9a45c26f37df447eb098a0d2c5a14648",
            "placeholder": "​",
            "style": "IPY_MODEL_c9d171b4b6494266b5b7175efeb743f4",
            "value": "Processing story titles: 100%"
          }
        }
      }
    }
  },
  "nbformat": 4,
  "nbformat_minor": 0
}
