{
  "cells": [
    {
      "cell_type": "markdown",
      "metadata": {
        "id": "eZ0OSUD-PgKX"
      },
      "source": [
        "# Import Modules & Setup"
      ]
    },
    {
      "cell_type": "code",
      "execution_count": null,
      "metadata": {
        "colab": {
          "base_uri": "https://localhost:8080/"
        },
        "id": "24S3QA_GPgKY",
        "outputId": "5018c765-0c1d-44ab-c3da-0ff02bd8a07b"
      },
      "outputs": [],
      "source": [
        "!pip install openai pandas tqdm python-dotenv"
      ]
    },
    {
      "cell_type": "code",
      "execution_count": null,
      "metadata": {
        "id": "TT7kHjngPgKY"
      },
      "outputs": [],
      "source": [
        "import openai\n",
        "import csv\n",
        "import pandas as pd\n",
        "import time\n",
        "import random\n",
        "from tqdm.notebook import tqdm\n",
        "import sys\n",
        "import os\n",
        "from dotenv import load_dotenv"
      ]
    },
    {
      "cell_type": "code",
      "execution_count": null,
      "metadata": {},
      "outputs": [],
      "source": [
        "output_csv_file = '..\\\\dataset\\\\hn_gh_ai_story_sentiment.csv'"
      ]
    },
    {
      "cell_type": "markdown",
      "metadata": {
        "id": "6HtQbdIvPgKZ"
      },
      "source": [
        "### Initialize OpenAI API"
      ]
    },
    {
      "cell_type": "code",
      "execution_count": null,
      "metadata": {
        "id": "6L-cudK9PyHS"
      },
      "outputs": [],
      "source": [
        "# Set your OPENAI_API_KEY as an environment variable and then load\n",
        "load_dotenv()\n",
        "\n",
        "# Initialize the OpenAI client with your API key\n",
        "api_key_openai = os.getenv(\"OPENAI_API_KEY\")\n",
        "client_openai = openai.OpenAI(api_key=api_key_openai)"
      ]
    },
    {
      "cell_type": "markdown",
      "metadata": {},
      "source": [
        "### Prompt template"
      ]
    },
    {
      "cell_type": "code",
      "execution_count": null,
      "metadata": {
        "id": "5Y91mFJEB_2w"
      },
      "outputs": [],
      "source": [
        "prompt_template = '''\n",
        "Please perform Sentiment Classification task. \n",
        "Given the story headline from Hacker News, assign a sentiment label expressed by the author towards \"Artificial Intelligence (AI)\" from ['negative': -1, 'neutral': 0, 'positive': 1]. \n",
        "Return label only and the reasoning the following format.\n",
        "\n",
        "Headline: ML surveillance camera fails to detect criminals\n",
        "Label:-1\n",
        "Reason:The headline highlights an ML-powered tool's failure to perform its job well, potentially causing issues or public concern.\n",
        "Headline: Show HN: \"JAVIN\" an AI for solving math problem\n",
        "Label:0\n",
        "Reason:The headline simply announces the \"JAVIN\" project as a math problem solver without clear positive implications.\n",
        "Headline: AI solves International Math Olympiad problems at silver medal level\n",
        "Label:1\n",
        "Reason:The headline shows AI strong capability in solving difficult math problems achieving silver medal level.\n",
        "Headline: Why wasting time developing AI? I wish the whole world stop using AI for good\n",
        "Label:-1\n",
        "Reason:The headline indicates that developing AI is a waste of time and wishes that AI usage would stop for good.\n",
        "Headline: AI don't have right to ownership in the US\n",
        "Label:0\n",
        "Reason:The headline states facts about ownership or copyright law in the US. It does not clearly support or downgrade AI usage or development.\n",
        "Headline: Show HN: \"TEXIE,\" an AI self-driving car that makes your life easier.\n",
        "Label:1\n",
        "Reason:The headline advertises an AI self-driving project by claiming that it makes your life easier.\n",
        "\n",
        "Headline: {headline_input}\n",
        "Label:\n",
        "Reason:\n",
        "'''"
      ]
    },
    {
      "cell_type": "markdown",
      "metadata": {
        "id": "4fqw332Lcfey"
      },
      "source": [
        "### Functions"
      ]
    },
    {
      "cell_type": "code",
      "execution_count": null,
      "metadata": {
        "id": "PF8psm2OPgKb"
      },
      "outputs": [],
      "source": [
        "def get_sentiment_and_reason_openai(title):\n",
        "    prompt = prompt_template.format(headline_input=title)\n",
        "\n",
        "    for _ in range(3):\n",
        "        try:\n",
        "            response = client_openai.chat.completions.create(\n",
        "                model=\"gpt-4o-mini\",\n",
        "                messages=[\n",
        "                    {\"role\": \"system\", \"content\": \"You are an expert at analyzing text.\"},\n",
        "                    {\"role\": \"user\", \"content\": prompt}\n",
        "                ],\n",
        "                max_tokens=150,\n",
        "                temperature=0\n",
        "            )\n",
        "            result = response.choices[0].message.content.strip()\n",
        "            #print(result)\n",
        "\n",
        "            sentiment_line = next((line for line in result.split('\\n') if \"label:\" in line.lower()), None)\n",
        "            reason_line = next((line for line in result.split('\\n') if \"reason:\" in line.lower()), None)\n",
        "\n",
        "            if sentiment_line:\n",
        "                try:\n",
        "                    # Extract sentiment value and clean it\n",
        "                    sentiment_str = sentiment_line.split(\":\")[1].strip()\n",
        "                    # Handle negative numbers properly\n",
        "                    if sentiment_str in ['-1', '0', '1']:\n",
        "                        sentiment = int(sentiment_str)\n",
        "                    else:\n",
        "                        print(f\"Invalid sentiment for title: {title}\")\n",
        "                        print(f\"Raw sentiment line: {sentiment_line}\")\n",
        "                        print(f\"Raw reason line: {reason_line}\")\n",
        "                        raise ValueError(f\"Invalid sentiment value: {sentiment_line}\")\n",
        "\n",
        "                    reason = reason_line.split(\":\", 1)[1].strip()\n",
        "                    return sentiment, reason\n",
        "\n",
        "                except ValueError as e:\n",
        "                    print(f\"Warning: Could not parse sentiment: {e}\")\n",
        "                    return -999, \"Error parsing sentiment\"\n",
        "\n",
        "            else:\n",
        "                raise ValueError(\"Invalid response format\")\n",
        "\n",
        "        except Exception as e:\n",
        "            print(f\"API call failed: {e}. Retrying in 1-2 minutes...\")\n",
        "            time.sleep(random.randint(60, 120))\n",
        "\n",
        "    return -999, \"Failed after 3 retries\""
      ]
    },
    {
      "cell_type": "code",
      "execution_count": null,
      "metadata": {
        "id": "xUu_fBQkahAH"
      },
      "outputs": [],
      "source": [
        "\"\"\"Function to process story titles and save results\"\"\"\n",
        "\n",
        "def process_titles(df, output_csv_file, save_interval=5):\n",
        "    # Resume from existing file, if available\n",
        "    try:\n",
        "        existing_df = pd.read_csv(output_csv_file)\n",
        "        df.update(existing_df)  # Merge saved progress\n",
        "        print(\"Resuming from the last saved point...\")\n",
        "    except FileNotFoundError:\n",
        "        print(\"No existing output file found. Starting fresh...\")\n",
        "\n",
        "    pbar = tqdm(total=len(df), desc=\"Processing story titles\")\n",
        "\n",
        "    for i, row in df.iterrows():\n",
        "        # Skip rows already processed\n",
        "        if pd.notna(row.get('story_sentiment')) and pd.notna(row.get('story_sentiment_reason')):\n",
        "            pbar.update(1)\n",
        "            continue\n",
        "\n",
        "        # Get sentiment and reason for the story title\n",
        "        sentiment, reason = get_sentiment_and_reason_openai(row['title'])\n",
        "        df.at[i, 'story_sentiment'] = sentiment\n",
        "        df.at[i, 'story_sentiment_reason'] = reason\n",
        "        print(f\"sentiment: {sentiment}\")\n",
        "        print(f\"reason: {reason}\")\n",
        "        pbar.update(1)\n",
        "\n",
        "        # Save progress at intervals\n",
        "        if (i + 1) % save_interval == 0:\n",
        "            df.to_csv(output_csv_file, index=False)\n",
        "            print(f\"\\nSaved progress at row {i + 1}\")\n",
        "        time.sleep(0.5)\n",
        "\n",
        "    pbar.close()\n",
        "\n",
        "    # Final save\n",
        "    df.to_csv(output_csv_file, index=False)\n",
        "    print(f\"Final result saved to {output_csv_file}\")"
      ]
    },
    {
      "cell_type": "markdown",
      "metadata": {},
      "source": [
        "# Sentiment Analysis"
      ]
    },
    {
      "cell_type": "code",
      "execution_count": null,
      "metadata": {
        "colab": {
          "base_uri": "https://localhost:8080/",
          "height": 1000,
          "referenced_widgets": [
            "bb938f39ddb149869f0682f161c6152b",
            "15edc539a9a84775be64eb664b6b020a",
            "98d65236760c4fbfbe2dff24153cb423",
            "fbfdd087ee6246c7b878ccf74e064c03",
            "d88d542de757463687a6c68beed88597",
            "815810e59ae94139b743c17be474be95",
            "4767914e7ee14b6089134c5052a402db",
            "b0b4a3b86a79435188441a744c43cdff",
            "b0764f571e3645779a5251896cea938f",
            "82e41f44c24f4941af5698aa0903613d",
            "09c3ce0255e4413aac47b229b1eb5a31"
          ]
        },
        "id": "vBr12dNvPgKd",
        "outputId": "858014e6-1e1a-4ff4-fc0e-e5f80ee258e1"
      },
      "outputs": [],
      "source": [
        "df = pd.read_csv(output_csv_file)\n",
        "\n",
        "# Add columns if missing\n",
        "if 'story_sentiment' not in df.columns:\n",
        "    df['story_sentiment'] = None\n",
        "if 'story_sentiment_reason' not in df.columns:\n",
        "    df['story_sentiment_reason'] = None\n",
        "\n",
        "# Process titles\n",
        "process_titles(df, output_csv_file)\n",
        "\n",
        "print(f'Sentiment analysis completed and saved to {output_csv_file}')"
      ]
    }
  ],
  "metadata": {
    "colab": {
      "provenance": []
    },
    "kernelspec": {
      "display_name": "Python 3",
      "name": "python3"
    },
    "language_info": {
      "name": "python"
    },
    "widgets": {
      "application/vnd.jupyter.widget-state+json": {
        "09c3ce0255e4413aac47b229b1eb5a31": {
          "model_module": "@jupyter-widgets/controls",
          "model_module_version": "1.5.0",
          "model_name": "DescriptionStyleModel",
          "state": {
            "_model_module": "@jupyter-widgets/controls",
            "_model_module_version": "1.5.0",
            "_model_name": "DescriptionStyleModel",
            "_view_count": null,
            "_view_module": "@jupyter-widgets/base",
            "_view_module_version": "1.2.0",
            "_view_name": "StyleView",
            "description_width": ""
          }
        },
        "15edc539a9a84775be64eb664b6b020a": {
          "model_module": "@jupyter-widgets/controls",
          "model_module_version": "1.5.0",
          "model_name": "HTMLModel",
          "state": {
            "_dom_classes": [],
            "_model_module": "@jupyter-widgets/controls",
            "_model_module_version": "1.5.0",
            "_model_name": "HTMLModel",
            "_view_count": null,
            "_view_module": "@jupyter-widgets/controls",
            "_view_module_version": "1.5.0",
            "_view_name": "HTMLView",
            "description": "",
            "description_tooltip": null,
            "layout": "IPY_MODEL_815810e59ae94139b743c17be474be95",
            "placeholder": "​",
            "style": "IPY_MODEL_4767914e7ee14b6089134c5052a402db",
            "value": "Processing story titles: 100%"
          }
        },
        "4767914e7ee14b6089134c5052a402db": {
          "model_module": "@jupyter-widgets/controls",
          "model_module_version": "1.5.0",
          "model_name": "DescriptionStyleModel",
          "state": {
            "_model_module": "@jupyter-widgets/controls",
            "_model_module_version": "1.5.0",
            "_model_name": "DescriptionStyleModel",
            "_view_count": null,
            "_view_module": "@jupyter-widgets/base",
            "_view_module_version": "1.2.0",
            "_view_name": "StyleView",
            "description_width": ""
          }
        },
        "815810e59ae94139b743c17be474be95": {
          "model_module": "@jupyter-widgets/base",
          "model_module_version": "1.2.0",
          "model_name": "LayoutModel",
          "state": {
            "_model_module": "@jupyter-widgets/base",
            "_model_module_version": "1.2.0",
            "_model_name": "LayoutModel",
            "_view_count": null,
            "_view_module": "@jupyter-widgets/base",
            "_view_module_version": "1.2.0",
            "_view_name": "LayoutView",
            "align_content": null,
            "align_items": null,
            "align_self": null,
            "border": null,
            "bottom": null,
            "display": null,
            "flex": null,
            "flex_flow": null,
            "grid_area": null,
            "grid_auto_columns": null,
            "grid_auto_flow": null,
            "grid_auto_rows": null,
            "grid_column": null,
            "grid_gap": null,
            "grid_row": null,
            "grid_template_areas": null,
            "grid_template_columns": null,
            "grid_template_rows": null,
            "height": null,
            "justify_content": null,
            "justify_items": null,
            "left": null,
            "margin": null,
            "max_height": null,
            "max_width": null,
            "min_height": null,
            "min_width": null,
            "object_fit": null,
            "object_position": null,
            "order": null,
            "overflow": null,
            "overflow_x": null,
            "overflow_y": null,
            "padding": null,
            "right": null,
            "top": null,
            "visibility": null,
            "width": null
          }
        },
        "82e41f44c24f4941af5698aa0903613d": {
          "model_module": "@jupyter-widgets/base",
          "model_module_version": "1.2.0",
          "model_name": "LayoutModel",
          "state": {
            "_model_module": "@jupyter-widgets/base",
            "_model_module_version": "1.2.0",
            "_model_name": "LayoutModel",
            "_view_count": null,
            "_view_module": "@jupyter-widgets/base",
            "_view_module_version": "1.2.0",
            "_view_name": "LayoutView",
            "align_content": null,
            "align_items": null,
            "align_self": null,
            "border": null,
            "bottom": null,
            "display": null,
            "flex": null,
            "flex_flow": null,
            "grid_area": null,
            "grid_auto_columns": null,
            "grid_auto_flow": null,
            "grid_auto_rows": null,
            "grid_column": null,
            "grid_gap": null,
            "grid_row": null,
            "grid_template_areas": null,
            "grid_template_columns": null,
            "grid_template_rows": null,
            "height": null,
            "justify_content": null,
            "justify_items": null,
            "left": null,
            "margin": null,
            "max_height": null,
            "max_width": null,
            "min_height": null,
            "min_width": null,
            "object_fit": null,
            "object_position": null,
            "order": null,
            "overflow": null,
            "overflow_x": null,
            "overflow_y": null,
            "padding": null,
            "right": null,
            "top": null,
            "visibility": null,
            "width": null
          }
        },
        "98d65236760c4fbfbe2dff24153cb423": {
          "model_module": "@jupyter-widgets/controls",
          "model_module_version": "1.5.0",
          "model_name": "FloatProgressModel",
          "state": {
            "_dom_classes": [],
            "_model_module": "@jupyter-widgets/controls",
            "_model_module_version": "1.5.0",
            "_model_name": "FloatProgressModel",
            "_view_count": null,
            "_view_module": "@jupyter-widgets/controls",
            "_view_module_version": "1.5.0",
            "_view_name": "ProgressView",
            "bar_style": "success",
            "description": "",
            "description_tooltip": null,
            "layout": "IPY_MODEL_b0b4a3b86a79435188441a744c43cdff",
            "max": 385,
            "min": 0,
            "orientation": "horizontal",
            "style": "IPY_MODEL_b0764f571e3645779a5251896cea938f",
            "value": 385
          }
        },
        "b0764f571e3645779a5251896cea938f": {
          "model_module": "@jupyter-widgets/controls",
          "model_module_version": "1.5.0",
          "model_name": "ProgressStyleModel",
          "state": {
            "_model_module": "@jupyter-widgets/controls",
            "_model_module_version": "1.5.0",
            "_model_name": "ProgressStyleModel",
            "_view_count": null,
            "_view_module": "@jupyter-widgets/base",
            "_view_module_version": "1.2.0",
            "_view_name": "StyleView",
            "bar_color": null,
            "description_width": ""
          }
        },
        "b0b4a3b86a79435188441a744c43cdff": {
          "model_module": "@jupyter-widgets/base",
          "model_module_version": "1.2.0",
          "model_name": "LayoutModel",
          "state": {
            "_model_module": "@jupyter-widgets/base",
            "_model_module_version": "1.2.0",
            "_model_name": "LayoutModel",
            "_view_count": null,
            "_view_module": "@jupyter-widgets/base",
            "_view_module_version": "1.2.0",
            "_view_name": "LayoutView",
            "align_content": null,
            "align_items": null,
            "align_self": null,
            "border": null,
            "bottom": null,
            "display": null,
            "flex": null,
            "flex_flow": null,
            "grid_area": null,
            "grid_auto_columns": null,
            "grid_auto_flow": null,
            "grid_auto_rows": null,
            "grid_column": null,
            "grid_gap": null,
            "grid_row": null,
            "grid_template_areas": null,
            "grid_template_columns": null,
            "grid_template_rows": null,
            "height": null,
            "justify_content": null,
            "justify_items": null,
            "left": null,
            "margin": null,
            "max_height": null,
            "max_width": null,
            "min_height": null,
            "min_width": null,
            "object_fit": null,
            "object_position": null,
            "order": null,
            "overflow": null,
            "overflow_x": null,
            "overflow_y": null,
            "padding": null,
            "right": null,
            "top": null,
            "visibility": null,
            "width": null
          }
        },
        "bb938f39ddb149869f0682f161c6152b": {
          "model_module": "@jupyter-widgets/controls",
          "model_module_version": "1.5.0",
          "model_name": "HBoxModel",
          "state": {
            "_dom_classes": [],
            "_model_module": "@jupyter-widgets/controls",
            "_model_module_version": "1.5.0",
            "_model_name": "HBoxModel",
            "_view_count": null,
            "_view_module": "@jupyter-widgets/controls",
            "_view_module_version": "1.5.0",
            "_view_name": "HBoxView",
            "box_style": "",
            "children": [
              "IPY_MODEL_15edc539a9a84775be64eb664b6b020a",
              "IPY_MODEL_98d65236760c4fbfbe2dff24153cb423",
              "IPY_MODEL_fbfdd087ee6246c7b878ccf74e064c03"
            ],
            "layout": "IPY_MODEL_d88d542de757463687a6c68beed88597"
          }
        },
        "d88d542de757463687a6c68beed88597": {
          "model_module": "@jupyter-widgets/base",
          "model_module_version": "1.2.0",
          "model_name": "LayoutModel",
          "state": {
            "_model_module": "@jupyter-widgets/base",
            "_model_module_version": "1.2.0",
            "_model_name": "LayoutModel",
            "_view_count": null,
            "_view_module": "@jupyter-widgets/base",
            "_view_module_version": "1.2.0",
            "_view_name": "LayoutView",
            "align_content": null,
            "align_items": null,
            "align_self": null,
            "border": null,
            "bottom": null,
            "display": null,
            "flex": null,
            "flex_flow": null,
            "grid_area": null,
            "grid_auto_columns": null,
            "grid_auto_flow": null,
            "grid_auto_rows": null,
            "grid_column": null,
            "grid_gap": null,
            "grid_row": null,
            "grid_template_areas": null,
            "grid_template_columns": null,
            "grid_template_rows": null,
            "height": null,
            "justify_content": null,
            "justify_items": null,
            "left": null,
            "margin": null,
            "max_height": null,
            "max_width": null,
            "min_height": null,
            "min_width": null,
            "object_fit": null,
            "object_position": null,
            "order": null,
            "overflow": null,
            "overflow_x": null,
            "overflow_y": null,
            "padding": null,
            "right": null,
            "top": null,
            "visibility": null,
            "width": null
          }
        },
        "fbfdd087ee6246c7b878ccf74e064c03": {
          "model_module": "@jupyter-widgets/controls",
          "model_module_version": "1.5.0",
          "model_name": "HTMLModel",
          "state": {
            "_dom_classes": [],
            "_model_module": "@jupyter-widgets/controls",
            "_model_module_version": "1.5.0",
            "_model_name": "HTMLModel",
            "_view_count": null,
            "_view_module": "@jupyter-widgets/controls",
            "_view_module_version": "1.5.0",
            "_view_name": "HTMLView",
            "description": "",
            "description_tooltip": null,
            "layout": "IPY_MODEL_82e41f44c24f4941af5698aa0903613d",
            "placeholder": "​",
            "style": "IPY_MODEL_09c3ce0255e4413aac47b229b1eb5a31",
            "value": " 385/385 [06:43&lt;00:00,  1.07it/s]"
          }
        }
      }
    }
  },
  "nbformat": 4,
  "nbformat_minor": 0
}
