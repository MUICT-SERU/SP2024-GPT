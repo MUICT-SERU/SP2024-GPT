{
 "cells": [
  {
   "cell_type": "code",
   "execution_count": 1,
   "metadata": {},
   "outputs": [],
   "source": [
    "import pandas as pd\n",
    "import scipy.stats as stats\n",
    "from collections import Counter\n",
    "import numpy as np"
   ]
  },
  {
   "cell_type": "code",
   "execution_count": 15,
   "metadata": {},
   "outputs": [],
   "source": [
    "def chi_sq_test(df1, df2, senti_col='story_sentiment'):\n",
    "    ai_sentiment_list = df1[senti_col]\n",
    "    non_ai_sentiment_list = df2[senti_col]\n",
    "\n",
    "    ai_counts = Counter(ai_sentiment_list)\n",
    "    non_ai_counts = Counter(non_ai_sentiment_list)\n",
    "\n",
    "    # Create contingency table with raw counts\n",
    "    observed = np.array([\n",
    "        [ai_counts[-1], ai_counts[0], ai_counts[1]],  # AI sentiment counts\n",
    "        [non_ai_counts[-1], non_ai_counts[0], non_ai_counts[1]]   # Non-AI sentiment counts\n",
    "    ])\n",
    "\n",
    "    # Chi-Square test\n",
    "    chi2_stat, p_value, dof, expected = stats.chi2_contingency(observed)\n",
    "\n",
    "    print(f\"Chi-Square Statistic: {chi2_stat}\")\n",
    "    print(f\"P-value: {p_value}\")\n",
    "\n",
    "    if p_value < 0.05:\n",
    "        print(\"Reject H₀: Sentiment distribution is significantly different between AI and non-AI stories.\")\n",
    "    else:\n",
    "        print(\"Fail to reject H₀: No significant difference in sentiment distribution.\")"
   ]
  },
  {
   "cell_type": "markdown",
   "metadata": {},
   "source": [
    "# AI & Non-AI Story"
   ]
  },
  {
   "cell_type": "code",
   "execution_count": 2,
   "metadata": {},
   "outputs": [],
   "source": [
    "ai_story_df = pd.read_csv('..\\\\dataset\\\\hn_gh_ai_story_sentiment.csv')\n",
    "non_ai_story_df = pd.read_csv('..\\\\dataset\\\\hn_gh_non_ai_story_sentiment.csv')"
   ]
  },
  {
   "cell_type": "code",
   "execution_count": 16,
   "metadata": {},
   "outputs": [
    {
     "name": "stdout",
     "output_type": "stream",
     "text": [
      "Chi-Square Statistic: 117.18142191520026\n",
      "P-value: 3.584078723899005e-26\n",
      "Reject H₀: Sentiment distribution is significantly different between AI and non-AI stories.\n"
     ]
    }
   ],
   "source": [
    "chi_sq_test(ai_story_df, non_ai_story_df)"
   ]
  },
  {
   "cell_type": "markdown",
   "metadata": {},
   "source": [
    "# AI & Non-AI Comment"
   ]
  },
  {
   "cell_type": "code",
   "execution_count": 11,
   "metadata": {},
   "outputs": [],
   "source": [
    "ai_comment_df = pd.read_csv('..\\\\dataset\\\\hn_gh_ai_comment_sentiment.csv')\n",
    "non_ai_comment_df = pd.read_csv('..\\\\dataset\\\\hn_gh_non_ai_comment_sentiment.csv')"
   ]
  },
  {
   "cell_type": "code",
   "execution_count": 17,
   "metadata": {},
   "outputs": [
    {
     "name": "stdout",
     "output_type": "stream",
     "text": [
      "Chi-Square Statistic: 114.56282943381389\n",
      "P-value: 1.3273873449134634e-25\n",
      "Reject H₀: Sentiment distribution is significantly different between AI and non-AI stories.\n"
     ]
    }
   ],
   "source": [
    "chi_sq_test(ai_comment_df, non_ai_comment_df, senti_col='comment_sentiment')"
   ]
  }
 ],
 "metadata": {
  "kernelspec": {
   "display_name": "Python 3",
   "language": "python",
   "name": "python3"
  },
  "language_info": {
   "codemirror_mode": {
    "name": "ipython",
    "version": 3
   },
   "file_extension": ".py",
   "mimetype": "text/x-python",
   "name": "python",
   "nbconvert_exporter": "python",
   "pygments_lexer": "ipython3",
   "version": "3.12.2"
  }
 },
 "nbformat": 4,
 "nbformat_minor": 2
}
