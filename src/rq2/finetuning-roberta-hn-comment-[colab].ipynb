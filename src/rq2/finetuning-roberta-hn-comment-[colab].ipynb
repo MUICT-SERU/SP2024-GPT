{
 "cells": [
  {
   "cell_type": "markdown",
   "metadata": {
    "id": "TTMpOWcqNhC9"
   },
   "source": [
    "**Note:**\n",
    "\n",
    "This jupyter notebook used Google Colab and Hugging Face.\n",
    "\n",
    "To use this notebook,\n",
    "- you may need to update the file path on \"UPDATE_TO_YOUR_FILE_PATH\"\n",
    "- you need to get access token from your Hugging Face account and add it to your Google Colab as a secret named \"HF_TOKEN\""
   ]
  },
  {
   "cell_type": "markdown",
   "metadata": {},
   "source": [
    "# Import Modules & Setup"
   ]
  },
  {
   "cell_type": "code",
   "execution_count": null,
   "metadata": {
    "colab": {
     "base_uri": "https://localhost:8080/"
    },
    "executionInfo": {
     "elapsed": 3825,
     "status": "ok",
     "timestamp": 1741216462541,
     "user": {
      "displayName": "Warittha Tarntong",
      "userId": "06608555488578947482"
     },
     "user_tz": -420
    },
    "id": "ftpM1iGOlkNe",
    "outputId": "524845d4-7a2d-403e-86da-dee978214025"
   },
   "outputs": [],
   "source": [
    "!pip install optuna"
   ]
  },
  {
   "cell_type": "code",
   "execution_count": 5,
   "metadata": {
    "executionInfo": {
     "elapsed": 2,
     "status": "ok",
     "timestamp": 1741216511521,
     "user": {
      "displayName": "Warittha Tarntong",
      "userId": "06608555488578947482"
     },
     "user_tz": -420
    },
    "id": "uI_SBoYQiZzu"
   },
   "outputs": [],
   "source": [
    "import pandas as pd\n",
    "import numpy as np\n",
    "import optuna\n",
    "import torch\n",
    "from torch import nn\n",
    "import gc\n",
    "import os\n",
    "from pathlib import Path\n",
    "\n",
    "from sklearn.model_selection import StratifiedKFold\n",
    "from transformers import (\n",
    "    RobertaConfig,\n",
    "    RobertaTokenizer,\n",
    "    RobertaForSequenceClassification,\n",
    "    Trainer,\n",
    "    TrainingArguments,\n",
    "    EarlyStoppingCallback\n",
    ")\n",
    "from sklearn.metrics import (\n",
    "    precision_recall_fscore_support,\n",
    "    accuracy_score,\n",
    "    f1_score,\n",
    "    classification_report,\n",
    ")\n",
    "import logging\n",
    "from google.colab import userdata"
   ]
  },
  {
   "cell_type": "code",
   "execution_count": 3,
   "metadata": {
    "executionInfo": {
     "elapsed": 4,
     "status": "ok",
     "timestamp": 1741216484763,
     "user": {
      "displayName": "Warittha Tarntong",
      "userId": "06608555488578947482"
     },
     "user_tz": -420
    },
    "id": "r3FVBT8xrGO1"
   },
   "outputs": [],
   "source": [
    "# Set up logging\n",
    "logging.basicConfig(level=logging.INFO)\n",
    "logger = logging.getLogger(__name__)"
   ]
  },
  {
   "cell_type": "code",
   "execution_count": 4,
   "metadata": {
    "colab": {
     "base_uri": "https://localhost:8080/"
    },
    "executionInfo": {
     "elapsed": 26750,
     "status": "ok",
     "timestamp": 1741216511517,
     "user": {
      "displayName": "Warittha Tarntong",
      "userId": "06608555488578947482"
     },
     "user_tz": -420
    },
    "id": "JdBefqielp46",
    "outputId": "80782c8b-93ca-446a-c1fd-965f39421c5f"
   },
   "outputs": [
    {
     "name": "stdout",
     "output_type": "stream",
     "text": [
      "Mounted at /content/drive\n"
     ]
    }
   ],
   "source": [
    "from google.colab import drive\n",
    "drive.mount('/content/drive')"
   ]
  },
  {
   "cell_type": "code",
   "execution_count": null,
   "metadata": {
    "colab": {
     "base_uri": "https://localhost:8080/"
    },
    "executionInfo": {
     "elapsed": 15987,
     "status": "ok",
     "timestamp": 1741216527511,
     "user": {
      "displayName": "Warittha Tarntong",
      "userId": "06608555488578947482"
     },
     "user_tz": -420
    },
    "id": "7zM67MdTUntG",
    "outputId": "471029fe-3a61-4bfc-b9ce-21b3edbd4bc0"
   },
   "outputs": [],
   "source": [
    "from googleapiclient.discovery import build\n",
    "from google.colab import auth\n",
    "\n",
    "# Authenticate\n",
    "auth.authenticate_user()\n",
    "\n",
    "# Create the Drive API service\n",
    "service = build('drive', 'v3')"
   ]
  },
  {
   "cell_type": "markdown",
   "metadata": {},
   "source": [
    "# Import Data"
   ]
  },
  {
   "cell_type": "code",
   "execution_count": null,
   "metadata": {
    "executionInfo": {
     "elapsed": 3,
     "status": "ok",
     "timestamp": 1741216532811,
     "user": {
      "displayName": "Warittha Tarntong",
      "userId": "06608555488578947482"
     },
     "user_tz": -420
    },
    "id": "0Q4-9YutSw5G"
   },
   "outputs": [],
   "source": [
    "def prepare_data(file_path):\n",
    "    \"\"\"Load and prepare the data\"\"\"\n",
    "    try:\n",
    "        # Load dataset\n",
    "        df = pd.read_csv(file_path)\n",
    "\n",
    "        # Combine title and comment text\n",
    "        df['combined_text'] = df['title'].fillna('') + ' [SEP] ' + df['comment_text'].fillna('')\n",
    "\n",
    "        # Convert labels to proper format (-1 → 0, 0 → 1, 1 → 2)\n",
    "        df['labels'] = df['comment_consensus'].map({-1: 0, 0: 1, 1: 2})\n",
    "\n",
    "        # Remove any rows with NaN values\n",
    "        df = df.dropna(subset=['combined_text', 'labels'])\n",
    "\n",
    "        # Print dataset statistics\n",
    "        print(\"\\nDataset Statistics:\")\n",
    "        print(f\"Total samples: {len(df)}\")\n",
    "        print(\"Label distribution:\")\n",
    "        label_distribution = df['labels'].value_counts().sort_index()\n",
    "        print(label_distribution)\n",
    "\n",
    "        return df['combined_text'], df['labels'], label_distribution\n",
    "\n",
    "    except Exception as e:\n",
    "        logger.error(f\"Error preparing data: {str(e)}\")\n",
    "        raise"
   ]
  },
  {
   "cell_type": "code",
   "execution_count": null,
   "metadata": {
    "colab": {
     "base_uri": "https://localhost:8080/"
    },
    "executionInfo": {
     "elapsed": 1987,
     "status": "ok",
     "timestamp": 1741216541310,
     "user": {
      "displayName": "Warittha Tarntong",
      "userId": "06608555488578947482"
     },
     "user_tz": -420
    },
    "id": "DF2nVRgul_Ta",
    "outputId": "d2cc92e7-c183-461c-fd3e-a6d875e6be9a"
   },
   "outputs": [
    {
     "name": "stdout",
     "output_type": "stream",
     "text": [
      "\n",
      "Dataset Statistics:\n",
      "Total samples: 385\n",
      "Label distribution:\n",
      "labels\n",
      "0     72\n",
      "1    237\n",
      "2     76\n",
      "Name: count, dtype: int64\n"
     ]
    }
   ],
   "source": [
    "# Load and prepare data\n",
    "dataset_path = '/content/drive/MyDrive/SP2024-GPT/dataset/ground_truth_hn_ai_comment.csv' # UPDATE_TO_YOUR_FILE_PATH\n",
    "X, y, label_distribution = prepare_data(dataset_path)"
   ]
  },
  {
   "cell_type": "markdown",
   "metadata": {},
   "source": [
    "# Training Setup"
   ]
  },
  {
   "cell_type": "code",
   "execution_count": 10,
   "metadata": {
    "colab": {
     "base_uri": "https://localhost:8080/"
    },
    "executionInfo": {
     "elapsed": 4,
     "status": "ok",
     "timestamp": 1741216546924,
     "user": {
      "displayName": "Warittha Tarntong",
      "userId": "06608555488578947482"
     },
     "user_tz": -420
    },
    "id": "emz_GGiOObxY",
    "outputId": "bb0e5422-cadc-4802-ce92-e6d476bde35f"
   },
   "outputs": [
    {
     "name": "stdout",
     "output_type": "stream",
     "text": [
      "3\n"
     ]
    }
   ],
   "source": [
    "MAX_LENGTH = 512\n",
    "MODEL = 'FacebookAI/roberta-base'\n",
    "SEED = 42\n",
    "N_SPLITS = 5\n",
    "NUM_LABELS = len(set(y))\n",
    "print(NUM_LABELS)"
   ]
  },
  {
   "cell_type": "code",
   "execution_count": null,
   "metadata": {
    "colab": {
     "base_uri": "https://localhost:8080/",
     "height": 264,
     "referenced_widgets": [
      "6461a7f3c9d5410ab3da2a7ad30ddb72",
      "0b6e8b080dbc4167a3103882f0dd5625",
      "5d29c9782dab42839921528c56f22308",
      "830be8875c344fd18274a7410b4cf45b",
      "486fd141cc934fd599d6a1945051d4d4",
      "d8091377d17d435398418d8fc48e91f5",
      "dc71ca41a35c4969bf4fb4ba79f54261",
      "a52ffeaa9159426c9d20681f49ea6871",
      "ae3c14cfa4ce4b939b383ff61d6f6906",
      "9ec158e6b2e64346a9ee7d862e264a96",
      "79510c2af6bc4321bf424d1cd5527181",
      "97a4299b8d3842bcb444894a2c131a49",
      "ec350798def5489ea00a26b6e4a8cb54",
      "6ad326baeca24ea497704a37f53a95d3",
      "1df9919940de416483ac903a0d51d9f8",
      "dc352523a6f7497cb1104d372b8e3e76",
      "2017ebfa2eec4a9d9ff1fd640c365bc0",
      "608e8d0f74d2493ca072786f9f69789a",
      "2c42da2ab51c4b14a2d4543914752cef",
      "582b2241af024b47b96f7b59f881bd2b",
      "a7cdc29c8494474c9f8a3ffd784435d9",
      "39f61bc95427477496ae6729a15cd50f",
      "7945a78e84a5498685817f48dcae4463",
      "84503a76330549a7b90af69212e950db",
      "0b36067f8d3f40ffb302f8e89f5bb997",
      "d40fcff32ee74e7d97d7f976baa4467a",
      "3bcd883417ea41f887d19941cacb6209",
      "2eeb8ca636ff454bb455ff93c6ec5d6c",
      "5b8ac65754ce4c4d9601484e3bdf531a",
      "508b5c4cb797431d950d7712e67eebb6",
      "7ecf3b2fa7f44790b4c531b85c6f2730",
      "fdde51eb52a84c18ac1872cc830ab835",
      "4f209c440ad147de89eae2caff4117c0",
      "7ff115a652244019b350caab66410cad",
      "ca336136a78e434b87bcc43f1548853e",
      "453fe83fac5a4f0db40f9a6971aa43ae",
      "5aa1e057f41c4392975909eb36d6a5ae",
      "49caf3b64e1a42ee80cb77da27d12dc1",
      "64462f47655e43d0a9298f221ac0fb8b",
      "f08566a083a84a2badd9c766bc36302f",
      "7cf1fac8c4254a1a8cf32d0f6fda6186",
      "56ac954f37464267809914e019981301",
      "ada061711ed14a6abd6fb5773dbecf3e",
      "1bbe86ccc80144deb6d6a436bba2689a",
      "3fa0a2acc9164416927df1214b02a2b4",
      "3e2d92c30d7d42b4b4ef990f4362a9b3",
      "0c2dc4be91b5474ca7273cce4f3b40ee",
      "f520cca4838b486db22f0da009082cd0",
      "2440d92fe85b44418a2cfaaede872d1d",
      "5a51273af9f84e1aa48f9509f63f593c",
      "bce3670f3c314cf2b6e21799d09f1a0d",
      "be7f08a1bf464669b912f198461ee0a9",
      "7d01e49672e24e5a854fcc8d47081086",
      "fa9823502eec4076b3510bf6cd507042",
      "9b5a2f06526a4181924e4675bb11a168"
     ]
    },
    "executionInfo": {
     "elapsed": 14096,
     "status": "ok",
     "timestamp": 1741216562320,
     "user": {
      "displayName": "Warittha Tarntong",
      "userId": "06608555488578947482"
     },
     "user_tz": -420
    },
    "id": "TcJiZLEFPR1_",
    "outputId": "b58e122b-b919-42c0-fab8-b49c36ff45dd"
   },
   "outputs": [],
   "source": [
    "tokenizer = RobertaTokenizer.from_pretrained(MODEL, use_auth_token=userdata.get('HF_TOKEN'))"
   ]
  },
  {
   "cell_type": "code",
   "execution_count": 12,
   "metadata": {
    "executionInfo": {
     "elapsed": 3,
     "status": "ok",
     "timestamp": 1741216586642,
     "user": {
      "displayName": "Warittha Tarntong",
      "userId": "06608555488578947482"
     },
     "user_tz": -420
    },
    "id": "E6ZQcN7vQFww"
   },
   "outputs": [],
   "source": [
    "def tokenize_function(texts):\n",
    "    return tokenizer(texts, padding='max_length',\n",
    "                     truncation=True,\n",
    "                     max_length=MAX_LENGTH,\n",
    "                    )"
   ]
  },
  {
   "cell_type": "code",
   "execution_count": 13,
   "metadata": {
    "executionInfo": {
     "elapsed": 3,
     "status": "ok",
     "timestamp": 1741216588975,
     "user": {
      "displayName": "Warittha Tarntong",
      "userId": "06608555488578947482"
     },
     "user_tz": -420
    },
    "id": "GPriS-1OnBOb"
   },
   "outputs": [],
   "source": [
    "class MyDataset(torch.utils.data.Dataset):\n",
    "    def __init__(self, encodings, labels):\n",
    "        self.encodings = encodings\n",
    "        self.labels = labels\n",
    "\n",
    "    def __getitem__(self, idx):\n",
    "        item = {key: torch.tensor(val[idx]) for key, val in self.encodings.items()}\n",
    "        item['labels'] = torch.tensor(self.labels[idx])\n",
    "        return item\n",
    "\n",
    "    def __len__(self):\n",
    "        return len(self.labels)"
   ]
  },
  {
   "cell_type": "code",
   "execution_count": null,
   "metadata": {
    "id": "xuOUYYv2VSpi"
   },
   "outputs": [],
   "source": [
    "# For experiment, not used\n",
    "n_samples = label_distribution.sum()\n",
    "n_classes = len(label_distribution)\n",
    "class_weights = torch.tensor([n_samples / (n_classes * label_distribution[i]) for i in range(n_classes)])"
   ]
  },
  {
   "cell_type": "code",
   "execution_count": null,
   "metadata": {
    "id": "Nq_DqMzjUXtL"
   },
   "outputs": [],
   "source": [
    "# For experiment, not used\n",
    "class CustomTrainer(Trainer):\n",
    "    def __init__(self, *args, class_weights=None, **kwargs):\n",
    "        super().__init__(*args, **kwargs)\n",
    "        self.class_weights = class_weights.float().to(self.args.device) if class_weights is not None else None\n",
    "\n",
    "    def compute_loss(self, model, inputs, return_outputs=False):\n",
    "        labels = inputs.get(\"labels\")\n",
    "        # forward pass\n",
    "        outputs = model(**inputs)\n",
    "        logits = outputs.get('logits')\n",
    "\n",
    "        logits = logits.float()\n",
    "        labels = labels.long()\n",
    "\n",
    "        # compute custom loss\n",
    "        if self.class_weights is not None:\n",
    "            loss_fct = nn.CrossEntropyLoss(weight=self.class_weights)\n",
    "        else:\n",
    "            loss_fct = nn.CrossEntropyLoss()\n",
    "\n",
    "        loss = loss_fct(logits.view(-1, self.model.config.num_labels), labels.view(-1))\n",
    "\n",
    "        return (loss, outputs) if return_outputs else loss"
   ]
  },
  {
   "cell_type": "code",
   "execution_count": 14,
   "metadata": {
    "executionInfo": {
     "elapsed": 3,
     "status": "ok",
     "timestamp": 1741216594041,
     "user": {
      "displayName": "Warittha Tarntong",
      "userId": "06608555488578947482"
     },
     "user_tz": -420
    },
    "id": "4NgsSINrb3JR"
   },
   "outputs": [],
   "source": [
    "# Compute metric\n",
    "def compute_metrics(y_true, y_preds, labels=[0,1,2]):\n",
    "    precision, recall, f1, support = precision_recall_fscore_support(y_true, y_preds, average=None)\n",
    "    acc = accuracy_score(y_true, y_preds)\n",
    "    weighted_f1 = f1_score(y_true, y_preds, labels=labels, average=\"weighted\")\n",
    "    return {\n",
    "        \"accuracy\": acc,\n",
    "        \"weighted_f1\": weighted_f1,\n",
    "        \"precision\": precision,\n",
    "        \"recall\": recall,\n",
    "        \"f1\": f1,\n",
    "        \"support\": support\n",
    "    }"
   ]
  },
  {
   "cell_type": "code",
   "execution_count": null,
   "metadata": {
    "executionInfo": {
     "elapsed": 3,
     "status": "ok",
     "timestamp": 1741216594891,
     "user": {
      "displayName": "Warittha Tarntong",
      "userId": "06608555488578947482"
     },
     "user_tz": -420
    },
    "id": "VY1dSL1IvzG7"
   },
   "outputs": [],
   "source": [
    "# UPDATE_TO_YOUR_FILE_PATH\n",
    "def get_first_checkpoint_folder(directory=\"/content/drive/MyDrive/SP2024-GPT/models/roberta/\"):\n",
    "    # Get all directories that start with \"checkpoint-\"\n",
    "    checkpoint_folders = [d for d in os.listdir(directory)\n",
    "                         if os.path.isdir(os.path.join(directory, d))\n",
    "                         and d.startswith(\"checkpoint-\")]\n",
    "\n",
    "    if not checkpoint_folders:\n",
    "        return None\n",
    "\n",
    "    # Return the first item when sorted alphabetically\n",
    "    return directory + sorted(checkpoint_folders)[0]"
   ]
  },
  {
   "cell_type": "code",
   "execution_count": 16,
   "metadata": {
    "executionInfo": {
     "elapsed": 3,
     "status": "ok",
     "timestamp": 1741216600355,
     "user": {
      "displayName": "Warittha Tarntong",
      "userId": "06608555488578947482"
     },
     "user_tz": -420
    },
    "id": "m1RbtD5PQb8J"
   },
   "outputs": [],
   "source": [
    "skf = StratifiedKFold(n_splits=N_SPLITS, shuffle=True, random_state=SEED)"
   ]
  },
  {
   "cell_type": "code",
   "execution_count": null,
   "metadata": {
    "executionInfo": {
     "elapsed": 10,
     "status": "ok",
     "timestamp": 1741216638374,
     "user": {
      "displayName": "Warittha Tarntong",
      "userId": "06608555488578947482"
     },
     "user_tz": -420
    },
    "id": "-22boJb1lxfx"
   },
   "outputs": [],
   "source": [
    "def train_model(X, y, trial, model_params):\n",
    "    try:\n",
    "        _itr_metrics = []\n",
    "        _cross_val_f1 = []\n",
    "        _cross_val_loss = []\n",
    "        for fold, (train_index, val_index) in enumerate(skf.split(X.to_list(), y.to_list())):\n",
    "            print(f\"Fold {fold + 1}/{N_SPLITS}\")\n",
    "\n",
    "            # Split data into training and validation sets\n",
    "            X_train, X_val = X.iloc[train_index], X.iloc[val_index]\n",
    "            y_train, y_val = y.iloc[train_index], y.iloc[val_index]\n",
    "\n",
    "            # Tokenize and create dataset\n",
    "            train_encodings = tokenize_function(X_train.tolist())\n",
    "            val_encodings = tokenize_function(X_val.tolist())\n",
    "\n",
    "            train_dataset = MyDataset(train_encodings, y_train.tolist())\n",
    "            val_dataset = MyDataset(val_encodings, y_val.tolist())\n",
    "\n",
    "            # Load model from pretrained\n",
    "            model = RobertaForSequenceClassification.from_pretrained(\n",
    "                    MODEL,\n",
    "                    num_labels=NUM_LABELS,\n",
    "                    use_auth_token=userdata.get('HF_TOKEN')\n",
    "                    ).to(device)\n",
    "            config = RobertaConfig.from_pretrained(MODEL)\n",
    "            config.hidden_dropout_prob = model_params['hidden_dropout_prob']\n",
    "            config.attention_probs_dropout_prob = model_params['attention_probs_dropout_prob']\n",
    "\n",
    "            # Training Arguments\n",
    "            training_args = TrainingArguments(\n",
    "                output_dir=model_params['output_dir'],\n",
    "                eval_strategy=\"epoch\",\n",
    "                per_device_train_batch_size=model_params['batch_size'],\n",
    "                per_device_eval_batch_size=model_params['batch_size'],\n",
    "                learning_rate=model_params['learning_rate'],\n",
    "                weight_decay=model_params['weight_decay'],\n",
    "                max_grad_norm=model_params['max_grad_norm'],\n",
    "                num_train_epochs=model_params['num_epochs'],\n",
    "                warmup_ratio=model_params['warmup_ratio'],\n",
    "                save_strategy=\"epoch\",\n",
    "                logging_dir=model_params['logging_dir'],\n",
    "                logging_strategy=\"epoch\",\n",
    "                seed=SEED,\n",
    "                save_total_limit=1,\n",
    "                load_best_model_at_end=True,\n",
    "                metric_for_best_model=\"eval_loss\",\n",
    "                greater_is_better=False,\n",
    "                label_smoothing_factor=model_params['label_smoothing_factor'],\n",
    "                optim=model_params['optimizer'],\n",
    "                report_to=\"none\",\n",
    "                save_only_model=True\n",
    "            )\n",
    "\n",
    "            # Initialize and trian your model\n",
    "            trainer = Trainer(\n",
    "                model=model,\n",
    "                args=training_args,\n",
    "                train_dataset=train_dataset,\n",
    "                eval_dataset=val_dataset,\n",
    "                # class_weights=class_weights,\n",
    "                callbacks=[EarlyStoppingCallback(early_stopping_patience=3, early_stopping_threshold=1e-4)]\n",
    "            )\n",
    "\n",
    "            # Train the model\n",
    "            trainer.train()\n",
    "\n",
    "            # Empty the trash\n",
    "            service.files().emptyTrash().execute()\n",
    "\n",
    "            # Evaluate the model on the validation set\n",
    "            val_score = trainer.evaluate(val_dataset)\n",
    "            _cross_val_loss.append(val_score[\"eval_loss\"])\n",
    "            print(f'Validation Score fold-{fold+1}: {val_score[\"eval_loss\"]:.4f}')\n",
    "            cross_val_loss[fold+1].append(val_score[\"eval_loss\"])\n",
    "\n",
    "            # Make prediction on validation\n",
    "            trainer.model = trainer.model.from_pretrained(get_first_checkpoint_folder(model_params['output_dir'])).to(device)\n",
    "            val_preds_raw, val_labels , _ = trainer.predict(val_dataset)\n",
    "            val_preds = np.argmax(val_preds_raw, axis=-1)\n",
    "\n",
    "\n",
    "            # Compute & keep metrics\n",
    "            metrics = compute_metrics(val_labels, val_preds)\n",
    "            metrics['fold'] = fold + 1\n",
    "            _itr_metrics.append(metrics)\n",
    "            itr_metrics.append(metrics)\n",
    "            print(classification_report(val_labels, val_preds, digits=3))\n",
    "            intermediate_value = metrics['weighted_f1']\n",
    "            print(f'Intermediate weighted f1: {intermediate_value:.4f}')\n",
    "            _cross_val_f1.append(intermediate_value)\n",
    "            cross_val_f1[fold+1].append(intermediate_value)\n",
    "\n",
    "            # Save intermediate values to file\n",
    "            loss_df.loc[len(loss_df.index)] = [trial.number, fold+1, val_score[\"eval_loss\"], intermediate_value]\n",
    "            fname = '/content/drive/MyDrive/SP2024-GPT/results/roberta_intermediate.csv' # UPDATE_TO_YOUR_FILE_PATH\n",
    "            loss_df.to_csv(fname, index=False)\n",
    "\n",
    "            # Report intermediate objective value\n",
    "            trial.report(intermediate_value, fold)\n",
    "\n",
    "            # Clean up GPU memory\n",
    "            del model\n",
    "            del trainer\n",
    "            torch.cuda.empty_cache()\n",
    "            gc.collect()\n",
    "\n",
    "            if trial.should_prune():\n",
    "                raise optuna.TrialPruned()\n",
    "\n",
    "        avg_cross_val_f1 = np.mean(_cross_val_f1)\n",
    "        avg_cross_val_loss = np.mean(_cross_val_loss)\n",
    "        print(f'Average weighted f1 in 5-fold: {avg_cross_val_f1:.4f}')\n",
    "        print(f'Average eval loss in 5-fold: {avg_cross_val_loss:.4f}')\n",
    "        # Save average to file\n",
    "        avg_score_df.loc[len(loss_df.index)] = [trial.number, avg_cross_val_loss, avg_cross_val_f1]\n",
    "        fname = '/content/drive/MyDrive/SP2024-GPT/results/roberta_avg.csv' # UPDATE_TO_YOUR_FILE_PATH\n",
    "        avg_score_df.to_csv(fname, index=False)\n",
    "        return avg_cross_val_f1, avg_cross_val_loss, _itr_metrics\n",
    "\n",
    "    except Exception as e:\n",
    "        logger.error(f\"Training failed: {str(e)}\")\n",
    "        raise"
   ]
  },
  {
   "cell_type": "code",
   "execution_count": null,
   "metadata": {
    "executionInfo": {
     "elapsed": 5,
     "status": "ok",
     "timestamp": 1741216685394,
     "user": {
      "displayName": "Warittha Tarntong",
      "userId": "06608555488578947482"
     },
     "user_tz": -420
    },
    "id": "YtAgrmhxf5oi"
   },
   "outputs": [],
   "source": [
    "def objective(trial):\n",
    "    # Model parameters\n",
    "    model_params = {\n",
    "        'hidden_dropout_prob': trial.suggest_float('hidden_dropout_prob', 0.15, 0.35, step=0.01),\n",
    "        'attention_probs_dropout_prob': trial.suggest_float('attention_probs_dropout_prob', 0.1, 0.35, step=0.01),\n",
    "        'output_dir': '/content/drive/MyDrive/SP2024-GPT/models/roberta/', # UPDATE_TO_YOUR_FILE_PATH\n",
    "        'batch_size': trial.suggest_categorical('batch_size', [4, 8, 16]),\n",
    "        'learning_rate': trial.suggest_float('lr', 9e-6, 4e-5, step=1e-7),\n",
    "        'weight_decay': trial.suggest_float('weight_decay', 0.05, 0.15, step=0.01),\n",
    "        'max_grad_norm': trial.suggest_float('max_grad_norm', 0.5, 1.0, step=0.01),\n",
    "        'num_epochs': 15,\n",
    "        'warmup_ratio': trial.suggest_float('warmup_ratio', 0.1, 0.3, step=0.01),\n",
    "        'label_smoothing_factor': trial.suggest_float('label_smoothing_factor', 0.05, 0.22, step=0.01),\n",
    "        'logging_dir': '/content/drive/MyDrive/SP2024-GPT/logs/roberta/', # UPDATE_TO_YOUR_FILE_PATH\n",
    "        'optimizer': 'adamw_torch'\n",
    "    }\n",
    "\n",
    "    # Train model\n",
    "    # X, y from prepare_dataset\n",
    "    avg_cross_val_f1, avg_cross_val_loss, itr_metric = train_model(X, y, trial, model_params)\n",
    "\n",
    "    return avg_cross_val_f1"
   ]
  },
  {
   "cell_type": "code",
   "execution_count": 20,
   "metadata": {
    "executionInfo": {
     "elapsed": 3,
     "status": "ok",
     "timestamp": 1741216687278,
     "user": {
      "displayName": "Warittha Tarntong",
      "userId": "06608555488578947482"
     },
     "user_tz": -420
    },
    "id": "NW4C1KP_mYqd"
   },
   "outputs": [],
   "source": [
    "def create_dict(n):\n",
    "    return {i: [] for i in range(1, n+1)}"
   ]
  },
  {
   "cell_type": "code",
   "execution_count": 21,
   "metadata": {
    "colab": {
     "base_uri": "https://localhost:8080/"
    },
    "executionInfo": {
     "elapsed": 69,
     "status": "ok",
     "timestamp": 1741216688241,
     "user": {
      "displayName": "Warittha Tarntong",
      "userId": "06608555488578947482"
     },
     "user_tz": -420
    },
    "id": "HvNt_nKff1gx",
    "outputId": "d58196d3-d6e9-47a2-db20-da10ed58a4a6"
   },
   "outputs": [
    {
     "name": "stdout",
     "output_type": "stream",
     "text": [
      "Using device: cuda\n"
     ]
    }
   ],
   "source": [
    "# Check CUDA availability and set device\n",
    "device = torch.device(\"cuda\" if torch.cuda.is_available() else \"cpu\")\n",
    "print(f\"Using device: {device}\")"
   ]
  },
  {
   "cell_type": "markdown",
   "metadata": {},
   "source": [
    "# Training"
   ]
  },
  {
   "cell_type": "code",
   "execution_count": null,
   "metadata": {},
   "outputs": [],
   "source": [
    "itr_metrics = []\n",
    "cross_val_f1 = create_dict(N_SPLITS)\n",
    "cross_val_loss = create_dict(N_SPLITS)\n",
    "print(cross_val_f1)\n",
    "\n",
    "loss_df = pd.DataFrame({'trial': [], 'fold': [], 'loss': [], 'weighted-f1': []})\n",
    "avg_score_df = pd.DataFrame({'trial': [], 'avg_loss': [], 'avg_f1': []})\n",
    "\n",
    "pruner = optuna.pruners.HyperbandPruner(\n",
    "            min_resource=1,\n",
    "            max_resource=5,\n",
    "            reduction_factor=2\n",
    "        )\n",
    "sampler = optuna.samplers.TPESampler(seed=SEED)\n",
    "study = optuna.create_study(direction='maximize', sampler=sampler, pruner=pruner)\n",
    "study.optimize(objective, n_trials=50)"
   ]
  },
  {
   "cell_type": "markdown",
   "metadata": {},
   "source": [
    "# Result"
   ]
  },
  {
   "cell_type": "code",
   "execution_count": null,
   "metadata": {
    "colab": {
     "base_uri": "https://localhost:8080/"
    },
    "executionInfo": {
     "elapsed": 44,
     "status": "ok",
     "timestamp": 1741221046978,
     "user": {
      "displayName": "Warittha Tarntong",
      "userId": "06608555488578947482"
     },
     "user_tz": -420
    },
    "id": "2KyzkLJQnU-A",
    "outputId": "aafa9b57-933e-455d-9ed7-57b4259413e1"
   },
   "outputs": [],
   "source": [
    "print(\"best params\")\n",
    "print(study.best_params)"
   ]
  },
  {
   "cell_type": "code",
   "execution_count": null,
   "metadata": {
    "colab": {
     "base_uri": "https://localhost:8080/",
     "height": 542
    },
    "executionInfo": {
     "elapsed": 1082,
     "status": "ok",
     "timestamp": 1741221055137,
     "user": {
      "displayName": "Warittha Tarntong",
      "userId": "06608555488578947482"
     },
     "user_tz": -420
    },
    "id": "H-BK2mhE1wMC",
    "outputId": "0f9f0001-a131-4877-81c3-981267cbd52a"
   },
   "outputs": [],
   "source": [
    "optuna.visualization.plot_optimization_history(study)"
   ]
  },
  {
   "cell_type": "code",
   "execution_count": null,
   "metadata": {
    "colab": {
     "base_uri": "https://localhost:8080/",
     "height": 542
    },
    "executionInfo": {
     "elapsed": 66,
     "status": "ok",
     "timestamp": 1741221064716,
     "user": {
      "displayName": "Warittha Tarntong",
      "userId": "06608555488578947482"
     },
     "user_tz": -420
    },
    "id": "AbktJjKY2-SF",
    "outputId": "6a9b44d8-5f1d-40a7-a7b9-e65f92403b3e"
   },
   "outputs": [],
   "source": [
    "optuna.visualization.plot_parallel_coordinate(study)"
   ]
  },
  {
   "cell_type": "code",
   "execution_count": null,
   "metadata": {
    "colab": {
     "base_uri": "https://localhost:8080/",
     "height": 542
    },
    "executionInfo": {
     "elapsed": 201,
     "status": "ok",
     "timestamp": 1741221076199,
     "user": {
      "displayName": "Warittha Tarntong",
      "userId": "06608555488578947482"
     },
     "user_tz": -420
    },
    "id": "0ZRE9LAM3AYV",
    "outputId": "0cf725de-d8b5-4852-9b88-a8f4e8e6a9e8"
   },
   "outputs": [],
   "source": [
    "optuna.visualization.plot_param_importances(study)"
   ]
  }
 ],
 "metadata": {
  "accelerator": "GPU",
  "colab": {
   "authorship_tag": "ABX9TyPG59jAauVywDI58klfI2Rz",
   "gpuType": "A100",
   "machine_shape": "hm",
   "provenance": [
    {
     "file_id": "1rhMq8AduWYzKoylH-vUMzkjpuu1fuf3X",
     "timestamp": 1731612488154
    }
   ]
  },
  "kernelspec": {
   "display_name": "Python 3",
   "name": "python3"
  },
  "language_info": {
   "name": "python"
  },
  "widgets": {
   "application/vnd.jupyter.widget-state+json": {
    "0b36067f8d3f40ffb302f8e89f5bb997": {
     "model_module": "@jupyter-widgets/controls",
     "model_module_version": "1.5.0",
     "model_name": "FloatProgressModel",
     "state": {
      "_dom_classes": [],
      "_model_module": "@jupyter-widgets/controls",
      "_model_module_version": "1.5.0",
      "_model_name": "FloatProgressModel",
      "_view_count": null,
      "_view_module": "@jupyter-widgets/controls",
      "_view_module_version": "1.5.0",
      "_view_name": "ProgressView",
      "bar_style": "success",
      "description": "",
      "description_tooltip": null,
      "layout": "IPY_MODEL_508b5c4cb797431d950d7712e67eebb6",
      "max": 456318,
      "min": 0,
      "orientation": "horizontal",
      "style": "IPY_MODEL_7ecf3b2fa7f44790b4c531b85c6f2730",
      "value": 456318
     }
    },
    "0b6e8b080dbc4167a3103882f0dd5625": {
     "model_module": "@jupyter-widgets/controls",
     "model_module_version": "1.5.0",
     "model_name": "HTMLModel",
     "state": {
      "_dom_classes": [],
      "_model_module": "@jupyter-widgets/controls",
      "_model_module_version": "1.5.0",
      "_model_name": "HTMLModel",
      "_view_count": null,
      "_view_module": "@jupyter-widgets/controls",
      "_view_module_version": "1.5.0",
      "_view_name": "HTMLView",
      "description": "",
      "description_tooltip": null,
      "layout": "IPY_MODEL_d8091377d17d435398418d8fc48e91f5",
      "placeholder": "​",
      "style": "IPY_MODEL_dc71ca41a35c4969bf4fb4ba79f54261",
      "value": "tokenizer_config.json: 100%"
     }
    },
    "0c2dc4be91b5474ca7273cce4f3b40ee": {
     "model_module": "@jupyter-widgets/controls",
     "model_module_version": "1.5.0",
     "model_name": "FloatProgressModel",
     "state": {
      "_dom_classes": [],
      "_model_module": "@jupyter-widgets/controls",
      "_model_module_version": "1.5.0",
      "_model_name": "FloatProgressModel",
      "_view_count": null,
      "_view_module": "@jupyter-widgets/controls",
      "_view_module_version": "1.5.0",
      "_view_name": "ProgressView",
      "bar_style": "success",
      "description": "",
      "description_tooltip": null,
      "layout": "IPY_MODEL_be7f08a1bf464669b912f198461ee0a9",
      "max": 481,
      "min": 0,
      "orientation": "horizontal",
      "style": "IPY_MODEL_7d01e49672e24e5a854fcc8d47081086",
      "value": 481
     }
    },
    "1bbe86ccc80144deb6d6a436bba2689a": {
     "model_module": "@jupyter-widgets/controls",
     "model_module_version": "1.5.0",
     "model_name": "DescriptionStyleModel",
     "state": {
      "_model_module": "@jupyter-widgets/controls",
      "_model_module_version": "1.5.0",
      "_model_name": "DescriptionStyleModel",
      "_view_count": null,
      "_view_module": "@jupyter-widgets/base",
      "_view_module_version": "1.2.0",
      "_view_name": "StyleView",
      "description_width": ""
     }
    },
    "1df9919940de416483ac903a0d51d9f8": {
     "model_module": "@jupyter-widgets/controls",
     "model_module_version": "1.5.0",
     "model_name": "HTMLModel",
     "state": {
      "_dom_classes": [],
      "_model_module": "@jupyter-widgets/controls",
      "_model_module_version": "1.5.0",
      "_model_name": "HTMLModel",
      "_view_count": null,
      "_view_module": "@jupyter-widgets/controls",
      "_view_module_version": "1.5.0",
      "_view_name": "HTMLView",
      "description": "",
      "description_tooltip": null,
      "layout": "IPY_MODEL_a7cdc29c8494474c9f8a3ffd784435d9",
      "placeholder": "​",
      "style": "IPY_MODEL_39f61bc95427477496ae6729a15cd50f",
      "value": " 899k/899k [00:00&lt;00:00, 2.07MB/s]"
     }
    },
    "2017ebfa2eec4a9d9ff1fd640c365bc0": {
     "model_module": "@jupyter-widgets/base",
     "model_module_version": "1.2.0",
     "model_name": "LayoutModel",
     "state": {
      "_model_module": "@jupyter-widgets/base",
      "_model_module_version": "1.2.0",
      "_model_name": "LayoutModel",
      "_view_count": null,
      "_view_module": "@jupyter-widgets/base",
      "_view_module_version": "1.2.0",
      "_view_name": "LayoutView",
      "align_content": null,
      "align_items": null,
      "align_self": null,
      "border": null,
      "bottom": null,
      "display": null,
      "flex": null,
      "flex_flow": null,
      "grid_area": null,
      "grid_auto_columns": null,
      "grid_auto_flow": null,
      "grid_auto_rows": null,
      "grid_column": null,
      "grid_gap": null,
      "grid_row": null,
      "grid_template_areas": null,
      "grid_template_columns": null,
      "grid_template_rows": null,
      "height": null,
      "justify_content": null,
      "justify_items": null,
      "left": null,
      "margin": null,
      "max_height": null,
      "max_width": null,
      "min_height": null,
      "min_width": null,
      "object_fit": null,
      "object_position": null,
      "order": null,
      "overflow": null,
      "overflow_x": null,
      "overflow_y": null,
      "padding": null,
      "right": null,
      "top": null,
      "visibility": null,
      "width": null
     }
    },
    "2440d92fe85b44418a2cfaaede872d1d": {
     "model_module": "@jupyter-widgets/base",
     "model_module_version": "1.2.0",
     "model_name": "LayoutModel",
     "state": {
      "_model_module": "@jupyter-widgets/base",
      "_model_module_version": "1.2.0",
      "_model_name": "LayoutModel",
      "_view_count": null,
      "_view_module": "@jupyter-widgets/base",
      "_view_module_version": "1.2.0",
      "_view_name": "LayoutView",
      "align_content": null,
      "align_items": null,
      "align_self": null,
      "border": null,
      "bottom": null,
      "display": null,
      "flex": null,
      "flex_flow": null,
      "grid_area": null,
      "grid_auto_columns": null,
      "grid_auto_flow": null,
      "grid_auto_rows": null,
      "grid_column": null,
      "grid_gap": null,
      "grid_row": null,
      "grid_template_areas": null,
      "grid_template_columns": null,
      "grid_template_rows": null,
      "height": null,
      "justify_content": null,
      "justify_items": null,
      "left": null,
      "margin": null,
      "max_height": null,
      "max_width": null,
      "min_height": null,
      "min_width": null,
      "object_fit": null,
      "object_position": null,
      "order": null,
      "overflow": null,
      "overflow_x": null,
      "overflow_y": null,
      "padding": null,
      "right": null,
      "top": null,
      "visibility": null,
      "width": null
     }
    },
    "2c42da2ab51c4b14a2d4543914752cef": {
     "model_module": "@jupyter-widgets/base",
     "model_module_version": "1.2.0",
     "model_name": "LayoutModel",
     "state": {
      "_model_module": "@jupyter-widgets/base",
      "_model_module_version": "1.2.0",
      "_model_name": "LayoutModel",
      "_view_count": null,
      "_view_module": "@jupyter-widgets/base",
      "_view_module_version": "1.2.0",
      "_view_name": "LayoutView",
      "align_content": null,
      "align_items": null,
      "align_self": null,
      "border": null,
      "bottom": null,
      "display": null,
      "flex": null,
      "flex_flow": null,
      "grid_area": null,
      "grid_auto_columns": null,
      "grid_auto_flow": null,
      "grid_auto_rows": null,
      "grid_column": null,
      "grid_gap": null,
      "grid_row": null,
      "grid_template_areas": null,
      "grid_template_columns": null,
      "grid_template_rows": null,
      "height": null,
      "justify_content": null,
      "justify_items": null,
      "left": null,
      "margin": null,
      "max_height": null,
      "max_width": null,
      "min_height": null,
      "min_width": null,
      "object_fit": null,
      "object_position": null,
      "order": null,
      "overflow": null,
      "overflow_x": null,
      "overflow_y": null,
      "padding": null,
      "right": null,
      "top": null,
      "visibility": null,
      "width": null
     }
    },
    "2eeb8ca636ff454bb455ff93c6ec5d6c": {
     "model_module": "@jupyter-widgets/base",
     "model_module_version": "1.2.0",
     "model_name": "LayoutModel",
     "state": {
      "_model_module": "@jupyter-widgets/base",
      "_model_module_version": "1.2.0",
      "_model_name": "LayoutModel",
      "_view_count": null,
      "_view_module": "@jupyter-widgets/base",
      "_view_module_version": "1.2.0",
      "_view_name": "LayoutView",
      "align_content": null,
      "align_items": null,
      "align_self": null,
      "border": null,
      "bottom": null,
      "display": null,
      "flex": null,
      "flex_flow": null,
      "grid_area": null,
      "grid_auto_columns": null,
      "grid_auto_flow": null,
      "grid_auto_rows": null,
      "grid_column": null,
      "grid_gap": null,
      "grid_row": null,
      "grid_template_areas": null,
      "grid_template_columns": null,
      "grid_template_rows": null,
      "height": null,
      "justify_content": null,
      "justify_items": null,
      "left": null,
      "margin": null,
      "max_height": null,
      "max_width": null,
      "min_height": null,
      "min_width": null,
      "object_fit": null,
      "object_position": null,
      "order": null,
      "overflow": null,
      "overflow_x": null,
      "overflow_y": null,
      "padding": null,
      "right": null,
      "top": null,
      "visibility": null,
      "width": null
     }
    },
    "39f61bc95427477496ae6729a15cd50f": {
     "model_module": "@jupyter-widgets/controls",
     "model_module_version": "1.5.0",
     "model_name": "DescriptionStyleModel",
     "state": {
      "_model_module": "@jupyter-widgets/controls",
      "_model_module_version": "1.5.0",
      "_model_name": "DescriptionStyleModel",
      "_view_count": null,
      "_view_module": "@jupyter-widgets/base",
      "_view_module_version": "1.2.0",
      "_view_name": "StyleView",
      "description_width": ""
     }
    },
    "3bcd883417ea41f887d19941cacb6209": {
     "model_module": "@jupyter-widgets/base",
     "model_module_version": "1.2.0",
     "model_name": "LayoutModel",
     "state": {
      "_model_module": "@jupyter-widgets/base",
      "_model_module_version": "1.2.0",
      "_model_name": "LayoutModel",
      "_view_count": null,
      "_view_module": "@jupyter-widgets/base",
      "_view_module_version": "1.2.0",
      "_view_name": "LayoutView",
      "align_content": null,
      "align_items": null,
      "align_self": null,
      "border": null,
      "bottom": null,
      "display": null,
      "flex": null,
      "flex_flow": null,
      "grid_area": null,
      "grid_auto_columns": null,
      "grid_auto_flow": null,
      "grid_auto_rows": null,
      "grid_column": null,
      "grid_gap": null,
      "grid_row": null,
      "grid_template_areas": null,
      "grid_template_columns": null,
      "grid_template_rows": null,
      "height": null,
      "justify_content": null,
      "justify_items": null,
      "left": null,
      "margin": null,
      "max_height": null,
      "max_width": null,
      "min_height": null,
      "min_width": null,
      "object_fit": null,
      "object_position": null,
      "order": null,
      "overflow": null,
      "overflow_x": null,
      "overflow_y": null,
      "padding": null,
      "right": null,
      "top": null,
      "visibility": null,
      "width": null
     }
    },
    "3e2d92c30d7d42b4b4ef990f4362a9b3": {
     "model_module": "@jupyter-widgets/controls",
     "model_module_version": "1.5.0",
     "model_name": "HTMLModel",
     "state": {
      "_dom_classes": [],
      "_model_module": "@jupyter-widgets/controls",
      "_model_module_version": "1.5.0",
      "_model_name": "HTMLModel",
      "_view_count": null,
      "_view_module": "@jupyter-widgets/controls",
      "_view_module_version": "1.5.0",
      "_view_name": "HTMLView",
      "description": "",
      "description_tooltip": null,
      "layout": "IPY_MODEL_5a51273af9f84e1aa48f9509f63f593c",
      "placeholder": "​",
      "style": "IPY_MODEL_bce3670f3c314cf2b6e21799d09f1a0d",
      "value": "config.json: 100%"
     }
    },
    "3fa0a2acc9164416927df1214b02a2b4": {
     "model_module": "@jupyter-widgets/controls",
     "model_module_version": "1.5.0",
     "model_name": "HBoxModel",
     "state": {
      "_dom_classes": [],
      "_model_module": "@jupyter-widgets/controls",
      "_model_module_version": "1.5.0",
      "_model_name": "HBoxModel",
      "_view_count": null,
      "_view_module": "@jupyter-widgets/controls",
      "_view_module_version": "1.5.0",
      "_view_name": "HBoxView",
      "box_style": "",
      "children": [
       "IPY_MODEL_3e2d92c30d7d42b4b4ef990f4362a9b3",
       "IPY_MODEL_0c2dc4be91b5474ca7273cce4f3b40ee",
       "IPY_MODEL_f520cca4838b486db22f0da009082cd0"
      ],
      "layout": "IPY_MODEL_2440d92fe85b44418a2cfaaede872d1d"
     }
    },
    "453fe83fac5a4f0db40f9a6971aa43ae": {
     "model_module": "@jupyter-widgets/controls",
     "model_module_version": "1.5.0",
     "model_name": "FloatProgressModel",
     "state": {
      "_dom_classes": [],
      "_model_module": "@jupyter-widgets/controls",
      "_model_module_version": "1.5.0",
      "_model_name": "FloatProgressModel",
      "_view_count": null,
      "_view_module": "@jupyter-widgets/controls",
      "_view_module_version": "1.5.0",
      "_view_name": "ProgressView",
      "bar_style": "success",
      "description": "",
      "description_tooltip": null,
      "layout": "IPY_MODEL_7cf1fac8c4254a1a8cf32d0f6fda6186",
      "max": 1355863,
      "min": 0,
      "orientation": "horizontal",
      "style": "IPY_MODEL_56ac954f37464267809914e019981301",
      "value": 1355863
     }
    },
    "486fd141cc934fd599d6a1945051d4d4": {
     "model_module": "@jupyter-widgets/base",
     "model_module_version": "1.2.0",
     "model_name": "LayoutModel",
     "state": {
      "_model_module": "@jupyter-widgets/base",
      "_model_module_version": "1.2.0",
      "_model_name": "LayoutModel",
      "_view_count": null,
      "_view_module": "@jupyter-widgets/base",
      "_view_module_version": "1.2.0",
      "_view_name": "LayoutView",
      "align_content": null,
      "align_items": null,
      "align_self": null,
      "border": null,
      "bottom": null,
      "display": null,
      "flex": null,
      "flex_flow": null,
      "grid_area": null,
      "grid_auto_columns": null,
      "grid_auto_flow": null,
      "grid_auto_rows": null,
      "grid_column": null,
      "grid_gap": null,
      "grid_row": null,
      "grid_template_areas": null,
      "grid_template_columns": null,
      "grid_template_rows": null,
      "height": null,
      "justify_content": null,
      "justify_items": null,
      "left": null,
      "margin": null,
      "max_height": null,
      "max_width": null,
      "min_height": null,
      "min_width": null,
      "object_fit": null,
      "object_position": null,
      "order": null,
      "overflow": null,
      "overflow_x": null,
      "overflow_y": null,
      "padding": null,
      "right": null,
      "top": null,
      "visibility": null,
      "width": null
     }
    },
    "49caf3b64e1a42ee80cb77da27d12dc1": {
     "model_module": "@jupyter-widgets/base",
     "model_module_version": "1.2.0",
     "model_name": "LayoutModel",
     "state": {
      "_model_module": "@jupyter-widgets/base",
      "_model_module_version": "1.2.0",
      "_model_name": "LayoutModel",
      "_view_count": null,
      "_view_module": "@jupyter-widgets/base",
      "_view_module_version": "1.2.0",
      "_view_name": "LayoutView",
      "align_content": null,
      "align_items": null,
      "align_self": null,
      "border": null,
      "bottom": null,
      "display": null,
      "flex": null,
      "flex_flow": null,
      "grid_area": null,
      "grid_auto_columns": null,
      "grid_auto_flow": null,
      "grid_auto_rows": null,
      "grid_column": null,
      "grid_gap": null,
      "grid_row": null,
      "grid_template_areas": null,
      "grid_template_columns": null,
      "grid_template_rows": null,
      "height": null,
      "justify_content": null,
      "justify_items": null,
      "left": null,
      "margin": null,
      "max_height": null,
      "max_width": null,
      "min_height": null,
      "min_width": null,
      "object_fit": null,
      "object_position": null,
      "order": null,
      "overflow": null,
      "overflow_x": null,
      "overflow_y": null,
      "padding": null,
      "right": null,
      "top": null,
      "visibility": null,
      "width": null
     }
    },
    "4f209c440ad147de89eae2caff4117c0": {
     "model_module": "@jupyter-widgets/controls",
     "model_module_version": "1.5.0",
     "model_name": "DescriptionStyleModel",
     "state": {
      "_model_module": "@jupyter-widgets/controls",
      "_model_module_version": "1.5.0",
      "_model_name": "DescriptionStyleModel",
      "_view_count": null,
      "_view_module": "@jupyter-widgets/base",
      "_view_module_version": "1.2.0",
      "_view_name": "StyleView",
      "description_width": ""
     }
    },
    "508b5c4cb797431d950d7712e67eebb6": {
     "model_module": "@jupyter-widgets/base",
     "model_module_version": "1.2.0",
     "model_name": "LayoutModel",
     "state": {
      "_model_module": "@jupyter-widgets/base",
      "_model_module_version": "1.2.0",
      "_model_name": "LayoutModel",
      "_view_count": null,
      "_view_module": "@jupyter-widgets/base",
      "_view_module_version": "1.2.0",
      "_view_name": "LayoutView",
      "align_content": null,
      "align_items": null,
      "align_self": null,
      "border": null,
      "bottom": null,
      "display": null,
      "flex": null,
      "flex_flow": null,
      "grid_area": null,
      "grid_auto_columns": null,
      "grid_auto_flow": null,
      "grid_auto_rows": null,
      "grid_column": null,
      "grid_gap": null,
      "grid_row": null,
      "grid_template_areas": null,
      "grid_template_columns": null,
      "grid_template_rows": null,
      "height": null,
      "justify_content": null,
      "justify_items": null,
      "left": null,
      "margin": null,
      "max_height": null,
      "max_width": null,
      "min_height": null,
      "min_width": null,
      "object_fit": null,
      "object_position": null,
      "order": null,
      "overflow": null,
      "overflow_x": null,
      "overflow_y": null,
      "padding": null,
      "right": null,
      "top": null,
      "visibility": null,
      "width": null
     }
    },
    "56ac954f37464267809914e019981301": {
     "model_module": "@jupyter-widgets/controls",
     "model_module_version": "1.5.0",
     "model_name": "ProgressStyleModel",
     "state": {
      "_model_module": "@jupyter-widgets/controls",
      "_model_module_version": "1.5.0",
      "_model_name": "ProgressStyleModel",
      "_view_count": null,
      "_view_module": "@jupyter-widgets/base",
      "_view_module_version": "1.2.0",
      "_view_name": "StyleView",
      "bar_color": null,
      "description_width": ""
     }
    },
    "582b2241af024b47b96f7b59f881bd2b": {
     "model_module": "@jupyter-widgets/controls",
     "model_module_version": "1.5.0",
     "model_name": "ProgressStyleModel",
     "state": {
      "_model_module": "@jupyter-widgets/controls",
      "_model_module_version": "1.5.0",
      "_model_name": "ProgressStyleModel",
      "_view_count": null,
      "_view_module": "@jupyter-widgets/base",
      "_view_module_version": "1.2.0",
      "_view_name": "StyleView",
      "bar_color": null,
      "description_width": ""
     }
    },
    "5a51273af9f84e1aa48f9509f63f593c": {
     "model_module": "@jupyter-widgets/base",
     "model_module_version": "1.2.0",
     "model_name": "LayoutModel",
     "state": {
      "_model_module": "@jupyter-widgets/base",
      "_model_module_version": "1.2.0",
      "_model_name": "LayoutModel",
      "_view_count": null,
      "_view_module": "@jupyter-widgets/base",
      "_view_module_version": "1.2.0",
      "_view_name": "LayoutView",
      "align_content": null,
      "align_items": null,
      "align_self": null,
      "border": null,
      "bottom": null,
      "display": null,
      "flex": null,
      "flex_flow": null,
      "grid_area": null,
      "grid_auto_columns": null,
      "grid_auto_flow": null,
      "grid_auto_rows": null,
      "grid_column": null,
      "grid_gap": null,
      "grid_row": null,
      "grid_template_areas": null,
      "grid_template_columns": null,
      "grid_template_rows": null,
      "height": null,
      "justify_content": null,
      "justify_items": null,
      "left": null,
      "margin": null,
      "max_height": null,
      "max_width": null,
      "min_height": null,
      "min_width": null,
      "object_fit": null,
      "object_position": null,
      "order": null,
      "overflow": null,
      "overflow_x": null,
      "overflow_y": null,
      "padding": null,
      "right": null,
      "top": null,
      "visibility": null,
      "width": null
     }
    },
    "5aa1e057f41c4392975909eb36d6a5ae": {
     "model_module": "@jupyter-widgets/controls",
     "model_module_version": "1.5.0",
     "model_name": "HTMLModel",
     "state": {
      "_dom_classes": [],
      "_model_module": "@jupyter-widgets/controls",
      "_model_module_version": "1.5.0",
      "_model_name": "HTMLModel",
      "_view_count": null,
      "_view_module": "@jupyter-widgets/controls",
      "_view_module_version": "1.5.0",
      "_view_name": "HTMLView",
      "description": "",
      "description_tooltip": null,
      "layout": "IPY_MODEL_ada061711ed14a6abd6fb5773dbecf3e",
      "placeholder": "​",
      "style": "IPY_MODEL_1bbe86ccc80144deb6d6a436bba2689a",
      "value": " 1.36M/1.36M [00:00&lt;00:00, 6.16MB/s]"
     }
    },
    "5b8ac65754ce4c4d9601484e3bdf531a": {
     "model_module": "@jupyter-widgets/controls",
     "model_module_version": "1.5.0",
     "model_name": "DescriptionStyleModel",
     "state": {
      "_model_module": "@jupyter-widgets/controls",
      "_model_module_version": "1.5.0",
      "_model_name": "DescriptionStyleModel",
      "_view_count": null,
      "_view_module": "@jupyter-widgets/base",
      "_view_module_version": "1.2.0",
      "_view_name": "StyleView",
      "description_width": ""
     }
    },
    "5d29c9782dab42839921528c56f22308": {
     "model_module": "@jupyter-widgets/controls",
     "model_module_version": "1.5.0",
     "model_name": "FloatProgressModel",
     "state": {
      "_dom_classes": [],
      "_model_module": "@jupyter-widgets/controls",
      "_model_module_version": "1.5.0",
      "_model_name": "FloatProgressModel",
      "_view_count": null,
      "_view_module": "@jupyter-widgets/controls",
      "_view_module_version": "1.5.0",
      "_view_name": "ProgressView",
      "bar_style": "success",
      "description": "",
      "description_tooltip": null,
      "layout": "IPY_MODEL_a52ffeaa9159426c9d20681f49ea6871",
      "max": 25,
      "min": 0,
      "orientation": "horizontal",
      "style": "IPY_MODEL_ae3c14cfa4ce4b939b383ff61d6f6906",
      "value": 25
     }
    },
    "608e8d0f74d2493ca072786f9f69789a": {
     "model_module": "@jupyter-widgets/controls",
     "model_module_version": "1.5.0",
     "model_name": "DescriptionStyleModel",
     "state": {
      "_model_module": "@jupyter-widgets/controls",
      "_model_module_version": "1.5.0",
      "_model_name": "DescriptionStyleModel",
      "_view_count": null,
      "_view_module": "@jupyter-widgets/base",
      "_view_module_version": "1.2.0",
      "_view_name": "StyleView",
      "description_width": ""
     }
    },
    "64462f47655e43d0a9298f221ac0fb8b": {
     "model_module": "@jupyter-widgets/base",
     "model_module_version": "1.2.0",
     "model_name": "LayoutModel",
     "state": {
      "_model_module": "@jupyter-widgets/base",
      "_model_module_version": "1.2.0",
      "_model_name": "LayoutModel",
      "_view_count": null,
      "_view_module": "@jupyter-widgets/base",
      "_view_module_version": "1.2.0",
      "_view_name": "LayoutView",
      "align_content": null,
      "align_items": null,
      "align_self": null,
      "border": null,
      "bottom": null,
      "display": null,
      "flex": null,
      "flex_flow": null,
      "grid_area": null,
      "grid_auto_columns": null,
      "grid_auto_flow": null,
      "grid_auto_rows": null,
      "grid_column": null,
      "grid_gap": null,
      "grid_row": null,
      "grid_template_areas": null,
      "grid_template_columns": null,
      "grid_template_rows": null,
      "height": null,
      "justify_content": null,
      "justify_items": null,
      "left": null,
      "margin": null,
      "max_height": null,
      "max_width": null,
      "min_height": null,
      "min_width": null,
      "object_fit": null,
      "object_position": null,
      "order": null,
      "overflow": null,
      "overflow_x": null,
      "overflow_y": null,
      "padding": null,
      "right": null,
      "top": null,
      "visibility": null,
      "width": null
     }
    },
    "6461a7f3c9d5410ab3da2a7ad30ddb72": {
     "model_module": "@jupyter-widgets/controls",
     "model_module_version": "1.5.0",
     "model_name": "HBoxModel",
     "state": {
      "_dom_classes": [],
      "_model_module": "@jupyter-widgets/controls",
      "_model_module_version": "1.5.0",
      "_model_name": "HBoxModel",
      "_view_count": null,
      "_view_module": "@jupyter-widgets/controls",
      "_view_module_version": "1.5.0",
      "_view_name": "HBoxView",
      "box_style": "",
      "children": [
       "IPY_MODEL_0b6e8b080dbc4167a3103882f0dd5625",
       "IPY_MODEL_5d29c9782dab42839921528c56f22308",
       "IPY_MODEL_830be8875c344fd18274a7410b4cf45b"
      ],
      "layout": "IPY_MODEL_486fd141cc934fd599d6a1945051d4d4"
     }
    },
    "6ad326baeca24ea497704a37f53a95d3": {
     "model_module": "@jupyter-widgets/controls",
     "model_module_version": "1.5.0",
     "model_name": "FloatProgressModel",
     "state": {
      "_dom_classes": [],
      "_model_module": "@jupyter-widgets/controls",
      "_model_module_version": "1.5.0",
      "_model_name": "FloatProgressModel",
      "_view_count": null,
      "_view_module": "@jupyter-widgets/controls",
      "_view_module_version": "1.5.0",
      "_view_name": "ProgressView",
      "bar_style": "success",
      "description": "",
      "description_tooltip": null,
      "layout": "IPY_MODEL_2c42da2ab51c4b14a2d4543914752cef",
      "max": 898823,
      "min": 0,
      "orientation": "horizontal",
      "style": "IPY_MODEL_582b2241af024b47b96f7b59f881bd2b",
      "value": 898823
     }
    },
    "7945a78e84a5498685817f48dcae4463": {
     "model_module": "@jupyter-widgets/controls",
     "model_module_version": "1.5.0",
     "model_name": "HBoxModel",
     "state": {
      "_dom_classes": [],
      "_model_module": "@jupyter-widgets/controls",
      "_model_module_version": "1.5.0",
      "_model_name": "HBoxModel",
      "_view_count": null,
      "_view_module": "@jupyter-widgets/controls",
      "_view_module_version": "1.5.0",
      "_view_name": "HBoxView",
      "box_style": "",
      "children": [
       "IPY_MODEL_84503a76330549a7b90af69212e950db",
       "IPY_MODEL_0b36067f8d3f40ffb302f8e89f5bb997",
       "IPY_MODEL_d40fcff32ee74e7d97d7f976baa4467a"
      ],
      "layout": "IPY_MODEL_3bcd883417ea41f887d19941cacb6209"
     }
    },
    "79510c2af6bc4321bf424d1cd5527181": {
     "model_module": "@jupyter-widgets/controls",
     "model_module_version": "1.5.0",
     "model_name": "DescriptionStyleModel",
     "state": {
      "_model_module": "@jupyter-widgets/controls",
      "_model_module_version": "1.5.0",
      "_model_name": "DescriptionStyleModel",
      "_view_count": null,
      "_view_module": "@jupyter-widgets/base",
      "_view_module_version": "1.2.0",
      "_view_name": "StyleView",
      "description_width": ""
     }
    },
    "7cf1fac8c4254a1a8cf32d0f6fda6186": {
     "model_module": "@jupyter-widgets/base",
     "model_module_version": "1.2.0",
     "model_name": "LayoutModel",
     "state": {
      "_model_module": "@jupyter-widgets/base",
      "_model_module_version": "1.2.0",
      "_model_name": "LayoutModel",
      "_view_count": null,
      "_view_module": "@jupyter-widgets/base",
      "_view_module_version": "1.2.0",
      "_view_name": "LayoutView",
      "align_content": null,
      "align_items": null,
      "align_self": null,
      "border": null,
      "bottom": null,
      "display": null,
      "flex": null,
      "flex_flow": null,
      "grid_area": null,
      "grid_auto_columns": null,
      "grid_auto_flow": null,
      "grid_auto_rows": null,
      "grid_column": null,
      "grid_gap": null,
      "grid_row": null,
      "grid_template_areas": null,
      "grid_template_columns": null,
      "grid_template_rows": null,
      "height": null,
      "justify_content": null,
      "justify_items": null,
      "left": null,
      "margin": null,
      "max_height": null,
      "max_width": null,
      "min_height": null,
      "min_width": null,
      "object_fit": null,
      "object_position": null,
      "order": null,
      "overflow": null,
      "overflow_x": null,
      "overflow_y": null,
      "padding": null,
      "right": null,
      "top": null,
      "visibility": null,
      "width": null
     }
    },
    "7d01e49672e24e5a854fcc8d47081086": {
     "model_module": "@jupyter-widgets/controls",
     "model_module_version": "1.5.0",
     "model_name": "ProgressStyleModel",
     "state": {
      "_model_module": "@jupyter-widgets/controls",
      "_model_module_version": "1.5.0",
      "_model_name": "ProgressStyleModel",
      "_view_count": null,
      "_view_module": "@jupyter-widgets/base",
      "_view_module_version": "1.2.0",
      "_view_name": "StyleView",
      "bar_color": null,
      "description_width": ""
     }
    },
    "7ecf3b2fa7f44790b4c531b85c6f2730": {
     "model_module": "@jupyter-widgets/controls",
     "model_module_version": "1.5.0",
     "model_name": "ProgressStyleModel",
     "state": {
      "_model_module": "@jupyter-widgets/controls",
      "_model_module_version": "1.5.0",
      "_model_name": "ProgressStyleModel",
      "_view_count": null,
      "_view_module": "@jupyter-widgets/base",
      "_view_module_version": "1.2.0",
      "_view_name": "StyleView",
      "bar_color": null,
      "description_width": ""
     }
    },
    "7ff115a652244019b350caab66410cad": {
     "model_module": "@jupyter-widgets/controls",
     "model_module_version": "1.5.0",
     "model_name": "HBoxModel",
     "state": {
      "_dom_classes": [],
      "_model_module": "@jupyter-widgets/controls",
      "_model_module_version": "1.5.0",
      "_model_name": "HBoxModel",
      "_view_count": null,
      "_view_module": "@jupyter-widgets/controls",
      "_view_module_version": "1.5.0",
      "_view_name": "HBoxView",
      "box_style": "",
      "children": [
       "IPY_MODEL_ca336136a78e434b87bcc43f1548853e",
       "IPY_MODEL_453fe83fac5a4f0db40f9a6971aa43ae",
       "IPY_MODEL_5aa1e057f41c4392975909eb36d6a5ae"
      ],
      "layout": "IPY_MODEL_49caf3b64e1a42ee80cb77da27d12dc1"
     }
    },
    "830be8875c344fd18274a7410b4cf45b": {
     "model_module": "@jupyter-widgets/controls",
     "model_module_version": "1.5.0",
     "model_name": "HTMLModel",
     "state": {
      "_dom_classes": [],
      "_model_module": "@jupyter-widgets/controls",
      "_model_module_version": "1.5.0",
      "_model_name": "HTMLModel",
      "_view_count": null,
      "_view_module": "@jupyter-widgets/controls",
      "_view_module_version": "1.5.0",
      "_view_name": "HTMLView",
      "description": "",
      "description_tooltip": null,
      "layout": "IPY_MODEL_9ec158e6b2e64346a9ee7d862e264a96",
      "placeholder": "​",
      "style": "IPY_MODEL_79510c2af6bc4321bf424d1cd5527181",
      "value": " 25.0/25.0 [00:00&lt;00:00, 2.83kB/s]"
     }
    },
    "84503a76330549a7b90af69212e950db": {
     "model_module": "@jupyter-widgets/controls",
     "model_module_version": "1.5.0",
     "model_name": "HTMLModel",
     "state": {
      "_dom_classes": [],
      "_model_module": "@jupyter-widgets/controls",
      "_model_module_version": "1.5.0",
      "_model_name": "HTMLModel",
      "_view_count": null,
      "_view_module": "@jupyter-widgets/controls",
      "_view_module_version": "1.5.0",
      "_view_name": "HTMLView",
      "description": "",
      "description_tooltip": null,
      "layout": "IPY_MODEL_2eeb8ca636ff454bb455ff93c6ec5d6c",
      "placeholder": "​",
      "style": "IPY_MODEL_5b8ac65754ce4c4d9601484e3bdf531a",
      "value": "merges.txt: 100%"
     }
    },
    "97a4299b8d3842bcb444894a2c131a49": {
     "model_module": "@jupyter-widgets/controls",
     "model_module_version": "1.5.0",
     "model_name": "HBoxModel",
     "state": {
      "_dom_classes": [],
      "_model_module": "@jupyter-widgets/controls",
      "_model_module_version": "1.5.0",
      "_model_name": "HBoxModel",
      "_view_count": null,
      "_view_module": "@jupyter-widgets/controls",
      "_view_module_version": "1.5.0",
      "_view_name": "HBoxView",
      "box_style": "",
      "children": [
       "IPY_MODEL_ec350798def5489ea00a26b6e4a8cb54",
       "IPY_MODEL_6ad326baeca24ea497704a37f53a95d3",
       "IPY_MODEL_1df9919940de416483ac903a0d51d9f8"
      ],
      "layout": "IPY_MODEL_dc352523a6f7497cb1104d372b8e3e76"
     }
    },
    "9b5a2f06526a4181924e4675bb11a168": {
     "model_module": "@jupyter-widgets/controls",
     "model_module_version": "1.5.0",
     "model_name": "DescriptionStyleModel",
     "state": {
      "_model_module": "@jupyter-widgets/controls",
      "_model_module_version": "1.5.0",
      "_model_name": "DescriptionStyleModel",
      "_view_count": null,
      "_view_module": "@jupyter-widgets/base",
      "_view_module_version": "1.2.0",
      "_view_name": "StyleView",
      "description_width": ""
     }
    },
    "9ec158e6b2e64346a9ee7d862e264a96": {
     "model_module": "@jupyter-widgets/base",
     "model_module_version": "1.2.0",
     "model_name": "LayoutModel",
     "state": {
      "_model_module": "@jupyter-widgets/base",
      "_model_module_version": "1.2.0",
      "_model_name": "LayoutModel",
      "_view_count": null,
      "_view_module": "@jupyter-widgets/base",
      "_view_module_version": "1.2.0",
      "_view_name": "LayoutView",
      "align_content": null,
      "align_items": null,
      "align_self": null,
      "border": null,
      "bottom": null,
      "display": null,
      "flex": null,
      "flex_flow": null,
      "grid_area": null,
      "grid_auto_columns": null,
      "grid_auto_flow": null,
      "grid_auto_rows": null,
      "grid_column": null,
      "grid_gap": null,
      "grid_row": null,
      "grid_template_areas": null,
      "grid_template_columns": null,
      "grid_template_rows": null,
      "height": null,
      "justify_content": null,
      "justify_items": null,
      "left": null,
      "margin": null,
      "max_height": null,
      "max_width": null,
      "min_height": null,
      "min_width": null,
      "object_fit": null,
      "object_position": null,
      "order": null,
      "overflow": null,
      "overflow_x": null,
      "overflow_y": null,
      "padding": null,
      "right": null,
      "top": null,
      "visibility": null,
      "width": null
     }
    },
    "a52ffeaa9159426c9d20681f49ea6871": {
     "model_module": "@jupyter-widgets/base",
     "model_module_version": "1.2.0",
     "model_name": "LayoutModel",
     "state": {
      "_model_module": "@jupyter-widgets/base",
      "_model_module_version": "1.2.0",
      "_model_name": "LayoutModel",
      "_view_count": null,
      "_view_module": "@jupyter-widgets/base",
      "_view_module_version": "1.2.0",
      "_view_name": "LayoutView",
      "align_content": null,
      "align_items": null,
      "align_self": null,
      "border": null,
      "bottom": null,
      "display": null,
      "flex": null,
      "flex_flow": null,
      "grid_area": null,
      "grid_auto_columns": null,
      "grid_auto_flow": null,
      "grid_auto_rows": null,
      "grid_column": null,
      "grid_gap": null,
      "grid_row": null,
      "grid_template_areas": null,
      "grid_template_columns": null,
      "grid_template_rows": null,
      "height": null,
      "justify_content": null,
      "justify_items": null,
      "left": null,
      "margin": null,
      "max_height": null,
      "max_width": null,
      "min_height": null,
      "min_width": null,
      "object_fit": null,
      "object_position": null,
      "order": null,
      "overflow": null,
      "overflow_x": null,
      "overflow_y": null,
      "padding": null,
      "right": null,
      "top": null,
      "visibility": null,
      "width": null
     }
    },
    "a7cdc29c8494474c9f8a3ffd784435d9": {
     "model_module": "@jupyter-widgets/base",
     "model_module_version": "1.2.0",
     "model_name": "LayoutModel",
     "state": {
      "_model_module": "@jupyter-widgets/base",
      "_model_module_version": "1.2.0",
      "_model_name": "LayoutModel",
      "_view_count": null,
      "_view_module": "@jupyter-widgets/base",
      "_view_module_version": "1.2.0",
      "_view_name": "LayoutView",
      "align_content": null,
      "align_items": null,
      "align_self": null,
      "border": null,
      "bottom": null,
      "display": null,
      "flex": null,
      "flex_flow": null,
      "grid_area": null,
      "grid_auto_columns": null,
      "grid_auto_flow": null,
      "grid_auto_rows": null,
      "grid_column": null,
      "grid_gap": null,
      "grid_row": null,
      "grid_template_areas": null,
      "grid_template_columns": null,
      "grid_template_rows": null,
      "height": null,
      "justify_content": null,
      "justify_items": null,
      "left": null,
      "margin": null,
      "max_height": null,
      "max_width": null,
      "min_height": null,
      "min_width": null,
      "object_fit": null,
      "object_position": null,
      "order": null,
      "overflow": null,
      "overflow_x": null,
      "overflow_y": null,
      "padding": null,
      "right": null,
      "top": null,
      "visibility": null,
      "width": null
     }
    },
    "ada061711ed14a6abd6fb5773dbecf3e": {
     "model_module": "@jupyter-widgets/base",
     "model_module_version": "1.2.0",
     "model_name": "LayoutModel",
     "state": {
      "_model_module": "@jupyter-widgets/base",
      "_model_module_version": "1.2.0",
      "_model_name": "LayoutModel",
      "_view_count": null,
      "_view_module": "@jupyter-widgets/base",
      "_view_module_version": "1.2.0",
      "_view_name": "LayoutView",
      "align_content": null,
      "align_items": null,
      "align_self": null,
      "border": null,
      "bottom": null,
      "display": null,
      "flex": null,
      "flex_flow": null,
      "grid_area": null,
      "grid_auto_columns": null,
      "grid_auto_flow": null,
      "grid_auto_rows": null,
      "grid_column": null,
      "grid_gap": null,
      "grid_row": null,
      "grid_template_areas": null,
      "grid_template_columns": null,
      "grid_template_rows": null,
      "height": null,
      "justify_content": null,
      "justify_items": null,
      "left": null,
      "margin": null,
      "max_height": null,
      "max_width": null,
      "min_height": null,
      "min_width": null,
      "object_fit": null,
      "object_position": null,
      "order": null,
      "overflow": null,
      "overflow_x": null,
      "overflow_y": null,
      "padding": null,
      "right": null,
      "top": null,
      "visibility": null,
      "width": null
     }
    },
    "ae3c14cfa4ce4b939b383ff61d6f6906": {
     "model_module": "@jupyter-widgets/controls",
     "model_module_version": "1.5.0",
     "model_name": "ProgressStyleModel",
     "state": {
      "_model_module": "@jupyter-widgets/controls",
      "_model_module_version": "1.5.0",
      "_model_name": "ProgressStyleModel",
      "_view_count": null,
      "_view_module": "@jupyter-widgets/base",
      "_view_module_version": "1.2.0",
      "_view_name": "StyleView",
      "bar_color": null,
      "description_width": ""
     }
    },
    "bce3670f3c314cf2b6e21799d09f1a0d": {
     "model_module": "@jupyter-widgets/controls",
     "model_module_version": "1.5.0",
     "model_name": "DescriptionStyleModel",
     "state": {
      "_model_module": "@jupyter-widgets/controls",
      "_model_module_version": "1.5.0",
      "_model_name": "DescriptionStyleModel",
      "_view_count": null,
      "_view_module": "@jupyter-widgets/base",
      "_view_module_version": "1.2.0",
      "_view_name": "StyleView",
      "description_width": ""
     }
    },
    "be7f08a1bf464669b912f198461ee0a9": {
     "model_module": "@jupyter-widgets/base",
     "model_module_version": "1.2.0",
     "model_name": "LayoutModel",
     "state": {
      "_model_module": "@jupyter-widgets/base",
      "_model_module_version": "1.2.0",
      "_model_name": "LayoutModel",
      "_view_count": null,
      "_view_module": "@jupyter-widgets/base",
      "_view_module_version": "1.2.0",
      "_view_name": "LayoutView",
      "align_content": null,
      "align_items": null,
      "align_self": null,
      "border": null,
      "bottom": null,
      "display": null,
      "flex": null,
      "flex_flow": null,
      "grid_area": null,
      "grid_auto_columns": null,
      "grid_auto_flow": null,
      "grid_auto_rows": null,
      "grid_column": null,
      "grid_gap": null,
      "grid_row": null,
      "grid_template_areas": null,
      "grid_template_columns": null,
      "grid_template_rows": null,
      "height": null,
      "justify_content": null,
      "justify_items": null,
      "left": null,
      "margin": null,
      "max_height": null,
      "max_width": null,
      "min_height": null,
      "min_width": null,
      "object_fit": null,
      "object_position": null,
      "order": null,
      "overflow": null,
      "overflow_x": null,
      "overflow_y": null,
      "padding": null,
      "right": null,
      "top": null,
      "visibility": null,
      "width": null
     }
    },
    "ca336136a78e434b87bcc43f1548853e": {
     "model_module": "@jupyter-widgets/controls",
     "model_module_version": "1.5.0",
     "model_name": "HTMLModel",
     "state": {
      "_dom_classes": [],
      "_model_module": "@jupyter-widgets/controls",
      "_model_module_version": "1.5.0",
      "_model_name": "HTMLModel",
      "_view_count": null,
      "_view_module": "@jupyter-widgets/controls",
      "_view_module_version": "1.5.0",
      "_view_name": "HTMLView",
      "description": "",
      "description_tooltip": null,
      "layout": "IPY_MODEL_64462f47655e43d0a9298f221ac0fb8b",
      "placeholder": "​",
      "style": "IPY_MODEL_f08566a083a84a2badd9c766bc36302f",
      "value": "tokenizer.json: 100%"
     }
    },
    "d40fcff32ee74e7d97d7f976baa4467a": {
     "model_module": "@jupyter-widgets/controls",
     "model_module_version": "1.5.0",
     "model_name": "HTMLModel",
     "state": {
      "_dom_classes": [],
      "_model_module": "@jupyter-widgets/controls",
      "_model_module_version": "1.5.0",
      "_model_name": "HTMLModel",
      "_view_count": null,
      "_view_module": "@jupyter-widgets/controls",
      "_view_module_version": "1.5.0",
      "_view_name": "HTMLView",
      "description": "",
      "description_tooltip": null,
      "layout": "IPY_MODEL_fdde51eb52a84c18ac1872cc830ab835",
      "placeholder": "​",
      "style": "IPY_MODEL_4f209c440ad147de89eae2caff4117c0",
      "value": " 456k/456k [00:00&lt;00:00, 2.11MB/s]"
     }
    },
    "d8091377d17d435398418d8fc48e91f5": {
     "model_module": "@jupyter-widgets/base",
     "model_module_version": "1.2.0",
     "model_name": "LayoutModel",
     "state": {
      "_model_module": "@jupyter-widgets/base",
      "_model_module_version": "1.2.0",
      "_model_name": "LayoutModel",
      "_view_count": null,
      "_view_module": "@jupyter-widgets/base",
      "_view_module_version": "1.2.0",
      "_view_name": "LayoutView",
      "align_content": null,
      "align_items": null,
      "align_self": null,
      "border": null,
      "bottom": null,
      "display": null,
      "flex": null,
      "flex_flow": null,
      "grid_area": null,
      "grid_auto_columns": null,
      "grid_auto_flow": null,
      "grid_auto_rows": null,
      "grid_column": null,
      "grid_gap": null,
      "grid_row": null,
      "grid_template_areas": null,
      "grid_template_columns": null,
      "grid_template_rows": null,
      "height": null,
      "justify_content": null,
      "justify_items": null,
      "left": null,
      "margin": null,
      "max_height": null,
      "max_width": null,
      "min_height": null,
      "min_width": null,
      "object_fit": null,
      "object_position": null,
      "order": null,
      "overflow": null,
      "overflow_x": null,
      "overflow_y": null,
      "padding": null,
      "right": null,
      "top": null,
      "visibility": null,
      "width": null
     }
    },
    "dc352523a6f7497cb1104d372b8e3e76": {
     "model_module": "@jupyter-widgets/base",
     "model_module_version": "1.2.0",
     "model_name": "LayoutModel",
     "state": {
      "_model_module": "@jupyter-widgets/base",
      "_model_module_version": "1.2.0",
      "_model_name": "LayoutModel",
      "_view_count": null,
      "_view_module": "@jupyter-widgets/base",
      "_view_module_version": "1.2.0",
      "_view_name": "LayoutView",
      "align_content": null,
      "align_items": null,
      "align_self": null,
      "border": null,
      "bottom": null,
      "display": null,
      "flex": null,
      "flex_flow": null,
      "grid_area": null,
      "grid_auto_columns": null,
      "grid_auto_flow": null,
      "grid_auto_rows": null,
      "grid_column": null,
      "grid_gap": null,
      "grid_row": null,
      "grid_template_areas": null,
      "grid_template_columns": null,
      "grid_template_rows": null,
      "height": null,
      "justify_content": null,
      "justify_items": null,
      "left": null,
      "margin": null,
      "max_height": null,
      "max_width": null,
      "min_height": null,
      "min_width": null,
      "object_fit": null,
      "object_position": null,
      "order": null,
      "overflow": null,
      "overflow_x": null,
      "overflow_y": null,
      "padding": null,
      "right": null,
      "top": null,
      "visibility": null,
      "width": null
     }
    },
    "dc71ca41a35c4969bf4fb4ba79f54261": {
     "model_module": "@jupyter-widgets/controls",
     "model_module_version": "1.5.0",
     "model_name": "DescriptionStyleModel",
     "state": {
      "_model_module": "@jupyter-widgets/controls",
      "_model_module_version": "1.5.0",
      "_model_name": "DescriptionStyleModel",
      "_view_count": null,
      "_view_module": "@jupyter-widgets/base",
      "_view_module_version": "1.2.0",
      "_view_name": "StyleView",
      "description_width": ""
     }
    },
    "ec350798def5489ea00a26b6e4a8cb54": {
     "model_module": "@jupyter-widgets/controls",
     "model_module_version": "1.5.0",
     "model_name": "HTMLModel",
     "state": {
      "_dom_classes": [],
      "_model_module": "@jupyter-widgets/controls",
      "_model_module_version": "1.5.0",
      "_model_name": "HTMLModel",
      "_view_count": null,
      "_view_module": "@jupyter-widgets/controls",
      "_view_module_version": "1.5.0",
      "_view_name": "HTMLView",
      "description": "",
      "description_tooltip": null,
      "layout": "IPY_MODEL_2017ebfa2eec4a9d9ff1fd640c365bc0",
      "placeholder": "​",
      "style": "IPY_MODEL_608e8d0f74d2493ca072786f9f69789a",
      "value": "vocab.json: 100%"
     }
    },
    "f08566a083a84a2badd9c766bc36302f": {
     "model_module": "@jupyter-widgets/controls",
     "model_module_version": "1.5.0",
     "model_name": "DescriptionStyleModel",
     "state": {
      "_model_module": "@jupyter-widgets/controls",
      "_model_module_version": "1.5.0",
      "_model_name": "DescriptionStyleModel",
      "_view_count": null,
      "_view_module": "@jupyter-widgets/base",
      "_view_module_version": "1.2.0",
      "_view_name": "StyleView",
      "description_width": ""
     }
    },
    "f520cca4838b486db22f0da009082cd0": {
     "model_module": "@jupyter-widgets/controls",
     "model_module_version": "1.5.0",
     "model_name": "HTMLModel",
     "state": {
      "_dom_classes": [],
      "_model_module": "@jupyter-widgets/controls",
      "_model_module_version": "1.5.0",
      "_model_name": "HTMLModel",
      "_view_count": null,
      "_view_module": "@jupyter-widgets/controls",
      "_view_module_version": "1.5.0",
      "_view_name": "HTMLView",
      "description": "",
      "description_tooltip": null,
      "layout": "IPY_MODEL_fa9823502eec4076b3510bf6cd507042",
      "placeholder": "​",
      "style": "IPY_MODEL_9b5a2f06526a4181924e4675bb11a168",
      "value": " 481/481 [00:00&lt;00:00, 50.7kB/s]"
     }
    },
    "fa9823502eec4076b3510bf6cd507042": {
     "model_module": "@jupyter-widgets/base",
     "model_module_version": "1.2.0",
     "model_name": "LayoutModel",
     "state": {
      "_model_module": "@jupyter-widgets/base",
      "_model_module_version": "1.2.0",
      "_model_name": "LayoutModel",
      "_view_count": null,
      "_view_module": "@jupyter-widgets/base",
      "_view_module_version": "1.2.0",
      "_view_name": "LayoutView",
      "align_content": null,
      "align_items": null,
      "align_self": null,
      "border": null,
      "bottom": null,
      "display": null,
      "flex": null,
      "flex_flow": null,
      "grid_area": null,
      "grid_auto_columns": null,
      "grid_auto_flow": null,
      "grid_auto_rows": null,
      "grid_column": null,
      "grid_gap": null,
      "grid_row": null,
      "grid_template_areas": null,
      "grid_template_columns": null,
      "grid_template_rows": null,
      "height": null,
      "justify_content": null,
      "justify_items": null,
      "left": null,
      "margin": null,
      "max_height": null,
      "max_width": null,
      "min_height": null,
      "min_width": null,
      "object_fit": null,
      "object_position": null,
      "order": null,
      "overflow": null,
      "overflow_x": null,
      "overflow_y": null,
      "padding": null,
      "right": null,
      "top": null,
      "visibility": null,
      "width": null
     }
    },
    "fdde51eb52a84c18ac1872cc830ab835": {
     "model_module": "@jupyter-widgets/base",
     "model_module_version": "1.2.0",
     "model_name": "LayoutModel",
     "state": {
      "_model_module": "@jupyter-widgets/base",
      "_model_module_version": "1.2.0",
      "_model_name": "LayoutModel",
      "_view_count": null,
      "_view_module": "@jupyter-widgets/base",
      "_view_module_version": "1.2.0",
      "_view_name": "LayoutView",
      "align_content": null,
      "align_items": null,
      "align_self": null,
      "border": null,
      "bottom": null,
      "display": null,
      "flex": null,
      "flex_flow": null,
      "grid_area": null,
      "grid_auto_columns": null,
      "grid_auto_flow": null,
      "grid_auto_rows": null,
      "grid_column": null,
      "grid_gap": null,
      "grid_row": null,
      "grid_template_areas": null,
      "grid_template_columns": null,
      "grid_template_rows": null,
      "height": null,
      "justify_content": null,
      "justify_items": null,
      "left": null,
      "margin": null,
      "max_height": null,
      "max_width": null,
      "min_height": null,
      "min_width": null,
      "object_fit": null,
      "object_position": null,
      "order": null,
      "overflow": null,
      "overflow_x": null,
      "overflow_y": null,
      "padding": null,
      "right": null,
      "top": null,
      "visibility": null,
      "width": null
     }
    }
   }
  }
 },
 "nbformat": 4,
 "nbformat_minor": 0
}
