{
 "cells": [
  {
   "cell_type": "markdown",
   "metadata": {},
   "source": [
    "# Check Normal Distribution"
   ]
  },
  {
   "cell_type": "markdown",
   "metadata": {},
   "source": [
    "## setup"
   ]
  },
  {
   "cell_type": "code",
   "execution_count": 1,
   "metadata": {},
   "outputs": [],
   "source": [
    "import numpy as np\n",
    "import pandas as pd\n",
    "import matplotlib.pyplot as plt\n",
    "\n",
    "from numpy.random import randn\n",
    "from scipy.stats import shapiro"
   ]
  },
  {
   "cell_type": "code",
   "execution_count": 9,
   "metadata": {},
   "outputs": [],
   "source": [
    "NUM_KIDS = 100 # per story\n",
    "\n",
    "HN_STORIES_JSON = '../hn_stories_dataset_final.json' # raw stories data, used to fetch comments from kid ids\n",
    "HN_COMMENTS_JSON = '../hn_comments_dataset_final.json' # store raw stories + comments\n",
    "HN_COMMENTS_CSV = 'sentiment_385_sampled.csv' # converted from json to csv\n",
    "HN_COMMENTS_SAMPLED_CSV = 'sentiment_385_sampled.csv' # uniformly sampled comments for ground truth\n",
    "HN_COMMENTS_SAMPLED_CLEANUP_CSV = 'sentiment_385_sampled_cleanup.csv' # after removing notes columns\n",
    "\n",
    "# Define the base URL for the Hacker News API\n",
    "BASE_URL = 'https://hacker-news.firebaseio.com/v0'\n",
    "\n",
    "DEPTH = 1 # comments depth"
   ]
  },
  {
   "cell_type": "markdown",
   "metadata": {},
   "source": [
    "# cleanup csv"
   ]
  },
  {
   "cell_type": "code",
   "execution_count": 10,
   "metadata": {},
   "outputs": [
    {
     "name": "stdout",
     "output_type": "stream",
     "text": [
      "CSV file has been cleaned and saved as sentiment_385_sampled_cleanup.csv\n"
     ]
    }
   ],
   "source": [
    "import csv\n",
    "\n",
    "\n",
    "# Columns to remove\n",
    "columns_to_remove = ['thai_note', 'grace_note', 'explanation', 'neg', 'neutral', 'pos']\n",
    "\n",
    "# Read the input CSV and write to the output CSV\n",
    "with open(HN_COMMENTS_SAMPLED_CSV, 'r', newline='', encoding='utf-8') as infile, \\\n",
    "     open(HN_COMMENTS_SAMPLED_CLEANUP_CSV, 'w', newline='', encoding='utf-8') as outfile:\n",
    "\n",
    "    reader = csv.DictReader(infile)\n",
    "\n",
    "    # Get fieldnames and remove unwanted columns\n",
    "    fieldnames = [field for field in reader.fieldnames if field not in columns_to_remove]\n",
    "\n",
    "    writer = csv.DictWriter(outfile, fieldnames=fieldnames)\n",
    "    writer.writeheader()\n",
    "\n",
    "    for row in reader:\n",
    "        # Remove unwanted columns from each row\n",
    "        for column in columns_to_remove:\n",
    "            row.pop(column, None)\n",
    "        writer.writerow(row)\n",
    "\n",
    "print(f\"CSV file has been cleaned and saved as {HN_COMMENTS_SAMPLED_CLEANUP_CSV}\")"
   ]
  },
  {
   "cell_type": "markdown",
   "metadata": {},
   "source": [
    "# Distribution of each sentiment probability"
   ]
  },
  {
   "cell_type": "code",
   "execution_count": 12,
   "metadata": {},
   "outputs": [
    {
     "data": {
      "text/html": [
       "<div>\n",
       "<style scoped>\n",
       "    .dataframe tbody tr th:only-of-type {\n",
       "        vertical-align: middle;\n",
       "    }\n",
       "\n",
       "    .dataframe tbody tr th {\n",
       "        vertical-align: top;\n",
       "    }\n",
       "\n",
       "    .dataframe thead th {\n",
       "        text-align: right;\n",
       "    }\n",
       "</style>\n",
       "<table border=\"1\" class=\"dataframe\">\n",
       "  <thead>\n",
       "    <tr style=\"text-align: right;\">\n",
       "      <th></th>\n",
       "      <th>discussion_id</th>\n",
       "      <th>title</th>\n",
       "      <th>url</th>\n",
       "      <th>discussion_date</th>\n",
       "      <th>comment_id</th>\n",
       "      <th>parent_id</th>\n",
       "      <th>depth</th>\n",
       "      <th>comment_text</th>\n",
       "      <th>comment_date</th>\n",
       "      <th>comment_author</th>\n",
       "      <th>thai_label</th>\n",
       "      <th>grace_label</th>\n",
       "      <th>agreement</th>\n",
       "      <th>consensus_agreement</th>\n",
       "    </tr>\n",
       "  </thead>\n",
       "  <tbody>\n",
       "    <tr>\n",
       "      <th>0</th>\n",
       "      <td>31533180</td>\n",
       "      <td>Codeball – AI-powered code review</td>\n",
       "      <td>https://codeball.ai/</td>\n",
       "      <td>2022-05-28 1:38</td>\n",
       "      <td>31534424</td>\n",
       "      <td>NaN</td>\n",
       "      <td>0</td>\n",
       "      <td>Explanation of results for non-ML folks (resul...</td>\n",
       "      <td>2022-05-28 3:19</td>\n",
       "      <td>apugoneappu</td>\n",
       "      <td>0</td>\n",
       "      <td>0</td>\n",
       "      <td>True</td>\n",
       "      <td>0</td>\n",
       "    </tr>\n",
       "    <tr>\n",
       "      <th>1</th>\n",
       "      <td>31555920</td>\n",
       "      <td>Show HN: Easily create How-to videos with AI</td>\n",
       "      <td>https://www.wowto.ai/</td>\n",
       "      <td>2022-05-30 13:12</td>\n",
       "      <td>31557237</td>\n",
       "      <td>NaN</td>\n",
       "      <td>0</td>\n",
       "      <td>This sounds like it would absolutely ruin the ...</td>\n",
       "      <td>2022-05-30 16:54</td>\n",
       "      <td>alexb_</td>\n",
       "      <td>-1</td>\n",
       "      <td>-1</td>\n",
       "      <td>True</td>\n",
       "      <td>-1</td>\n",
       "    </tr>\n",
       "    <tr>\n",
       "      <th>2</th>\n",
       "      <td>31662560</td>\n",
       "      <td>Addressing AI’s energy cost</td>\n",
       "      <td>https://numenta.com/blog/2022/05/24/ai-is-harm...</td>\n",
       "      <td>2022-06-08 9:34</td>\n",
       "      <td>31662863</td>\n",
       "      <td>NaN</td>\n",
       "      <td>0</td>\n",
       "      <td>Limiting energy use while continuing to use ca...</td>\n",
       "      <td>2022-06-08 10:29</td>\n",
       "      <td>qgin</td>\n",
       "      <td>-1</td>\n",
       "      <td>-1</td>\n",
       "      <td>True</td>\n",
       "      <td>-1</td>\n",
       "    </tr>\n",
       "    <tr>\n",
       "      <th>3</th>\n",
       "      <td>31776740</td>\n",
       "      <td>Minimum Viable Architecture in Practice: Creat...</td>\n",
       "      <td>https://www.infoq.com/articles/minimum-viable-...</td>\n",
       "      <td>2022-06-17 18:43</td>\n",
       "      <td>31778278</td>\n",
       "      <td>NaN</td>\n",
       "      <td>0</td>\n",
       "      <td>On a related note, thank god these chatbots ha...</td>\n",
       "      <td>2022-06-17 21:00</td>\n",
       "      <td>ramesh31</td>\n",
       "      <td>-1</td>\n",
       "      <td>0</td>\n",
       "      <td>False</td>\n",
       "      <td>1</td>\n",
       "    </tr>\n",
       "    <tr>\n",
       "      <th>4</th>\n",
       "      <td>31934400</td>\n",
       "      <td>Build your own GitHub Copilot with Salesforce ...</td>\n",
       "      <td>https://www.youtube.com/watch?v=8VyGlSKsYeo</td>\n",
       "      <td>2022-06-30 22:58</td>\n",
       "      <td>31940283</td>\n",
       "      <td>NaN</td>\n",
       "      <td>0</td>\n",
       "      <td>As someone who has worked at Salesforce (and i...</td>\n",
       "      <td>2022-07-01 6:53</td>\n",
       "      <td>ubertaco</td>\n",
       "      <td>-1</td>\n",
       "      <td>-1</td>\n",
       "      <td>True</td>\n",
       "      <td>-1</td>\n",
       "    </tr>\n",
       "  </tbody>\n",
       "</table>\n",
       "</div>"
      ],
      "text/plain": [
       "   discussion_id                                              title  \\\n",
       "0       31533180                  Codeball – AI-powered code review   \n",
       "1       31555920       Show HN: Easily create How-to videos with AI   \n",
       "2       31662560                        Addressing AI’s energy cost   \n",
       "3       31776740  Minimum Viable Architecture in Practice: Creat...   \n",
       "4       31934400  Build your own GitHub Copilot with Salesforce ...   \n",
       "\n",
       "                                                 url   discussion_date  \\\n",
       "0                               https://codeball.ai/   2022-05-28 1:38   \n",
       "1                              https://www.wowto.ai/  2022-05-30 13:12   \n",
       "2  https://numenta.com/blog/2022/05/24/ai-is-harm...   2022-06-08 9:34   \n",
       "3  https://www.infoq.com/articles/minimum-viable-...  2022-06-17 18:43   \n",
       "4        https://www.youtube.com/watch?v=8VyGlSKsYeo  2022-06-30 22:58   \n",
       "\n",
       "   comment_id  parent_id  depth  \\\n",
       "0    31534424        NaN      0   \n",
       "1    31557237        NaN      0   \n",
       "2    31662863        NaN      0   \n",
       "3    31778278        NaN      0   \n",
       "4    31940283        NaN      0   \n",
       "\n",
       "                                        comment_text      comment_date  \\\n",
       "0  Explanation of results for non-ML folks (resul...   2022-05-28 3:19   \n",
       "1  This sounds like it would absolutely ruin the ...  2022-05-30 16:54   \n",
       "2  Limiting energy use while continuing to use ca...  2022-06-08 10:29   \n",
       "3  On a related note, thank god these chatbots ha...  2022-06-17 21:00   \n",
       "4  As someone who has worked at Salesforce (and i...   2022-07-01 6:53   \n",
       "\n",
       "  comment_author  thai_label  grace_label  agreement  consensus_agreement  \n",
       "0    apugoneappu           0            0       True                    0  \n",
       "1         alexb_          -1           -1       True                   -1  \n",
       "2           qgin          -1           -1       True                   -1  \n",
       "3       ramesh31          -1            0      False                    1  \n",
       "4       ubertaco          -1           -1       True                   -1  "
      ]
     },
     "execution_count": 12,
     "metadata": {},
     "output_type": "execute_result"
    }
   ],
   "source": [
    "data = pd.read_csv(HN_COMMENTS_SAMPLED_CLEANUP_CSV)\n",
    "\n",
    "data.head(5)"
   ]
  },
  {
   "cell_type": "markdown",
   "metadata": {},
   "source": [
    "Negative"
   ]
  },
  {
   "cell_type": "code",
   "execution_count": 14,
   "metadata": {},
   "outputs": [
    {
     "data": {
      "text/plain": [
       "ShapiroResult(statistic=0.7768034982322651, pvalue=1.502532294716119e-22)"
      ]
     },
     "execution_count": 14,
     "metadata": {},
     "output_type": "execute_result"
    }
   ],
   "source": [
    "negative = data['consensus_agreement']\n",
    "shapiro(negative)"
   ]
  },
  {
   "cell_type": "code",
   "execution_count": 19,
   "metadata": {},
   "outputs": [
    {
     "data": {
      "text/plain": [
       "<function matplotlib.pyplot.show(close=None, block=None)>"
      ]
     },
     "execution_count": 19,
     "metadata": {},
     "output_type": "execute_result"
    },
    {
     "data": {
      "image/png": "[encoded data removed]",
      "text/plain": [
       "<Figure size 640x480 with 1 Axes>"
      ]
     },
     "metadata": {},
     "output_type": "display_data"
    }
   ],
   "source": [
    "plt.hist(x=data['consensus_agreement'],width = 0.075)\n",
    "plt.title(\"Consensus distribution\")\n",
    "plt.xlabel(\"Probability of being negative\")\n",
    "plt.ylabel(\"Number of comments\")\n",
    "plt.show"
   ]
  },
  {
   "cell_type": "markdown",
   "metadata": {},
   "source": [
    "Neutral"
   ]
  },
  {
   "cell_type": "code",
   "execution_count": 17,
   "metadata": {},
   "outputs": [
    {
     "data": {
      "text/plain": [
       "ShapiroResult(statistic=0.7976879188161983, pvalue=1.4401106786119219e-21)"
      ]
     },
     "execution_count": 17,
     "metadata": {},
     "output_type": "execute_result"
    }
   ],
   "source": [
    "neutral = data['grace_label']\n",
    "shapiro(neutral)"
   ]
  },
  {
   "cell_type": "code",
   "execution_count": 18,
   "metadata": {},
   "outputs": [
    {
     "data": {
      "text/plain": [
       "ShapiroResult(statistic=0.7446450283370905, pvalue=6.222127748902761e-24)"
      ]
     },
     "execution_count": 18,
     "metadata": {},
     "output_type": "execute_result"
    }
   ],
   "source": [
    "neutral = data['thai_label']\n",
    "shapiro(neutral)"
   ]
  },
  {
   "cell_type": "code",
   "execution_count": 14,
   "metadata": {},
   "outputs": [
    {
     "data": {
      "text/plain": [
       "<function matplotlib.pyplot.show(close=None, block=None)>"
      ]
     },
     "execution_count": 14,
     "metadata": {},
     "output_type": "execute_result"
    },
    {
     "data": {
      "image/png": "[encoded data removed]",
      "text/plain": [
       "<Figure size 640x480 with 1 Axes>"
      ]
     },
     "metadata": {},
     "output_type": "display_data"
    }
   ],
   "source": [
    "plt.hist(x=data.neutral,width = 0.075)\n",
    "plt.title(\"Neutral\")\n",
    "plt.xlabel(\"Probability of being neutral\")\n",
    "plt.ylabel(\"Number of comments\")\n",
    "plt.show"
   ]
  },
  {
   "cell_type": "markdown",
   "metadata": {},
   "source": [
    "Positive"
   ]
  },
  {
   "cell_type": "code",
   "execution_count": 6,
   "metadata": {},
   "outputs": [
    {
     "data": {
      "text/plain": [
       "ShapiroResult(statistic=np.float64(nan), pvalue=np.float64(nan))"
      ]
     },
     "execution_count": 6,
     "metadata": {},
     "output_type": "execute_result"
    }
   ],
   "source": [
    "positive = data.positive\n",
    "shapiro(positive)"
   ]
  },
  {
   "cell_type": "code",
   "execution_count": 13,
   "metadata": {},
   "outputs": [
    {
     "data": {
      "text/plain": [
       "<function matplotlib.pyplot.show(close=None, block=None)>"
      ]
     },
     "execution_count": 13,
     "metadata": {},
     "output_type": "execute_result"
    },
    {
     "data": {
      "image/png": "[encoded data removed]",
      "text/plain": [
       "<Figure size 640x480 with 1 Axes>"
      ]
     },
     "metadata": {},
     "output_type": "display_data"
    }
   ],
   "source": [
    "plt.hist(x=data.positive,width = 0.075)\n",
    "plt.title(\"Positive\")\n",
    "plt.xlabel(\"Probability of being positive\")\n",
    "plt.ylabel(\"Number of comments\")\n",
    "plt.show"
   ]
  }
 ],
 "metadata": {
  "kernelspec": {
   "display_name": "Python 3",
   "language": "python",
   "name": "python3"
  },
  "language_info": {
   "codemirror_mode": {
    "name": "ipython",
    "version": 3
   },
   "file_extension": ".py",
   "mimetype": "text/x-python",
   "name": "python",
   "nbconvert_exporter": "python",
   "pygments_lexer": "ipython3",
   "version": "3.9.18"
  }
 },
 "nbformat": 4,
 "nbformat_minor": 2
}
