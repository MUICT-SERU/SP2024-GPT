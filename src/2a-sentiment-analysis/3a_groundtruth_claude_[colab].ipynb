{
  "cells": [
    {
      "cell_type": "markdown",
      "metadata": {
        "id": "VF17NpJaPbsf"
      },
      "source": [
        "# Sentiment analysis for ground truth sample using Claude Sonnet 3.5"
      ]
    },
    {
      "cell_type": "markdown",
      "metadata": {
        "id": "4x4NEmgnPbsk"
      },
      "source": [
        "setup"
      ]
    },
    {
      "cell_type": "code",
      "execution_count": null,
      "metadata": {
        "colab": {
          "base_uri": "https://localhost:8080/"
        },
        "id": "duBFANepPbsl",
        "outputId": "b3a9d4d5-adac-4cde-a0a0-03ddf4a2d2d0"
      },
      "outputs": [
        {
          "output_type": "stream",
          "name": "stdout",
          "text": [
            "Requirement already satisfied: anthropic in /usr/local/lib/python3.10/dist-packages (0.36.0)\n",
            "Requirement already satisfied: pandas in /usr/local/lib/python3.10/dist-packages (2.2.2)\n",
            "Requirement already satisfied: tqdm in /usr/local/lib/python3.10/dist-packages (4.66.5)\n",
            "Requirement already satisfied: anyio<5,>=3.5.0 in /usr/local/lib/python3.10/dist-packages (from anthropic) (3.7.1)\n",
            "Requirement already satisfied: distro<2,>=1.7.0 in /usr/lib/python3/dist-packages (from anthropic) (1.7.0)\n",
            "Requirement already satisfied: httpx<1,>=0.23.0 in /usr/local/lib/python3.10/dist-packages (from anthropic) (0.27.2)\n",
            "Requirement already satisfied: jiter<1,>=0.4.0 in /usr/local/lib/python3.10/dist-packages (from anthropic) (0.6.1)\n",
            "Requirement already satisfied: pydantic<3,>=1.9.0 in /usr/local/lib/python3.10/dist-packages (from anthropic) (2.9.2)\n",
            "Requirement already satisfied: sniffio in /usr/local/lib/python3.10/dist-packages (from anthropic) (1.3.1)\n",
            "Requirement already satisfied: tokenizers>=0.13.0 in /usr/local/lib/python3.10/dist-packages (from anthropic) (0.19.1)\n",
            "Requirement already satisfied: typing-extensions<5,>=4.7 in /usr/local/lib/python3.10/dist-packages (from anthropic) (4.12.2)\n",
            "Requirement already satisfied: numpy>=1.22.4 in /usr/local/lib/python3.10/dist-packages (from pandas) (1.26.4)\n",
            "Requirement already satisfied: python-dateutil>=2.8.2 in /usr/local/lib/python3.10/dist-packages (from pandas) (2.8.2)\n",
            "Requirement already satisfied: pytz>=2020.1 in /usr/local/lib/python3.10/dist-packages (from pandas) (2024.2)\n",
            "Requirement already satisfied: tzdata>=2022.7 in /usr/local/lib/python3.10/dist-packages (from pandas) (2024.2)\n",
            "Requirement already satisfied: idna>=2.8 in /usr/local/lib/python3.10/dist-packages (from anyio<5,>=3.5.0->anthropic) (3.10)\n",
            "Requirement already satisfied: exceptiongroup in /usr/local/lib/python3.10/dist-packages (from anyio<5,>=3.5.0->anthropic) (1.2.2)\n",
            "Requirement already satisfied: certifi in /usr/local/lib/python3.10/dist-packages (from httpx<1,>=0.23.0->anthropic) (2024.8.30)\n",
            "Requirement already satisfied: httpcore==1.* in /usr/local/lib/python3.10/dist-packages (from httpx<1,>=0.23.0->anthropic) (1.0.6)\n",
            "Requirement already satisfied: h11<0.15,>=0.13 in /usr/local/lib/python3.10/dist-packages (from httpcore==1.*->httpx<1,>=0.23.0->anthropic) (0.14.0)\n",
            "Requirement already satisfied: annotated-types>=0.6.0 in /usr/local/lib/python3.10/dist-packages (from pydantic<3,>=1.9.0->anthropic) (0.7.0)\n",
            "Requirement already satisfied: pydantic-core==2.23.4 in /usr/local/lib/python3.10/dist-packages (from pydantic<3,>=1.9.0->anthropic) (2.23.4)\n",
            "Requirement already satisfied: six>=1.5 in /usr/local/lib/python3.10/dist-packages (from python-dateutil>=2.8.2->pandas) (1.16.0)\n",
            "Requirement already satisfied: huggingface-hub<1.0,>=0.16.4 in /usr/local/lib/python3.10/dist-packages (from tokenizers>=0.13.0->anthropic) (0.24.7)\n",
            "Requirement already satisfied: filelock in /usr/local/lib/python3.10/dist-packages (from huggingface-hub<1.0,>=0.16.4->tokenizers>=0.13.0->anthropic) (3.16.1)\n",
            "Requirement already satisfied: fsspec>=2023.5.0 in /usr/local/lib/python3.10/dist-packages (from huggingface-hub<1.0,>=0.16.4->tokenizers>=0.13.0->anthropic) (2024.6.1)\n",
            "Requirement already satisfied: packaging>=20.9 in /usr/local/lib/python3.10/dist-packages (from huggingface-hub<1.0,>=0.16.4->tokenizers>=0.13.0->anthropic) (24.1)\n",
            "Requirement already satisfied: pyyaml>=5.1 in /usr/local/lib/python3.10/dist-packages (from huggingface-hub<1.0,>=0.16.4->tokenizers>=0.13.0->anthropic) (6.0.2)\n",
            "Requirement already satisfied: requests in /usr/local/lib/python3.10/dist-packages (from huggingface-hub<1.0,>=0.16.4->tokenizers>=0.13.0->anthropic) (2.32.3)\n",
            "Requirement already satisfied: charset-normalizer<4,>=2 in /usr/local/lib/python3.10/dist-packages (from requests->huggingface-hub<1.0,>=0.16.4->tokenizers>=0.13.0->anthropic) (3.3.2)\n",
            "Requirement already satisfied: urllib3<3,>=1.21.1 in /usr/local/lib/python3.10/dist-packages (from requests->huggingface-hub<1.0,>=0.16.4->tokenizers>=0.13.0->anthropic) (2.2.3)\n"
          ]
        }
      ],
      "source": [
        "!pip install anthropic pandas tqdm"
      ]
    },
    {
      "cell_type": "code",
      "execution_count": null,
      "metadata": {
        "id": "21Zs1gDZPbsm"
      },
      "outputs": [],
      "source": [
        "import anthropic\n",
        "import pandas as pd\n",
        "import time\n",
        "import random\n",
        "from tqdm.notebook import tqdm"
      ]
    },
    {
      "cell_type": "markdown",
      "metadata": {
        "id": "CrHk7FZYPbsn"
      },
      "source": [
        "Check whether API key exists (should be in your environment variable)"
      ]
    },
    {
      "cell_type": "code",
      "execution_count": null,
      "metadata": {
        "id": "UaHF7gerPbsn"
      },
      "outputs": [],
      "source": [
        "from google.colab import userdata\n",
        "api_key = userdata.get('ANTHROPIC_API_KEY')\n",
        "client = anthropic.Anthropic(api_key=api_key)"
      ]
    },
    {
      "cell_type": "markdown",
      "metadata": {
        "id": "mF_44uxKPbso"
      },
      "source": [
        "Define the sentiment analysis prompt template"
      ]
    },
    {
      "cell_type": "code",
      "execution_count": null,
      "metadata": {
        "id": "32cpebVbPbsp"
      },
      "outputs": [],
      "source": [
        "prompt_template = '''\n",
        "Analyze the sentiment of the Hacker News comment with the context of the AI-related story title found below under \"Input text:\" whether the comment is negative (-1), neutral (0), or positive (1) towards AI. First understand the meaning of the story title, then understand the meaning of the comment in the context of the story title, then analyze the sentiment of the comments in the context of the story title whether the comment is negative (-1), neutral (0), or positive (1) towards AI, and conclude the sentiment of the comment to only one best sentiment type.\n",
        "\n",
        "Sentiment can contain only a single number either:\n",
        "  -1 (for negative towards AI)\n",
        "  0 (for neutral towards AI)\n",
        "  1 (for positive towards AI)\n",
        "\n",
        "# Input text:\n",
        "Story title: \"\"\"\n",
        "{title}\n",
        "\"\"\"\n",
        "Comment: \"\"\"\n",
        "{comment}\n",
        "\"\"\"\n",
        "\n",
        "# Output format:\n",
        "Sentiment: your_sentiment\n",
        "Explanation: your_explanation_for_the_sentiment\n",
        "'''\n",
        "\n",
        "# Function to get sentiment using Claude's API\n",
        "def get_sentiment_and_explanation(title, comment):\n",
        "    prompt = prompt_template.format(title=title, comment=comment)\n",
        "\n",
        "    # Repeats for 3 times in case of errors\n",
        "    for _ in range(3):\n",
        "        try:\n",
        "            # Call the Claude API with the prompt\n",
        "            response = client.messages.create(\n",
        "                model=\"claude-3-sonnet-20240229\",\n",
        "                max_tokens=1000,\n",
        "                messages=[\n",
        "                    {\"role\": \"user\", \"content\": prompt}\n",
        "                ]\n",
        "            )\n",
        "            # Extract the text from the response\n",
        "            result = response.content[0].text.strip()\n",
        "\n",
        "            # Extract sentiment and explanation from the response text\n",
        "            sentiment_line = next((line for line in result.split('\\n') if \"Sentiment:\" in line), None)\n",
        "            explanation_line = next((line for line in result.split('\\n') if \"Explanation:\" in line), None)\n",
        "\n",
        "            if sentiment_line and explanation_line:\n",
        "                sentiment = int(sentiment_line.split(\":\")[1].strip())\n",
        "                explanation = explanation_line.split(\":\")[1].strip()\n",
        "                return sentiment, explanation\n",
        "            else:\n",
        "                raise ValueError(\"Invalid response format\")\n",
        "\n",
        "        except Exception as e:\n",
        "            print(f\"API call failed: {e}. Pausing for 1-2 minutes...\")\n",
        "            time.sleep(random.randint(60, 120))\n",
        "\n",
        "# Function to process comments and save periodically, continuing from last processed row\n",
        "def process_comments(df, output_csv_file, save_interval=20):\n",
        "    # Load existing file if exists, continue from where it left off\n",
        "    try:\n",
        "        existing_df = pd.read_csv(output_csv_file)\n",
        "        df.update(existing_df)  # Merge with any previously saved data\n",
        "        print(\"Resuming from the last saved point...\")\n",
        "    except FileNotFoundError:\n",
        "        print(\"No existing output file found. Starting fresh...\")\n",
        "\n",
        "    # Create a tqdm progress bar\n",
        "    pbar = tqdm(total=len(df), desc=\"Processing comments\")\n",
        "\n",
        "    for i, row in df.iterrows():\n",
        "        # Skip rows that already have a sentiment and explanation value\n",
        "        if pd.notna(row.get('sentiment')) and pd.notna(row.get('explanation')):\n",
        "            pbar.update(1)\n",
        "            continue\n",
        "\n",
        "        # Perform sentiment analysis and get the explanation\n",
        "        sentiment, explanation = get_sentiment_and_explanation(row['title'], row['comment_text'])\n",
        "        df.at[i, 'sentiment'] = sentiment\n",
        "        df.at[i, 'explanation'] = explanation\n",
        "\n",
        "        # Update progress bar\n",
        "        pbar.update(1)\n",
        "\n",
        "        # Save progress to CSV after every `save_interval` rows\n",
        "        if (i + 1) % save_interval == 0:\n",
        "            df.to_csv(output_csv_file, index=False)\n",
        "            print(f\"\\nSaved progress at row {i + 1}\")\n",
        "\n",
        "    # Close progress bar\n",
        "    pbar.close()\n",
        "\n",
        "    # Final save at the end of processing\n",
        "    df.to_csv(output_csv_file, index=False)\n",
        "    print(f\"Final result saved to {output_csv_file}\")\n"
      ]
    },
    {
      "cell_type": "markdown",
      "source": [
        "Load the CSV file with the Hacker News data"
      ],
      "metadata": {
        "id": "zVHZkuENXCdx"
      }
    },
    {
      "cell_type": "code",
      "execution_count": null,
      "metadata": {
        "colab": {
          "base_uri": "https://localhost:8080/",
          "height": 151,
          "referenced_widgets": [
            "03b021225ae443eb8df7fca06bedad27",
            "3ad72db3009d433ba3122b0e5f56e6a0",
            "0f310562e37f43ccbe9a3a59be0507a1",
            "9f23c1fa48654b5e913a2ef86af45396",
            "23f1a89936c24e26a0e40974f3904a2a",
            "01a500874ee14888b38f6f2f6542a712",
            "a78e3d0d1b514b78bf925b000b1b38b5",
            "2bc27c42dd36495b9c9f690b9cc0a1e6",
            "0f734b437d29407d9f6f7b60ca47d32f",
            "58675e2e393c49e19f29bff421cbe64f",
            "88a95b0b87b4461484302a2dc206915a"
          ]
        },
        "id": "VushdRtNPbsr",
        "outputId": "367b25bf-b38f-4e69-b6f7-f4974fd257f8"
      },
      "outputs": [
        {
          "output_type": "stream",
          "name": "stdout",
          "text": [
            "Resuming from the last saved point...\n"
          ]
        },
        {
          "output_type": "display_data",
          "data": {
            "text/plain": [
              "Processing comments:   0%|          | 0/385 [00:00<?, ?it/s]"
            ],
            "application/vnd.jupyter.widget-view+json": {
              "version_major": 2,
              "version_minor": 0,
              "model_id": "03b021225ae443eb8df7fca06bedad27"
            }
          },
          "metadata": {}
        },
        {
          "output_type": "stream",
          "name": "stdout",
          "text": [
            "Final result saved to hackernews_comments_with_sentiment_CLAUDE.csv\n",
            "Sentiment analysis completed and saved to hackernews_comments_with_sentiment_CLAUDE.csv\n"
          ]
        }
      ],
      "source": [
        "csv_file = 'sentiment_385_sampled_cleanup.csv'  # Replace with the actual path to your CSV file\n",
        "df = pd.read_csv(csv_file)\n",
        "\n",
        "# If the 'sentiment' and 'explanation' columns don't exist, add them\n",
        "if 'sentiment' not in df.columns:\n",
        "    df['sentiment'] = None\n",
        "if 'explanation' not in df.columns:\n",
        "    df['explanation'] = None\n",
        "\n",
        "# Output file to save the results\n",
        "output_csv_file = 'hackernews_comments_with_sentiment_CLAUDE.csv'\n",
        "\n",
        "# Process the comments and periodically save the results\n",
        "process_comments(df, output_csv_file)\n",
        "\n",
        "print(f'Sentiment analysis completed and saved to {output_csv_file}')"
      ]
    },
    {
      "cell_type": "code",
      "source": [],
      "metadata": {
        "id": "HksfN36oXSsu"
      },
      "execution_count": null,
      "outputs": []
    }
  ],
  "metadata": {
    "language_info": {
      "name": "python"
    },
    "colab": {
      "provenance": []
    },
    "kernelspec": {
      "name": "python3",
      "display_name": "Python 3"
    },
    "widgets": {
      "application/vnd.jupyter.widget-state+json": {
        "03b021225ae443eb8df7fca06bedad27": {
          "model_module": "@jupyter-widgets/controls",
          "model_name": "HBoxModel",
          "model_module_version": "1.5.0",
          "state": {
            "_dom_classes": [],
            "_model_module": "@jupyter-widgets/controls",
            "_model_module_version": "1.5.0",
            "_model_name": "HBoxModel",
            "_view_count": null,
            "_view_module": "@jupyter-widgets/controls",
            "_view_module_version": "1.5.0",
            "_view_name": "HBoxView",
            "box_style": "",
            "children": [
              "IPY_MODEL_3ad72db3009d433ba3122b0e5f56e6a0",
              "IPY_MODEL_0f310562e37f43ccbe9a3a59be0507a1",
              "IPY_MODEL_9f23c1fa48654b5e913a2ef86af45396"
            ],
            "layout": "IPY_MODEL_23f1a89936c24e26a0e40974f3904a2a"
          }
        },
        "3ad72db3009d433ba3122b0e5f56e6a0": {
          "model_module": "@jupyter-widgets/controls",
          "model_name": "HTMLModel",
          "model_module_version": "1.5.0",
          "state": {
            "_dom_classes": [],
            "_model_module": "@jupyter-widgets/controls",
            "_model_module_version": "1.5.0",
            "_model_name": "HTMLModel",
            "_view_count": null,
            "_view_module": "@jupyter-widgets/controls",
            "_view_module_version": "1.5.0",
            "_view_name": "HTMLView",
            "description": "",
            "description_tooltip": null,
            "layout": "IPY_MODEL_01a500874ee14888b38f6f2f6542a712",
            "placeholder": "​",
            "style": "IPY_MODEL_a78e3d0d1b514b78bf925b000b1b38b5",
            "value": "Processing comments: 100%"
          }
        },
        "0f310562e37f43ccbe9a3a59be0507a1": {
          "model_module": "@jupyter-widgets/controls",
          "model_name": "FloatProgressModel",
          "model_module_version": "1.5.0",
          "state": {
            "_dom_classes": [],
            "_model_module": "@jupyter-widgets/controls",
            "_model_module_version": "1.5.0",
            "_model_name": "FloatProgressModel",
            "_view_count": null,
            "_view_module": "@jupyter-widgets/controls",
            "_view_module_version": "1.5.0",
            "_view_name": "ProgressView",
            "bar_style": "success",
            "description": "",
            "description_tooltip": null,
            "layout": "IPY_MODEL_2bc27c42dd36495b9c9f690b9cc0a1e6",
            "max": 385,
            "min": 0,
            "orientation": "horizontal",
            "style": "IPY_MODEL_0f734b437d29407d9f6f7b60ca47d32f",
            "value": 385
          }
        },
        "9f23c1fa48654b5e913a2ef86af45396": {
          "model_module": "@jupyter-widgets/controls",
          "model_name": "HTMLModel",
          "model_module_version": "1.5.0",
          "state": {
            "_dom_classes": [],
            "_model_module": "@jupyter-widgets/controls",
            "_model_module_version": "1.5.0",
            "_model_name": "HTMLModel",
            "_view_count": null,
            "_view_module": "@jupyter-widgets/controls",
            "_view_module_version": "1.5.0",
            "_view_name": "HTMLView",
            "description": "",
            "description_tooltip": null,
            "layout": "IPY_MODEL_58675e2e393c49e19f29bff421cbe64f",
            "placeholder": "​",
            "style": "IPY_MODEL_88a95b0b87b4461484302a2dc206915a",
            "value": " 385/385 [00:00&lt;00:00, 6201.95it/s]"
          }
        },
        "23f1a89936c24e26a0e40974f3904a2a": {
          "model_module": "@jupyter-widgets/base",
          "model_name": "LayoutModel",
          "model_module_version": "1.2.0",
          "state": {
            "_model_module": "@jupyter-widgets/base",
            "_model_module_version": "1.2.0",
            "_model_name": "LayoutModel",
            "_view_count": null,
            "_view_module": "@jupyter-widgets/base",
            "_view_module_version": "1.2.0",
            "_view_name": "LayoutView",
            "align_content": null,
            "align_items": null,
            "align_self": null,
            "border": null,
            "bottom": null,
            "display": null,
            "flex": null,
            "flex_flow": null,
            "grid_area": null,
            "grid_auto_columns": null,
            "grid_auto_flow": null,
            "grid_auto_rows": null,
            "grid_column": null,
            "grid_gap": null,
            "grid_row": null,
            "grid_template_areas": null,
            "grid_template_columns": null,
            "grid_template_rows": null,
            "height": null,
            "justify_content": null,
            "justify_items": null,
            "left": null,
            "margin": null,
            "max_height": null,
            "max_width": null,
            "min_height": null,
            "min_width": null,
            "object_fit": null,
            "object_position": null,
            "order": null,
            "overflow": null,
            "overflow_x": null,
            "overflow_y": null,
            "padding": null,
            "right": null,
            "top": null,
            "visibility": null,
            "width": null
          }
        },
        "01a500874ee14888b38f6f2f6542a712": {
          "model_module": "@jupyter-widgets/base",
          "model_name": "LayoutModel",
          "model_module_version": "1.2.0",
          "state": {
            "_model_module": "@jupyter-widgets/base",
            "_model_module_version": "1.2.0",
            "_model_name": "LayoutModel",
            "_view_count": null,
            "_view_module": "@jupyter-widgets/base",
            "_view_module_version": "1.2.0",
            "_view_name": "LayoutView",
            "align_content": null,
            "align_items": null,
            "align_self": null,
            "border": null,
            "bottom": null,
            "display": null,
            "flex": null,
            "flex_flow": null,
            "grid_area": null,
            "grid_auto_columns": null,
            "grid_auto_flow": null,
            "grid_auto_rows": null,
            "grid_column": null,
            "grid_gap": null,
            "grid_row": null,
            "grid_template_areas": null,
            "grid_template_columns": null,
            "grid_template_rows": null,
            "height": null,
            "justify_content": null,
            "justify_items": null,
            "left": null,
            "margin": null,
            "max_height": null,
            "max_width": null,
            "min_height": null,
            "min_width": null,
            "object_fit": null,
            "object_position": null,
            "order": null,
            "overflow": null,
            "overflow_x": null,
            "overflow_y": null,
            "padding": null,
            "right": null,
            "top": null,
            "visibility": null,
            "width": null
          }
        },
        "a78e3d0d1b514b78bf925b000b1b38b5": {
          "model_module": "@jupyter-widgets/controls",
          "model_name": "DescriptionStyleModel",
          "model_module_version": "1.5.0",
          "state": {
            "_model_module": "@jupyter-widgets/controls",
            "_model_module_version": "1.5.0",
            "_model_name": "DescriptionStyleModel",
            "_view_count": null,
            "_view_module": "@jupyter-widgets/base",
            "_view_module_version": "1.2.0",
            "_view_name": "StyleView",
            "description_width": ""
          }
        },
        "2bc27c42dd36495b9c9f690b9cc0a1e6": {
          "model_module": "@jupyter-widgets/base",
          "model_name": "LayoutModel",
          "model_module_version": "1.2.0",
          "state": {
            "_model_module": "@jupyter-widgets/base",
            "_model_module_version": "1.2.0",
            "_model_name": "LayoutModel",
            "_view_count": null,
            "_view_module": "@jupyter-widgets/base",
            "_view_module_version": "1.2.0",
            "_view_name": "LayoutView",
            "align_content": null,
            "align_items": null,
            "align_self": null,
            "border": null,
            "bottom": null,
            "display": null,
            "flex": null,
            "flex_flow": null,
            "grid_area": null,
            "grid_auto_columns": null,
            "grid_auto_flow": null,
            "grid_auto_rows": null,
            "grid_column": null,
            "grid_gap": null,
            "grid_row": null,
            "grid_template_areas": null,
            "grid_template_columns": null,
            "grid_template_rows": null,
            "height": null,
            "justify_content": null,
            "justify_items": null,
            "left": null,
            "margin": null,
            "max_height": null,
            "max_width": null,
            "min_height": null,
            "min_width": null,
            "object_fit": null,
            "object_position": null,
            "order": null,
            "overflow": null,
            "overflow_x": null,
            "overflow_y": null,
            "padding": null,
            "right": null,
            "top": null,
            "visibility": null,
            "width": null
          }
        },
        "0f734b437d29407d9f6f7b60ca47d32f": {
          "model_module": "@jupyter-widgets/controls",
          "model_name": "ProgressStyleModel",
          "model_module_version": "1.5.0",
          "state": {
            "_model_module": "@jupyter-widgets/controls",
            "_model_module_version": "1.5.0",
            "_model_name": "ProgressStyleModel",
            "_view_count": null,
            "_view_module": "@jupyter-widgets/base",
            "_view_module_version": "1.2.0",
            "_view_name": "StyleView",
            "bar_color": null,
            "description_width": ""
          }
        },
        "58675e2e393c49e19f29bff421cbe64f": {
          "model_module": "@jupyter-widgets/base",
          "model_name": "LayoutModel",
          "model_module_version": "1.2.0",
          "state": {
            "_model_module": "@jupyter-widgets/base",
            "_model_module_version": "1.2.0",
            "_model_name": "LayoutModel",
            "_view_count": null,
            "_view_module": "@jupyter-widgets/base",
            "_view_module_version": "1.2.0",
            "_view_name": "LayoutView",
            "align_content": null,
            "align_items": null,
            "align_self": null,
            "border": null,
            "bottom": null,
            "display": null,
            "flex": null,
            "flex_flow": null,
            "grid_area": null,
            "grid_auto_columns": null,
            "grid_auto_flow": null,
            "grid_auto_rows": null,
            "grid_column": null,
            "grid_gap": null,
            "grid_row": null,
            "grid_template_areas": null,
            "grid_template_columns": null,
            "grid_template_rows": null,
            "height": null,
            "justify_content": null,
            "justify_items": null,
            "left": null,
            "margin": null,
            "max_height": null,
            "max_width": null,
            "min_height": null,
            "min_width": null,
            "object_fit": null,
            "object_position": null,
            "order": null,
            "overflow": null,
            "overflow_x": null,
            "overflow_y": null,
            "padding": null,
            "right": null,
            "top": null,
            "visibility": null,
            "width": null
          }
        },
        "88a95b0b87b4461484302a2dc206915a": {
          "model_module": "@jupyter-widgets/controls",
          "model_name": "DescriptionStyleModel",
          "model_module_version": "1.5.0",
          "state": {
            "_model_module": "@jupyter-widgets/controls",
            "_model_module_version": "1.5.0",
            "_model_name": "DescriptionStyleModel",
            "_view_count": null,
            "_view_module": "@jupyter-widgets/base",
            "_view_module_version": "1.2.0",
            "_view_name": "StyleView",
            "description_width": ""
          }
        }
      }
    }
  },
  "nbformat": 4,
  "nbformat_minor": 0
}