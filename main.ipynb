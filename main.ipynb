{
 "cells": [
  {
   "cell_type": "markdown",
   "metadata": {},
   "source": [
    "# Investigating commits"
   ]
  },
  {
   "cell_type": "markdown",
   "metadata": {},
   "source": [
    "## Setup"
   ]
  },
  {
   "cell_type": "code",
   "execution_count": 75,
   "metadata": {},
   "outputs": [],
   "source": [
    "import pytz\n",
    "from datetime import datetime\n",
    "import re"
   ]
  },
  {
   "cell_type": "code",
   "execution_count": 76,
   "metadata": {},
   "outputs": [],
   "source": [
    "# Convert the date to a datetime object\n",
    "cutoff_date = datetime(2022, 11, 30, tzinfo=pytz.utc)"
   ]
  },
  {
   "cell_type": "code",
   "execution_count": 77,
   "metadata": {},
   "outputs": [],
   "source": [
    "# Function to filter commits by date and keywords, and check for .md file changes\n",
    "def filter_commits(data):\n",
    "    cutoff_date = datetime(2022, 11, 30, tzinfo=pytz.utc)\n",
    "\n",
    "    filtered_commits = [commit for commit in data\n",
    "                        if is_commit_after_cutoff_date(commit['CommitAt'], cutoff_date)\n",
    "                        and is_commit_modifying_md_files(commit['Message'])]\n",
    "\n",
    "    return filtered_commits\n",
    "\n",
    "# Function to check if a commit is after the cutoff date\n",
    "def is_commit_after_cutoff_date(commit_datetime_str, cutoff_date):\n",
    "    commit_datetime = parse_commit_datetime(commit_datetime_str)\n",
    "    return commit_datetime and commit_datetime > cutoff_date\n",
    "\n",
    "# Function to check if a commit message indicates modification of .md files\n",
    "def is_commit_modifying_md_files(commit_message):\n",
    "    md_file_pattern = re.compile(r'\\b(\\S+\\.md)\\b', re.IGNORECASE)\n",
    "    return md_file_pattern.search(commit_message)\n",
    "\n",
    "# Function to parse the commit datetime string\n",
    "def parse_commit_datetime(datetime_str):\n",
    "    try:\n",
    "        # e.g. \"CommitAt\": \"2023-07-06T11:20:49.000-05:00\",\n",
    "        dt = datetime.strptime(datetime_str, '%Y-%m-%dT%H:%M:%S.%f%z')\n",
    "        return dt.astimezone(pytz.utc)\n",
    "    except ValueError:\n",
    "        return None"
   ]
  },
  {
   "cell_type": "markdown",
   "metadata": {},
   "source": [
    "## Opening snapshot files"
   ]
  },
  {
   "cell_type": "code",
   "execution_count": 81,
   "metadata": {},
   "outputs": [],
   "source": [
    "import json\n",
    "from pprint import pprint\n",
    "\n",
    "paths = [\n",
    "    './snapshot_20230727/20230727_200003_commit_sharings.json',\n",
    "    './snapshot_20230803/20230803_095317_commit_sharings.json',\n",
    "    './snapshot_20230810/20230810_124807_commit_sharings.json',\n",
    "    './snapshot_20230817/20230817_131244_commit_sharings.json',\n",
    "    './snapshot_20230824/20230824_102435_commit_sharings.json',\n",
    "    './snapshot_20230831/20230831_063412_commit_sharings.json',\n",
    "    './snapshot_20230907/20230907_110036_commit_sharings.json',\n",
    "    './snapshot_20230914/20230914_083202_commit_sharings.json',\n",
    "    './snapshot_20231012/20231012_230826_commit_sharings.json',\n",
    "]\n",
    "\n",
    "data = []\n",
    "snapshots = []\n",
    "\n",
    "# Load the JSON data from each path and add the snapshot name to each commit\n",
    "for path in paths:\n",
    "    with open(path) as f:\n",
    "        d = json.load(f)\n",
    "        snapshot_name = path.split('/')[-1]  # Extract snapshot name from path\n",
    "        for commit in d['Sources']:\n",
    "            commit['Snapshot'] = snapshot_name\n",
    "            data.append(commit)"
   ]
  },
  {
   "cell_type": "markdown",
   "metadata": {},
   "source": [
    "## Running"
   ]
  },
  {
   "cell_type": "code",
   "execution_count": 84,
   "metadata": {},
   "outputs": [
    {
     "name": "stdout",
     "output_type": "stream",
     "text": [
      "                            Snapshot                              RepoName                                                                                                                         Message                      CommitAt\n",
      "20230727_200003_commit_sharings.json                            Hack23/cia                               Update dashboard.md\\n\\nchatlog https://chat.openai.com/share/67ff0200-dad4-48f2-884e-ccada57974f6 2023-07-09T11:33:06.000+02:00\n",
      "20230727_200003_commit_sharings.json                    tisztamo/vueyourcv                                          Update README.md\\n\\nhttps://chat.openai.com/share/be79a950-1231-4e55-aae0-2a90d8962d1d 2023-06-26T13:49:10.000+02:00\n",
      "20230803_095317_commit_sharings.json                            Hack23/cia                               Update dashboard.md\\n\\nchatlog https://chat.openai.com/share/67ff0200-dad4-48f2-884e-ccada57974f6 2023-07-09T11:33:06.000+02:00\n",
      "20230803_095317_commit_sharings.json                    tisztamo/vueyourcv                                          Update README.md\\n\\nhttps://chat.openai.com/share/be79a950-1231-4e55-aae0-2a90d8962d1d 2023-06-26T13:49:10.000+02:00\n",
      "20230803_095317_commit_sharings.json                       tisztamo/Junior                           Improve documentation in README.md https://chat.openai.com/share/e2b8c622-6a3f-417d-9142-fbf60643a965 2023-07-31T11:29:54.000+02:00\n",
      "20230803_095317_commit_sharings.json                       tisztamo/Junior Refactor prompt.yaml creation and create projectSpecifics.md https://chat.openai.com/share/68fe4770-ee0e-4245-ab72-4fe09b45f4e9 2023-07-27T13:22:02.000+02:00\n",
      "20230810_124807_commit_sharings.json                    tisztamo/vueyourcv                                          Update README.md\\n\\nhttps://chat.openai.com/share/be79a950-1231-4e55-aae0-2a90d8962d1d 2023-06-26T13:49:10.000+02:00\n",
      "20230810_124807_commit_sharings.json                            Hack23/cia                               Update dashboard.md\\n\\nchatlog https://chat.openai.com/share/67ff0200-dad4-48f2-884e-ccada57974f6 2023-07-09T11:33:06.000+02:00\n",
      "20230810_124807_commit_sharings.json                       tisztamo/Junior             Rewrite system prompt in system.md to be concise https://chat.openai.com/share/e2cdc97c-ec36-452e-a6e1-646087e223f2 2023-08-09T14:07:28.000+02:00\n",
      "20230810_124807_commit_sharings.json                       tisztamo/Junior      Fix description of installedTools in docs/descriptor.md https://chat.openai.com/share/0df1cc4c-8454-457a-9cb2-d12298848036 2023-08-07T15:30:45.000+02:00\n",
      "20230810_124807_commit_sharings.json                       tisztamo/Junior Refactor prompt.yaml creation and create projectSpecifics.md https://chat.openai.com/share/68fe4770-ee0e-4245-ab72-4fe09b45f4e9 2023-07-27T13:22:02.000+02:00\n",
      "20230817_131244_commit_sharings.json                    tisztamo/vueyourcv                                          Update README.md\\n\\nhttps://chat.openai.com/share/be79a950-1231-4e55-aae0-2a90d8962d1d 2023-06-26T13:49:10.000+02:00\n",
      "20230817_131244_commit_sharings.json                            Hack23/cia                               Update dashboard.md\\n\\nchatlog https://chat.openai.com/share/67ff0200-dad4-48f2-884e-ccada57974f6 2023-07-09T11:33:06.000+02:00\n",
      "20230817_131244_commit_sharings.json                       tisztamo/Junior                         Update README.md as per requirements https://chat.openai.com/share/c8be7d22-e7e6-48c3-83e4-b4b75e0db58f 2023-08-08T12:11:35.000+02:00\n",
      "20230817_131244_commit_sharings.json                       tisztamo/Junior                        Update roadmap.md with completed task https://chat.openai.com/share/0bc5c1d5-f736-444a-a1c6-c8560afff010 2023-08-07T15:56:34.000+02:00\n",
      "20230817_131244_commit_sharings.json                       tisztamo/Junior                            Improve documentation in usage.md https://chat.openai.com/share/a784f3e5-1e66-4249-a5e7-96ccf499d045 2023-08-07T13:35:53.000+02:00\n",
      "20230817_131244_commit_sharings.json                       tisztamo/Junior                           Improve Junior project's README.md https://chat.openai.com/share/524146cc-2dee-4a6b-91d9-a66597c45c1a 2023-08-03T10:21:15.000+02:00\n",
      "20230817_131244_commit_sharings.json                       tisztamo/Junior                           Improve documentation in README.md https://chat.openai.com/share/e2b8c622-6a3f-417d-9142-fbf60643a965 2023-07-31T11:29:54.000+02:00\n",
      "20230824_102435_commit_sharings.json                    tisztamo/vueyourcv                                          Update README.md\\n\\nhttps://chat.openai.com/share/be79a950-1231-4e55-aae0-2a90d8962d1d 2023-06-26T13:49:10.000+02:00\n",
      "20230824_102435_commit_sharings.json                            Hack23/cia                               Update dashboard.md\\n\\nchatlog https://chat.openai.com/share/67ff0200-dad4-48f2-884e-ccada57974f6 2023-07-09T11:33:06.000+02:00\n",
      "20230824_102435_commit_sharings.json                       tisztamo/Junior                                    Update docs/descriptor.md https://chat.openai.com/share/f9d1c692-9808-49bf-8c4f-20e8acdef237 2023-08-22T16:13:49.000+02:00\n",
      "20230824_102435_commit_sharings.json                       tisztamo/Junior                      Improve documentation in docs/README.md https://chat.openai.com/share/1078eeab-70a4-45cb-a575-a0d8e2fb5313 2023-08-18T22:52:16.000+02:00\n",
      "20230824_102435_commit_sharings.json                       tisztamo/Junior                         Update README.md as per requirements https://chat.openai.com/share/c8be7d22-e7e6-48c3-83e4-b4b75e0db58f 2023-08-08T12:11:35.000+02:00\n",
      "20230824_102435_commit_sharings.json                       tisztamo/Junior                        Update roadmap.md with completed task https://chat.openai.com/share/0bc5c1d5-f736-444a-a1c6-c8560afff010 2023-08-07T15:56:34.000+02:00\n",
      "20230824_102435_commit_sharings.json                       tisztamo/Junior                            Improve documentation in usage.md https://chat.openai.com/share/a784f3e5-1e66-4249-a5e7-96ccf499d045 2023-08-07T13:35:53.000+02:00\n",
      "20230824_102435_commit_sharings.json                       tisztamo/Junior                           Improve Junior project's README.md https://chat.openai.com/share/524146cc-2dee-4a6b-91d9-a66597c45c1a 2023-08-03T10:21:15.000+02:00\n",
      "20230824_102435_commit_sharings.json                       tisztamo/Junior                           Improve documentation in README.md https://chat.openai.com/share/e2b8c622-6a3f-417d-9142-fbf60643a965 2023-07-31T11:29:54.000+02:00\n",
      "20230831_063412_commit_sharings.json                    tisztamo/vueyourcv                                          Update README.md\\n\\nhttps://chat.openai.com/share/be79a950-1231-4e55-aae0-2a90d8962d1d 2023-06-26T13:49:10.000+02:00\n",
      "20230831_063412_commit_sharings.json                            Hack23/cia                               Update dashboard.md\\n\\nchatlog https://chat.openai.com/share/67ff0200-dad4-48f2-884e-ccada57974f6 2023-07-09T11:33:06.000+02:00\n",
      "20230831_063412_commit_sharings.json                       tisztamo/Junior                                    Update docs/descriptor.md https://chat.openai.com/share/f9d1c692-9808-49bf-8c4f-20e8acdef237 2023-08-22T16:13:49.000+02:00\n",
      "20230831_063412_commit_sharings.json                       tisztamo/Junior             Rewrite system prompt in system.md to be concise https://chat.openai.com/share/e2cdc97c-ec36-452e-a6e1-646087e223f2 2023-08-09T14:07:28.000+02:00\n",
      "20230831_063412_commit_sharings.json                       tisztamo/Junior Refactor prompt.yaml creation and create projectSpecifics.md https://chat.openai.com/share/68fe4770-ee0e-4245-ab72-4fe09b45f4e9 2023-07-27T13:22:02.000+02:00\n",
      "20230831_063412_commit_sharings.json                       tisztamo/Junior                           Improve Junior project's README.md https://chat.openai.com/share/524146cc-2dee-4a6b-91d9-a66597c45c1a 2023-08-03T10:21:15.000+02:00\n",
      "20230831_063412_commit_sharings.json                       tisztamo/Junior                           Improve documentation in README.md https://chat.openai.com/share/e2b8c622-6a3f-417d-9142-fbf60643a965 2023-07-31T11:29:54.000+02:00\n",
      "20230831_063412_commit_sharings.json                       tisztamo/Junior                Update docs/open_jobs.md with project details https://chat.openai.com/share/8fc1705b-89fe-4582-8576-2d6b9c831b3f 2023-08-29T15:01:23.000+02:00\n",
      "20230831_063412_commit_sharings.json                       tisztamo/Junior             Rewrite system prompt in system.md to be concise https://chat.openai.com/share/e2cdc97c-ec36-452e-a6e1-646087e223f2 2023-08-09T14:07:28.000+02:00\n",
      "20230831_063412_commit_sharings.json                       tisztamo/Junior      Fix description of installedTools in docs/descriptor.md https://chat.openai.com/share/0df1cc4c-8454-457a-9cb2-d12298848036 2023-08-07T15:30:45.000+02:00\n",
      "20230831_063412_commit_sharings.json                       tisztamo/Junior Refactor prompt.yaml creation and create projectSpecifics.md https://chat.openai.com/share/68fe4770-ee0e-4245-ab72-4fe09b45f4e9 2023-07-27T13:22:02.000+02:00\n",
      "20230907_110036_commit_sharings.json eshreyareddy/prompting-zomato-reviews                                          Update README.md\\n\\nhttps://chat.openai.com/share/52d67aed-45fa-451d-bb95-46d8ba642fa8 2023-09-04T10:49:30.000+05:30\n",
      "20230907_110036_commit_sharings.json                    tisztamo/vueyourcv                                          Update README.md\\n\\nhttps://chat.openai.com/share/be79a950-1231-4e55-aae0-2a90d8962d1d 2023-06-26T13:49:10.000+02:00\n",
      "20230907_110036_commit_sharings.json                            Hack23/cia                               Update dashboard.md\\n\\nchatlog https://chat.openai.com/share/67ff0200-dad4-48f2-884e-ccada57974f6 2023-07-09T11:33:06.000+02:00\n",
      "20230907_110036_commit_sharings.json                       tisztamo/Junior                                    Update docs/descriptor.md https://chat.openai.com/share/f9d1c692-9808-49bf-8c4f-20e8acdef237 2023-08-22T16:13:49.000+02:00\n",
      "20230907_110036_commit_sharings.json                       tisztamo/Junior                      Improve documentation in docs/README.md https://chat.openai.com/share/1078eeab-70a4-45cb-a575-a0d8e2fb5313 2023-08-18T22:52:16.000+02:00\n",
      "20230907_110036_commit_sharings.json                       tisztamo/Junior                         Update README.md as per requirements https://chat.openai.com/share/c8be7d22-e7e6-48c3-83e4-b4b75e0db58f 2023-08-08T12:11:35.000+02:00\n",
      "20230907_110036_commit_sharings.json                       tisztamo/Junior                        Update roadmap.md with completed task https://chat.openai.com/share/0bc5c1d5-f736-444a-a1c6-c8560afff010 2023-08-07T15:56:34.000+02:00\n",
      "20230907_110036_commit_sharings.json                       tisztamo/Junior                            Improve documentation in usage.md https://chat.openai.com/share/a784f3e5-1e66-4249-a5e7-96ccf499d045 2023-08-07T13:35:53.000+02:00\n",
      "20230907_110036_commit_sharings.json                       tisztamo/Junior                           Improve Junior project's README.md https://chat.openai.com/share/524146cc-2dee-4a6b-91d9-a66597c45c1a 2023-08-03T10:21:15.000+02:00\n",
      "20230907_110036_commit_sharings.json                       tisztamo/Junior                           Improve documentation in README.md https://chat.openai.com/share/e2b8c622-6a3f-417d-9142-fbf60643a965 2023-07-31T11:29:54.000+02:00\n",
      "20230907_110036_commit_sharings.json                       tisztamo/Junior                Update docs/open_jobs.md with project details https://chat.openai.com/share/8fc1705b-89fe-4582-8576-2d6b9c831b3f 2023-08-29T15:01:23.000+02:00\n",
      "20230907_110036_commit_sharings.json                       tisztamo/Junior             Rewrite system prompt in system.md to be concise https://chat.openai.com/share/e2cdc97c-ec36-452e-a6e1-646087e223f2 2023-08-09T14:07:28.000+02:00\n",
      "20230907_110036_commit_sharings.json                       tisztamo/Junior      Fix description of installedTools in docs/descriptor.md https://chat.openai.com/share/0df1cc4c-8454-457a-9cb2-d12298848036 2023-08-07T15:30:45.000+02:00\n",
      "20230907_110036_commit_sharings.json                       tisztamo/Junior Refactor prompt.yaml creation and create projectSpecifics.md https://chat.openai.com/share/68fe4770-ee0e-4245-ab72-4fe09b45f4e9 2023-07-27T13:22:02.000+02:00\n",
      "20230914_083202_commit_sharings.json eshreyareddy/prompting-zomato-reviews                                          Update README.md\\n\\nhttps://chat.openai.com/share/52d67aed-45fa-451d-bb95-46d8ba642fa8 2023-09-04T10:49:30.000+05:30\n",
      "20230914_083202_commit_sharings.json                    tisztamo/vueyourcv                                          Update README.md\\n\\nhttps://chat.openai.com/share/be79a950-1231-4e55-aae0-2a90d8962d1d 2023-06-26T13:49:10.000+02:00\n",
      "20230914_083202_commit_sharings.json                            Hack23/cia                               Update dashboard.md\\n\\nchatlog https://chat.openai.com/share/67ff0200-dad4-48f2-884e-ccada57974f6 2023-07-09T11:33:06.000+02:00\n",
      "20230914_083202_commit_sharings.json                       tisztamo/Junior                                    Update docs/descriptor.md https://chat.openai.com/share/f9d1c692-9808-49bf-8c4f-20e8acdef237 2023-08-22T16:13:49.000+02:00\n",
      "20230914_083202_commit_sharings.json                       tisztamo/Junior                      Improve documentation in docs/README.md https://chat.openai.com/share/1078eeab-70a4-45cb-a575-a0d8e2fb5313 2023-08-18T22:52:16.000+02:00\n",
      "20230914_083202_commit_sharings.json                       tisztamo/Junior             Rewrite system prompt in system.md to be concise https://chat.openai.com/share/e2cdc97c-ec36-452e-a6e1-646087e223f2 2023-08-09T14:07:28.000+02:00\n",
      "20230914_083202_commit_sharings.json                       tisztamo/Junior      Fix description of installedTools in docs/descriptor.md https://chat.openai.com/share/0df1cc4c-8454-457a-9cb2-d12298848036 2023-08-07T15:30:45.000+02:00\n",
      "20230914_083202_commit_sharings.json                       tisztamo/Junior                Update docs/open_jobs.md with project details https://chat.openai.com/share/8fc1705b-89fe-4582-8576-2d6b9c831b3f 2023-08-29T15:01:23.000+02:00\n",
      "20230914_083202_commit_sharings.json                       tisztamo/Junior             Rewrite system prompt in system.md to be concise https://chat.openai.com/share/e2cdc97c-ec36-452e-a6e1-646087e223f2 2023-08-09T14:07:28.000+02:00\n",
      "20230914_083202_commit_sharings.json                       tisztamo/Junior      Fix description of installedTools in docs/descriptor.md https://chat.openai.com/share/0df1cc4c-8454-457a-9cb2-d12298848036 2023-08-07T15:30:45.000+02:00\n",
      "20230914_083202_commit_sharings.json                       tisztamo/Junior Refactor prompt.yaml creation and create projectSpecifics.md https://chat.openai.com/share/68fe4770-ee0e-4245-ab72-4fe09b45f4e9 2023-07-27T13:22:02.000+02:00\n",
      "20231012_230826_commit_sharings.json                 Hajaradnan/Hajaradnan                                          Create README.md\\n\\nhttps://chat.openai.com/share/49eb1aff-ce9a-4373-ad28-348c2b5addcd 2023-09-24T14:13:30.000+01:00\n",
      "20231012_230826_commit_sharings.json eshreyareddy/prompting-zomato-reviews                                          Update README.md\\n\\nhttps://chat.openai.com/share/52d67aed-45fa-451d-bb95-46d8ba642fa8 2023-09-04T10:49:30.000+05:30\n",
      "20231012_230826_commit_sharings.json                    tisztamo/vueyourcv                                          Update README.md\\n\\nhttps://chat.openai.com/share/be79a950-1231-4e55-aae0-2a90d8962d1d 2023-06-26T13:49:10.000+02:00\n",
      "20231012_230826_commit_sharings.json                            Hack23/cia                               Update dashboard.md\\n\\nchatlog https://chat.openai.com/share/67ff0200-dad4-48f2-884e-ccada57974f6 2023-07-09T11:33:06.000+02:00\n",
      "20231012_230826_commit_sharings.json                       tisztamo/Junior                                    Update docs/descriptor.md https://chat.openai.com/share/f9d1c692-9808-49bf-8c4f-20e8acdef237 2023-08-22T16:13:49.000+02:00\n",
      "20231012_230826_commit_sharings.json                       tisztamo/Junior                      Improve documentation in docs/README.md https://chat.openai.com/share/1078eeab-70a4-45cb-a575-a0d8e2fb5313 2023-08-18T22:52:16.000+02:00\n",
      "20231012_230826_commit_sharings.json                       tisztamo/Junior                         Update README.md as per requirements https://chat.openai.com/share/c8be7d22-e7e6-48c3-83e4-b4b75e0db58f 2023-08-08T12:11:35.000+02:00\n",
      "20231012_230826_commit_sharings.json                       tisztamo/Junior                        Update roadmap.md with completed task https://chat.openai.com/share/0bc5c1d5-f736-444a-a1c6-c8560afff010 2023-08-07T15:56:34.000+02:00\n",
      "20231012_230826_commit_sharings.json                       tisztamo/Junior                            Improve documentation in usage.md https://chat.openai.com/share/a784f3e5-1e66-4249-a5e7-96ccf499d045 2023-08-07T13:35:53.000+02:00\n",
      "20231012_230826_commit_sharings.json                       tisztamo/Junior                           Improve Junior project's README.md https://chat.openai.com/share/524146cc-2dee-4a6b-91d9-a66597c45c1a 2023-08-03T10:21:15.000+02:00\n",
      "20231012_230826_commit_sharings.json                       tisztamo/Junior Generate docs/config/env_or_cli.md for Junior configurations https://chat.openai.com/share/d7e0f6ad-02e2-4ffd-a670-91c0379d0e74 2023-09-29T16:26:34.000+02:00\n",
      "20231012_230826_commit_sharings.json                       tisztamo/Junior                           Improve documentation in README.md https://chat.openai.com/share/e2b8c622-6a3f-417d-9142-fbf60643a965 2023-07-31T11:29:54.000+02:00\n",
      "20231012_230826_commit_sharings.json                       tisztamo/Junior                Update docs/open_jobs.md with project details https://chat.openai.com/share/8fc1705b-89fe-4582-8576-2d6b9c831b3f 2023-08-29T15:01:23.000+02:00\n",
      "20231012_230826_commit_sharings.json                       tisztamo/Junior             Rewrite system prompt in system.md to be concise https://chat.openai.com/share/e2cdc97c-ec36-452e-a6e1-646087e223f2 2023-08-09T14:07:28.000+02:00\n",
      "20231012_230826_commit_sharings.json                       tisztamo/Junior      Fix description of installedTools in docs/descriptor.md https://chat.openai.com/share/0df1cc4c-8454-457a-9cb2-d12298848036 2023-08-07T15:30:45.000+02:00\n",
      "20231012_230826_commit_sharings.json                       tisztamo/Junior Refactor prompt.yaml creation and create projectSpecifics.md https://chat.openai.com/share/68fe4770-ee0e-4245-ab72-4fe09b45f4e9 2023-07-27T13:22:02.000+02:00\n"
     ]
    }
   ],
   "source": [
    "import pandas as pd\n",
    "\n",
    "# Filter the commits based on the cutoff date and .md file modifications\n",
    "filtered_commits = filter_commits(data)\n",
    "\n",
    "# Create a DataFrame to display the filtered commits\n",
    "df = pd.DataFrame(filtered_commits, columns=['Snapshot', 'RepoName', 'Message', 'CommitAt'])\n",
    "\n",
    "# Print the filtered commits as a table\n",
    "print(df.to_string(index=False))"
   ]
  },
  {
   "cell_type": "code",
   "execution_count": null,
   "metadata": {},
   "outputs": [],
   "source": []
  }
 ],
 "metadata": {
  "kernelspec": {
   "display_name": "base",
   "language": "python",
   "name": "python3"
  },
  "language_info": {
   "codemirror_mode": {
    "name": "ipython",
    "version": 3
   },
   "file_extension": ".py",
   "mimetype": "text/x-python",
   "name": "python",
   "nbconvert_exporter": "python",
   "pygments_lexer": "ipython3",
   "version": "3.9.18"
  }
 },
 "nbformat": 4,
 "nbformat_minor": 2
}
