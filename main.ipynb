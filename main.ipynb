{
 "cells": [
  {
   "cell_type": "markdown",
   "metadata": {},
   "source": [
    "# investigating commits"
   ]
  },
  {
   "cell_type": "markdown",
   "metadata": {},
   "source": [
    "## setup - importing json and keyword txt"
   ]
  },
  {
   "cell_type": "code",
   "execution_count": 46,
   "metadata": {},
   "outputs": [],
   "source": [
    "import json\n",
    "from pprint import pprint\n",
    "\n",
    "with open('./snapshot_20230727/20230727_200003_commit_sharings.json') as f:\n",
    "    d = json.load(f)\n",
    "    data = d['Sources']"
   ]
  },
  {
   "cell_type": "code",
   "execution_count": 47,
   "metadata": {},
   "outputs": [],
   "source": [
    "# Read keywords from the text file\n",
    "with open('keywords.txt', 'r') as file:\n",
    "    keywords = [line.strip() for line in file.readlines()]\n",
    "\n",
    "    # For checking\n",
    "    # print(keywords)"
   ]
  },
  {
   "cell_type": "markdown",
   "metadata": {},
   "source": [
    "# filtering"
   ]
  },
  {
   "cell_type": "code",
   "execution_count": 48,
   "metadata": {},
   "outputs": [],
   "source": [
    "import pytz\n",
    "from datetime import datetime\n",
    "import re"
   ]
  },
  {
   "cell_type": "code",
   "execution_count": 49,
   "metadata": {},
   "outputs": [],
   "source": [
    "# Convert the date to a datetime object\n",
    "cutoff_date = datetime(2022, 11, 30, tzinfo=pytz.utc)"
   ]
  },
  {
   "cell_type": "markdown",
   "metadata": {},
   "source": [
    "## utility functions"
   ]
  },
  {
   "cell_type": "code",
   "execution_count": 53,
   "metadata": {},
   "outputs": [],
   "source": [
    "# Function to filter commits by date and keywords\n",
    "def filter_commits_by_date_and_keywords(data, keywords):\n",
    "    cutoff_date = datetime(2022, 11, 30, tzinfo=pytz.utc)\n",
    "    relevant_keywords_pattern = r'({})'.format('|'.join(keywords))\n",
    "\n",
    "    filtered_commits = [commit for commit in data\n",
    "                        if is_commit_after_cutoff_date(commit['CommitAt'], cutoff_date)\n",
    "                        and is_commit_relevant(commit['Message'], relevant_keywords_pattern)]\n",
    "\n",
    "    return filtered_commits\n",
    "\n",
    "# Function to check if a commit is after the cutoff date\n",
    "def is_commit_after_cutoff_date(commit_datetime_str, cutoff_date):\n",
    "    commit_datetime = parse_commit_datetime(commit_datetime_str)\n",
    "    return commit_datetime and commit_datetime > cutoff_date\n",
    "\n",
    "# Function to check if a commit message contains relevant keywords\n",
    "def is_commit_relevant(commit_message, relevant_keywords_pattern):\n",
    "    return bool(re.search(relevant_keywords_pattern, commit_message, re.IGNORECASE))\n",
    "\n",
    "# Function to parse the commit datetime string\n",
    "def parse_commit_datetime(datetime_str):\n",
    "    try:\n",
    "        # e.g. \"CommitAt\": \"2023-07-06T11:20:49.000-05:00\",\n",
    "        dt = datetime.strptime(datetime_str, '%Y-%m-%dT%H:%M:%S.%f%z')\n",
    "        return dt.astimezone(pytz.utc)\n",
    "    except ValueError:\n",
    "        return None"
   ]
  },
  {
   "cell_type": "code",
   "execution_count": 54,
   "metadata": {},
   "outputs": [],
   "source": [
    "# Filter the commits based on the cutoff date and relevant keywords\n",
    "filtered_commits = filter_commits_by_date_and_keywords(data, keywords)\n",
    "\n",
    "# Print the filtered commits\n",
    "for commit in filtered_commits:\n",
    "    print(f\"Repository Name: {commit['RepoName']}\")\n",
    "    print(f\"Commit Message: {commit['Message']}\")\n",
    "    print(f\"Commit Date: {commit['CommitAt']}\")\n",
    "    print(\"---\")"
   ]
  },
  {
   "cell_type": "code",
   "execution_count": 55,
   "metadata": {},
   "outputs": [
    {
     "name": "stdout",
     "output_type": "stream",
     "text": [
      "original length:  179\n",
      "filtered length:  0\n"
     ]
    }
   ],
   "source": [
    "# all commits are beyond 2023\n",
    "print('original length: ', len(data))\n",
    "print('filtered length: ', len(filtered_commits))"
   ]
  },
  {
   "cell_type": "code",
   "execution_count": null,
   "metadata": {},
   "outputs": [],
   "source": []
  }
 ],
 "metadata": {
  "kernelspec": {
   "display_name": "base",
   "language": "python",
   "name": "python3"
  },
  "language_info": {
   "codemirror_mode": {
    "name": "ipython",
    "version": 3
   },
   "file_extension": ".py",
   "mimetype": "text/x-python",
   "name": "python",
   "nbconvert_exporter": "python",
   "pygments_lexer": "ipython3",
   "version": "3.9.18"
  }
 },
 "nbformat": 4,
 "nbformat_minor": 2
}
